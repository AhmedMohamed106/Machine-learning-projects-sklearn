{
  "nbformat": 4,
  "nbformat_minor": 0,
  "metadata": {
    "colab": {
      "name": "iris__data.ipynb",
      "provenance": [],
      "authorship_tag": "ABX9TyOeQFSqQ4uHBxePtIwaAlBM",
      "include_colab_link": true
    },
    "kernelspec": {
      "name": "python3",
      "display_name": "Python 3"
    },
    "language_info": {
      "name": "python"
    }
  },
  "cells": [
    {
      "cell_type": "markdown",
      "metadata": {
        "id": "view-in-github",
        "colab_type": "text"
      },
      "source": [
        "<a href=\"https://colab.research.google.com/github/ahmedmek1/Machine-learning-projects-sklearn/blob/main/iris__data.ipynb\" target=\"_parent\"><img src=\"https://colab.research.google.com/assets/colab-badge.svg\" alt=\"Open In Colab\"/></a>"
      ]
    },
    {
      "cell_type": "code",
      "metadata": {
        "id": "oCT10V2lyp4u"
      },
      "source": [
        "#import important libraries \n",
        "\n",
        "from sklearn.datasets import load_iris\n",
        "import numpy as np\n",
        "import pandas as pd\n",
        "from sklearn.impute import SimpleImputer as sms # finding the missing values and replacing it\n",
        "\n"
      ],
      "execution_count": 27,
      "outputs": []
    },
    {
      "cell_type": "code",
      "metadata": {
        "id": "DxeXsINey9_-"
      },
      "source": [
        "#loading the data and divide it into X , Y\n",
        "data_iris = load_iris()\n",
        "X = data_iris.data\n",
        "Y = data_iris.target\n",
        "#target_names = data_iris.target_names\n",
        "sm = sms(missing_values= np.nan , strategy='mean' , verbose= 0)\n",
        "mx = sm.fit(X)\n",
        "X = mx.transform()"
      ],
      "execution_count": 28,
      "outputs": []
    },
    {
      "cell_type": "code",
      "metadata": {
        "colab": {
          "base_uri": "https://localhost:8080/"
        },
        "id": "qUaI_kNJy-CB",
        "outputId": "2578a4ed-c593-4924-b75a-e4b5ee7e74a4"
      },
      "source": [
        "print(X.shape)\n",
        "print(Y.shape)"
      ],
      "execution_count": 7,
      "outputs": [
        {
          "output_type": "stream",
          "name": "stdout",
          "text": [
            "(150, 4)\n",
            "(150,)\n"
          ]
        }
      ]
    },
    {
      "cell_type": "code",
      "metadata": {
        "colab": {
          "base_uri": "https://localhost:8080/"
        },
        "id": "BKlBXc7Dy-Fc",
        "outputId": "60ef6fd7-490f-4442-a3e9-fb80f95ff3f8"
      },
      "source": [
        "print('the first five training examples \\n' ,X[:5])\n",
        "print('\\nthe target of the first five training examples\\n',Y[:5])\n",
        "#print('\\n the target names of the first five examples' , target_names[:20])"
      ],
      "execution_count": 25,
      "outputs": [
        {
          "output_type": "stream",
          "name": "stdout",
          "text": [
            "the first five training examples \n",
            " [[5.1 3.5 1.4 0.2]\n",
            " [4.9 3.  1.4 0.2]\n",
            " [4.7 3.2 1.3 0.2]\n",
            " [4.6 3.1 1.5 0.2]\n",
            " [5.  3.6 1.4 0.2]]\n",
            "\n",
            "the target of the first five training examples\n",
            " [0 0 0 0 0]\n",
            "\n",
            " the target names of the first five examples ['setosa' 'versicolor' 'virginica']\n"
          ]
        }
      ]
    },
    {
      "cell_type": "code",
      "metadata": {
        "id": "0uGm7UaLy-Qr"
      },
      "source": [
        ""
      ],
      "execution_count": null,
      "outputs": []
    },
    {
      "cell_type": "code",
      "metadata": {
        "id": "dM4Y853-y-SQ"
      },
      "source": [
        ""
      ],
      "execution_count": null,
      "outputs": []
    },
    {
      "cell_type": "code",
      "metadata": {
        "id": "T8pKBv7my-Wc"
      },
      "source": [
        ""
      ],
      "execution_count": null,
      "outputs": []
    },
    {
      "cell_type": "code",
      "metadata": {
        "id": "3sPnMlYpy-f_"
      },
      "source": [
        ""
      ],
      "execution_count": null,
      "outputs": []
    },
    {
      "cell_type": "code",
      "metadata": {
        "id": "QKraB9zBy-hc"
      },
      "source": [
        ""
      ],
      "execution_count": null,
      "outputs": []
    }
  ]
}