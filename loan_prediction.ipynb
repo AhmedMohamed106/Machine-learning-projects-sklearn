{
  "cells": [
    {
      "cell_type": "markdown",
      "metadata": {
        "id": "view-in-github",
        "colab_type": "text"
      },
      "source": [
        "<a href=\"https://colab.research.google.com/github/ahmedmek1/Machine-learning-projects-sklearn/blob/main/loan_prediction.ipynb\" target=\"_parent\"><img src=\"https://colab.research.google.com/assets/colab-badge.svg\" alt=\"Open In Colab\"/></a>"
      ]
    },
    {
      "cell_type": "code",
      "source": [
        "#Connect to google drive \n",
        "from google.colab import drive\n",
        "drive.mount('/content/drive')"
      ],
      "metadata": {
        "colab": {
          "base_uri": "https://localhost:8080/"
        },
        "id": "mD3uXN9M0yd1",
        "outputId": "021f1027-c66c-404c-a610-6294672cc814"
      },
      "execution_count": 1,
      "outputs": [
        {
          "output_type": "stream",
          "name": "stdout",
          "text": [
            "Mounted at /content/drive\n"
          ]
        }
      ]
    },
    {
      "cell_type": "code",
      "source": [
        "%cd /content/drive/My Drive/Colab Notebooks/\n"
      ],
      "metadata": {
        "colab": {
          "base_uri": "https://localhost:8080/"
        },
        "id": "6GCtAKrG0ybL",
        "outputId": "048303eb-fb22-4c66-922f-228539bf1b6d"
      },
      "execution_count": 2,
      "outputs": [
        {
          "output_type": "stream",
          "name": "stdout",
          "text": [
            "/content/drive/My Drive/Colab Notebooks\n"
          ]
        }
      ]
    },
    {
      "cell_type": "code",
      "execution_count": 3,
      "metadata": {
        "id": "JTN_zWmz0YOC"
      },
      "outputs": [],
      "source": [
        "import pandas as pd\n",
        "import numpy as np\n",
        "import seaborn as sns\n",
        "import matplotlib.pyplot as plt\n",
        "%matplotlib inline\n",
        "import warnings\n",
        "warnings.filterwarnings(\"ignore\")"
      ]
    },
    {
      "cell_type": "code",
      "source": [
        ""
      ],
      "metadata": {
        "id": "feDX0UGK0xm1"
      },
      "execution_count": 3,
      "outputs": []
    },
    {
      "cell_type": "code",
      "execution_count": 4,
      "metadata": {
        "id": "-6oBN4860YOM"
      },
      "outputs": [],
      "source": [
        "train=pd.read_csv(\"train_loan.csv\")\n",
        "test=pd.read_csv(\"test_loan.csv\")"
      ]
    },
    {
      "cell_type": "code",
      "execution_count": 5,
      "metadata": {
        "colab": {
          "base_uri": "https://localhost:8080/",
          "height": 206
        },
        "id": "_ulHtQq20YON",
        "outputId": "7f2f6a21-eec0-4a9f-f429-1fc6372d20b0"
      },
      "outputs": [
        {
          "output_type": "execute_result",
          "data": {
            "text/plain": [
              "    Loan_ID Gender Married Dependents     Education Self_Employed  \\\n",
              "0  LP001002   Male      No          0      Graduate            No   \n",
              "1  LP001003   Male     Yes          1      Graduate            No   \n",
              "2  LP001005   Male     Yes          0      Graduate           Yes   \n",
              "3  LP001006   Male     Yes          0  Not Graduate            No   \n",
              "4  LP001008   Male      No          0      Graduate            No   \n",
              "\n",
              "   ApplicantIncome  CoapplicantIncome  LoanAmount  Loan_Amount_Term  \\\n",
              "0             5849                0.0         NaN             360.0   \n",
              "1             4583             1508.0       128.0             360.0   \n",
              "2             3000                0.0        66.0             360.0   \n",
              "3             2583             2358.0       120.0             360.0   \n",
              "4             6000                0.0       141.0             360.0   \n",
              "\n",
              "   Credit_History Property_Area Loan_Status  \n",
              "0             1.0         Urban           Y  \n",
              "1             1.0         Rural           N  \n",
              "2             1.0         Urban           Y  \n",
              "3             1.0         Urban           Y  \n",
              "4             1.0         Urban           Y  "
            ],
            "text/html": [
              "\n",
              "  <div id=\"df-a01943ef-8870-4dfb-9869-11f831b8c4e8\">\n",
              "    <div class=\"colab-df-container\">\n",
              "      <div>\n",
              "<style scoped>\n",
              "    .dataframe tbody tr th:only-of-type {\n",
              "        vertical-align: middle;\n",
              "    }\n",
              "\n",
              "    .dataframe tbody tr th {\n",
              "        vertical-align: top;\n",
              "    }\n",
              "\n",
              "    .dataframe thead th {\n",
              "        text-align: right;\n",
              "    }\n",
              "</style>\n",
              "<table border=\"1\" class=\"dataframe\">\n",
              "  <thead>\n",
              "    <tr style=\"text-align: right;\">\n",
              "      <th></th>\n",
              "      <th>Loan_ID</th>\n",
              "      <th>Gender</th>\n",
              "      <th>Married</th>\n",
              "      <th>Dependents</th>\n",
              "      <th>Education</th>\n",
              "      <th>Self_Employed</th>\n",
              "      <th>ApplicantIncome</th>\n",
              "      <th>CoapplicantIncome</th>\n",
              "      <th>LoanAmount</th>\n",
              "      <th>Loan_Amount_Term</th>\n",
              "      <th>Credit_History</th>\n",
              "      <th>Property_Area</th>\n",
              "      <th>Loan_Status</th>\n",
              "    </tr>\n",
              "  </thead>\n",
              "  <tbody>\n",
              "    <tr>\n",
              "      <th>0</th>\n",
              "      <td>LP001002</td>\n",
              "      <td>Male</td>\n",
              "      <td>No</td>\n",
              "      <td>0</td>\n",
              "      <td>Graduate</td>\n",
              "      <td>No</td>\n",
              "      <td>5849</td>\n",
              "      <td>0.0</td>\n",
              "      <td>NaN</td>\n",
              "      <td>360.0</td>\n",
              "      <td>1.0</td>\n",
              "      <td>Urban</td>\n",
              "      <td>Y</td>\n",
              "    </tr>\n",
              "    <tr>\n",
              "      <th>1</th>\n",
              "      <td>LP001003</td>\n",
              "      <td>Male</td>\n",
              "      <td>Yes</td>\n",
              "      <td>1</td>\n",
              "      <td>Graduate</td>\n",
              "      <td>No</td>\n",
              "      <td>4583</td>\n",
              "      <td>1508.0</td>\n",
              "      <td>128.0</td>\n",
              "      <td>360.0</td>\n",
              "      <td>1.0</td>\n",
              "      <td>Rural</td>\n",
              "      <td>N</td>\n",
              "    </tr>\n",
              "    <tr>\n",
              "      <th>2</th>\n",
              "      <td>LP001005</td>\n",
              "      <td>Male</td>\n",
              "      <td>Yes</td>\n",
              "      <td>0</td>\n",
              "      <td>Graduate</td>\n",
              "      <td>Yes</td>\n",
              "      <td>3000</td>\n",
              "      <td>0.0</td>\n",
              "      <td>66.0</td>\n",
              "      <td>360.0</td>\n",
              "      <td>1.0</td>\n",
              "      <td>Urban</td>\n",
              "      <td>Y</td>\n",
              "    </tr>\n",
              "    <tr>\n",
              "      <th>3</th>\n",
              "      <td>LP001006</td>\n",
              "      <td>Male</td>\n",
              "      <td>Yes</td>\n",
              "      <td>0</td>\n",
              "      <td>Not Graduate</td>\n",
              "      <td>No</td>\n",
              "      <td>2583</td>\n",
              "      <td>2358.0</td>\n",
              "      <td>120.0</td>\n",
              "      <td>360.0</td>\n",
              "      <td>1.0</td>\n",
              "      <td>Urban</td>\n",
              "      <td>Y</td>\n",
              "    </tr>\n",
              "    <tr>\n",
              "      <th>4</th>\n",
              "      <td>LP001008</td>\n",
              "      <td>Male</td>\n",
              "      <td>No</td>\n",
              "      <td>0</td>\n",
              "      <td>Graduate</td>\n",
              "      <td>No</td>\n",
              "      <td>6000</td>\n",
              "      <td>0.0</td>\n",
              "      <td>141.0</td>\n",
              "      <td>360.0</td>\n",
              "      <td>1.0</td>\n",
              "      <td>Urban</td>\n",
              "      <td>Y</td>\n",
              "    </tr>\n",
              "  </tbody>\n",
              "</table>\n",
              "</div>\n",
              "      <button class=\"colab-df-convert\" onclick=\"convertToInteractive('df-a01943ef-8870-4dfb-9869-11f831b8c4e8')\"\n",
              "              title=\"Convert this dataframe to an interactive table.\"\n",
              "              style=\"display:none;\">\n",
              "        \n",
              "  <svg xmlns=\"http://www.w3.org/2000/svg\" height=\"24px\"viewBox=\"0 0 24 24\"\n",
              "       width=\"24px\">\n",
              "    <path d=\"M0 0h24v24H0V0z\" fill=\"none\"/>\n",
              "    <path d=\"M18.56 5.44l.94 2.06.94-2.06 2.06-.94-2.06-.94-.94-2.06-.94 2.06-2.06.94zm-11 1L8.5 8.5l.94-2.06 2.06-.94-2.06-.94L8.5 2.5l-.94 2.06-2.06.94zm10 10l.94 2.06.94-2.06 2.06-.94-2.06-.94-.94-2.06-.94 2.06-2.06.94z\"/><path d=\"M17.41 7.96l-1.37-1.37c-.4-.4-.92-.59-1.43-.59-.52 0-1.04.2-1.43.59L10.3 9.45l-7.72 7.72c-.78.78-.78 2.05 0 2.83L4 21.41c.39.39.9.59 1.41.59.51 0 1.02-.2 1.41-.59l7.78-7.78 2.81-2.81c.8-.78.8-2.07 0-2.86zM5.41 20L4 18.59l7.72-7.72 1.47 1.35L5.41 20z\"/>\n",
              "  </svg>\n",
              "      </button>\n",
              "      \n",
              "  <style>\n",
              "    .colab-df-container {\n",
              "      display:flex;\n",
              "      flex-wrap:wrap;\n",
              "      gap: 12px;\n",
              "    }\n",
              "\n",
              "    .colab-df-convert {\n",
              "      background-color: #E8F0FE;\n",
              "      border: none;\n",
              "      border-radius: 50%;\n",
              "      cursor: pointer;\n",
              "      display: none;\n",
              "      fill: #1967D2;\n",
              "      height: 32px;\n",
              "      padding: 0 0 0 0;\n",
              "      width: 32px;\n",
              "    }\n",
              "\n",
              "    .colab-df-convert:hover {\n",
              "      background-color: #E2EBFA;\n",
              "      box-shadow: 0px 1px 2px rgba(60, 64, 67, 0.3), 0px 1px 3px 1px rgba(60, 64, 67, 0.15);\n",
              "      fill: #174EA6;\n",
              "    }\n",
              "\n",
              "    [theme=dark] .colab-df-convert {\n",
              "      background-color: #3B4455;\n",
              "      fill: #D2E3FC;\n",
              "    }\n",
              "\n",
              "    [theme=dark] .colab-df-convert:hover {\n",
              "      background-color: #434B5C;\n",
              "      box-shadow: 0px 1px 3px 1px rgba(0, 0, 0, 0.15);\n",
              "      filter: drop-shadow(0px 1px 2px rgba(0, 0, 0, 0.3));\n",
              "      fill: #FFFFFF;\n",
              "    }\n",
              "  </style>\n",
              "\n",
              "      <script>\n",
              "        const buttonEl =\n",
              "          document.querySelector('#df-a01943ef-8870-4dfb-9869-11f831b8c4e8 button.colab-df-convert');\n",
              "        buttonEl.style.display =\n",
              "          google.colab.kernel.accessAllowed ? 'block' : 'none';\n",
              "\n",
              "        async function convertToInteractive(key) {\n",
              "          const element = document.querySelector('#df-a01943ef-8870-4dfb-9869-11f831b8c4e8');\n",
              "          const dataTable =\n",
              "            await google.colab.kernel.invokeFunction('convertToInteractive',\n",
              "                                                     [key], {});\n",
              "          if (!dataTable) return;\n",
              "\n",
              "          const docLinkHtml = 'Like what you see? Visit the ' +\n",
              "            '<a target=\"_blank\" href=https://colab.research.google.com/notebooks/data_table.ipynb>data table notebook</a>'\n",
              "            + ' to learn more about interactive tables.';\n",
              "          element.innerHTML = '';\n",
              "          dataTable['output_type'] = 'display_data';\n",
              "          await google.colab.output.renderOutput(dataTable, element);\n",
              "          const docLink = document.createElement('div');\n",
              "          docLink.innerHTML = docLinkHtml;\n",
              "          element.appendChild(docLink);\n",
              "        }\n",
              "      </script>\n",
              "    </div>\n",
              "  </div>\n",
              "  "
            ]
          },
          "metadata": {},
          "execution_count": 5
        }
      ],
      "source": [
        "train.head()"
      ]
    },
    {
      "cell_type": "code",
      "execution_count": 6,
      "metadata": {
        "colab": {
          "base_uri": "https://localhost:8080/",
          "height": 206
        },
        "id": "AaNKQwq40YOP",
        "outputId": "0ac02042-57ff-4241-e84a-dbcbe9d75a39"
      },
      "outputs": [
        {
          "output_type": "execute_result",
          "data": {
            "text/plain": [
              "    Loan_ID Gender Married Dependents     Education Self_Employed  \\\n",
              "0  LP001015   Male     Yes          0      Graduate            No   \n",
              "1  LP001022   Male     Yes          1      Graduate            No   \n",
              "2  LP001031   Male     Yes          2      Graduate            No   \n",
              "3  LP001035   Male     Yes          2      Graduate            No   \n",
              "4  LP001051   Male      No          0  Not Graduate            No   \n",
              "\n",
              "   ApplicantIncome  CoapplicantIncome  LoanAmount  Loan_Amount_Term  \\\n",
              "0             5720                  0       110.0             360.0   \n",
              "1             3076               1500       126.0             360.0   \n",
              "2             5000               1800       208.0             360.0   \n",
              "3             2340               2546       100.0             360.0   \n",
              "4             3276                  0        78.0             360.0   \n",
              "\n",
              "   Credit_History Property_Area  \n",
              "0             1.0         Urban  \n",
              "1             1.0         Urban  \n",
              "2             1.0         Urban  \n",
              "3             NaN         Urban  \n",
              "4             1.0         Urban  "
            ],
            "text/html": [
              "\n",
              "  <div id=\"df-42cee391-520a-4b3f-94fa-49083172c0d4\">\n",
              "    <div class=\"colab-df-container\">\n",
              "      <div>\n",
              "<style scoped>\n",
              "    .dataframe tbody tr th:only-of-type {\n",
              "        vertical-align: middle;\n",
              "    }\n",
              "\n",
              "    .dataframe tbody tr th {\n",
              "        vertical-align: top;\n",
              "    }\n",
              "\n",
              "    .dataframe thead th {\n",
              "        text-align: right;\n",
              "    }\n",
              "</style>\n",
              "<table border=\"1\" class=\"dataframe\">\n",
              "  <thead>\n",
              "    <tr style=\"text-align: right;\">\n",
              "      <th></th>\n",
              "      <th>Loan_ID</th>\n",
              "      <th>Gender</th>\n",
              "      <th>Married</th>\n",
              "      <th>Dependents</th>\n",
              "      <th>Education</th>\n",
              "      <th>Self_Employed</th>\n",
              "      <th>ApplicantIncome</th>\n",
              "      <th>CoapplicantIncome</th>\n",
              "      <th>LoanAmount</th>\n",
              "      <th>Loan_Amount_Term</th>\n",
              "      <th>Credit_History</th>\n",
              "      <th>Property_Area</th>\n",
              "    </tr>\n",
              "  </thead>\n",
              "  <tbody>\n",
              "    <tr>\n",
              "      <th>0</th>\n",
              "      <td>LP001015</td>\n",
              "      <td>Male</td>\n",
              "      <td>Yes</td>\n",
              "      <td>0</td>\n",
              "      <td>Graduate</td>\n",
              "      <td>No</td>\n",
              "      <td>5720</td>\n",
              "      <td>0</td>\n",
              "      <td>110.0</td>\n",
              "      <td>360.0</td>\n",
              "      <td>1.0</td>\n",
              "      <td>Urban</td>\n",
              "    </tr>\n",
              "    <tr>\n",
              "      <th>1</th>\n",
              "      <td>LP001022</td>\n",
              "      <td>Male</td>\n",
              "      <td>Yes</td>\n",
              "      <td>1</td>\n",
              "      <td>Graduate</td>\n",
              "      <td>No</td>\n",
              "      <td>3076</td>\n",
              "      <td>1500</td>\n",
              "      <td>126.0</td>\n",
              "      <td>360.0</td>\n",
              "      <td>1.0</td>\n",
              "      <td>Urban</td>\n",
              "    </tr>\n",
              "    <tr>\n",
              "      <th>2</th>\n",
              "      <td>LP001031</td>\n",
              "      <td>Male</td>\n",
              "      <td>Yes</td>\n",
              "      <td>2</td>\n",
              "      <td>Graduate</td>\n",
              "      <td>No</td>\n",
              "      <td>5000</td>\n",
              "      <td>1800</td>\n",
              "      <td>208.0</td>\n",
              "      <td>360.0</td>\n",
              "      <td>1.0</td>\n",
              "      <td>Urban</td>\n",
              "    </tr>\n",
              "    <tr>\n",
              "      <th>3</th>\n",
              "      <td>LP001035</td>\n",
              "      <td>Male</td>\n",
              "      <td>Yes</td>\n",
              "      <td>2</td>\n",
              "      <td>Graduate</td>\n",
              "      <td>No</td>\n",
              "      <td>2340</td>\n",
              "      <td>2546</td>\n",
              "      <td>100.0</td>\n",
              "      <td>360.0</td>\n",
              "      <td>NaN</td>\n",
              "      <td>Urban</td>\n",
              "    </tr>\n",
              "    <tr>\n",
              "      <th>4</th>\n",
              "      <td>LP001051</td>\n",
              "      <td>Male</td>\n",
              "      <td>No</td>\n",
              "      <td>0</td>\n",
              "      <td>Not Graduate</td>\n",
              "      <td>No</td>\n",
              "      <td>3276</td>\n",
              "      <td>0</td>\n",
              "      <td>78.0</td>\n",
              "      <td>360.0</td>\n",
              "      <td>1.0</td>\n",
              "      <td>Urban</td>\n",
              "    </tr>\n",
              "  </tbody>\n",
              "</table>\n",
              "</div>\n",
              "      <button class=\"colab-df-convert\" onclick=\"convertToInteractive('df-42cee391-520a-4b3f-94fa-49083172c0d4')\"\n",
              "              title=\"Convert this dataframe to an interactive table.\"\n",
              "              style=\"display:none;\">\n",
              "        \n",
              "  <svg xmlns=\"http://www.w3.org/2000/svg\" height=\"24px\"viewBox=\"0 0 24 24\"\n",
              "       width=\"24px\">\n",
              "    <path d=\"M0 0h24v24H0V0z\" fill=\"none\"/>\n",
              "    <path d=\"M18.56 5.44l.94 2.06.94-2.06 2.06-.94-2.06-.94-.94-2.06-.94 2.06-2.06.94zm-11 1L8.5 8.5l.94-2.06 2.06-.94-2.06-.94L8.5 2.5l-.94 2.06-2.06.94zm10 10l.94 2.06.94-2.06 2.06-.94-2.06-.94-.94-2.06-.94 2.06-2.06.94z\"/><path d=\"M17.41 7.96l-1.37-1.37c-.4-.4-.92-.59-1.43-.59-.52 0-1.04.2-1.43.59L10.3 9.45l-7.72 7.72c-.78.78-.78 2.05 0 2.83L4 21.41c.39.39.9.59 1.41.59.51 0 1.02-.2 1.41-.59l7.78-7.78 2.81-2.81c.8-.78.8-2.07 0-2.86zM5.41 20L4 18.59l7.72-7.72 1.47 1.35L5.41 20z\"/>\n",
              "  </svg>\n",
              "      </button>\n",
              "      \n",
              "  <style>\n",
              "    .colab-df-container {\n",
              "      display:flex;\n",
              "      flex-wrap:wrap;\n",
              "      gap: 12px;\n",
              "    }\n",
              "\n",
              "    .colab-df-convert {\n",
              "      background-color: #E8F0FE;\n",
              "      border: none;\n",
              "      border-radius: 50%;\n",
              "      cursor: pointer;\n",
              "      display: none;\n",
              "      fill: #1967D2;\n",
              "      height: 32px;\n",
              "      padding: 0 0 0 0;\n",
              "      width: 32px;\n",
              "    }\n",
              "\n",
              "    .colab-df-convert:hover {\n",
              "      background-color: #E2EBFA;\n",
              "      box-shadow: 0px 1px 2px rgba(60, 64, 67, 0.3), 0px 1px 3px 1px rgba(60, 64, 67, 0.15);\n",
              "      fill: #174EA6;\n",
              "    }\n",
              "\n",
              "    [theme=dark] .colab-df-convert {\n",
              "      background-color: #3B4455;\n",
              "      fill: #D2E3FC;\n",
              "    }\n",
              "\n",
              "    [theme=dark] .colab-df-convert:hover {\n",
              "      background-color: #434B5C;\n",
              "      box-shadow: 0px 1px 3px 1px rgba(0, 0, 0, 0.15);\n",
              "      filter: drop-shadow(0px 1px 2px rgba(0, 0, 0, 0.3));\n",
              "      fill: #FFFFFF;\n",
              "    }\n",
              "  </style>\n",
              "\n",
              "      <script>\n",
              "        const buttonEl =\n",
              "          document.querySelector('#df-42cee391-520a-4b3f-94fa-49083172c0d4 button.colab-df-convert');\n",
              "        buttonEl.style.display =\n",
              "          google.colab.kernel.accessAllowed ? 'block' : 'none';\n",
              "\n",
              "        async function convertToInteractive(key) {\n",
              "          const element = document.querySelector('#df-42cee391-520a-4b3f-94fa-49083172c0d4');\n",
              "          const dataTable =\n",
              "            await google.colab.kernel.invokeFunction('convertToInteractive',\n",
              "                                                     [key], {});\n",
              "          if (!dataTable) return;\n",
              "\n",
              "          const docLinkHtml = 'Like what you see? Visit the ' +\n",
              "            '<a target=\"_blank\" href=https://colab.research.google.com/notebooks/data_table.ipynb>data table notebook</a>'\n",
              "            + ' to learn more about interactive tables.';\n",
              "          element.innerHTML = '';\n",
              "          dataTable['output_type'] = 'display_data';\n",
              "          await google.colab.output.renderOutput(dataTable, element);\n",
              "          const docLink = document.createElement('div');\n",
              "          docLink.innerHTML = docLinkHtml;\n",
              "          element.appendChild(docLink);\n",
              "        }\n",
              "      </script>\n",
              "    </div>\n",
              "  </div>\n",
              "  "
            ]
          },
          "metadata": {},
          "execution_count": 6
        }
      ],
      "source": [
        "test.head()"
      ]
    },
    {
      "cell_type": "code",
      "execution_count": 7,
      "metadata": {
        "colab": {
          "base_uri": "https://localhost:8080/"
        },
        "id": "ZlEpYPMS0YOQ",
        "outputId": "00e526d8-e4ba-482e-cc08-8c75b65c748d"
      },
      "outputs": [
        {
          "output_type": "execute_result",
          "data": {
            "text/plain": [
              "Index(['Loan_ID', 'Gender', 'Married', 'Dependents', 'Education',\n",
              "       'Self_Employed', 'ApplicantIncome', 'CoapplicantIncome', 'LoanAmount',\n",
              "       'Loan_Amount_Term', 'Credit_History', 'Property_Area', 'Loan_Status'],\n",
              "      dtype='object')"
            ]
          },
          "metadata": {},
          "execution_count": 7
        }
      ],
      "source": [
        "train.columns"
      ]
    },
    {
      "cell_type": "code",
      "execution_count": 8,
      "metadata": {
        "colab": {
          "base_uri": "https://localhost:8080/"
        },
        "id": "9WFcwtP_0YOR",
        "outputId": "a5b3bf51-dcae-47ca-ca57-6affa9c6bbad"
      },
      "outputs": [
        {
          "output_type": "execute_result",
          "data": {
            "text/plain": [
              "Index(['Loan_ID', 'Gender', 'Married', 'Dependents', 'Education',\n",
              "       'Self_Employed', 'ApplicantIncome', 'CoapplicantIncome', 'LoanAmount',\n",
              "       'Loan_Amount_Term', 'Credit_History', 'Property_Area'],\n",
              "      dtype='object')"
            ]
          },
          "metadata": {},
          "execution_count": 8
        }
      ],
      "source": [
        "test.columns"
      ]
    },
    {
      "cell_type": "code",
      "execution_count": 9,
      "metadata": {
        "colab": {
          "base_uri": "https://localhost:8080/"
        },
        "id": "Z9TcUybH0YOS",
        "outputId": "1df52b82-0085-4b9d-a1bf-bb1936bb2b47"
      },
      "outputs": [
        {
          "output_type": "execute_result",
          "data": {
            "text/plain": [
              "Loan_ID               object\n",
              "Gender                object\n",
              "Married               object\n",
              "Dependents            object\n",
              "Education             object\n",
              "Self_Employed         object\n",
              "ApplicantIncome        int64\n",
              "CoapplicantIncome    float64\n",
              "LoanAmount           float64\n",
              "Loan_Amount_Term     float64\n",
              "Credit_History       float64\n",
              "Property_Area         object\n",
              "Loan_Status           object\n",
              "dtype: object"
            ]
          },
          "metadata": {},
          "execution_count": 9
        }
      ],
      "source": [
        "train.dtypes"
      ]
    },
    {
      "cell_type": "code",
      "execution_count": 10,
      "metadata": {
        "colab": {
          "base_uri": "https://localhost:8080/"
        },
        "id": "917aJf7q0YOT",
        "outputId": "ae65bd88-7b6c-4f22-d3ad-acda70bec93d"
      },
      "outputs": [
        {
          "output_type": "execute_result",
          "data": {
            "text/plain": [
              "((614, 13), (367, 12))"
            ]
          },
          "metadata": {},
          "execution_count": 10
        }
      ],
      "source": [
        "train.shape , test.shape"
      ]
    },
    {
      "cell_type": "code",
      "execution_count": 11,
      "metadata": {
        "colab": {
          "base_uri": "https://localhost:8080/"
        },
        "id": "As-P1tNS0YOU",
        "outputId": "e231aa36-4b42-4b82-c09f-b9740d872f10"
      },
      "outputs": [
        {
          "output_type": "execute_result",
          "data": {
            "text/plain": [
              "Y    422\n",
              "N    192\n",
              "Name: Loan_Status, dtype: int64"
            ]
          },
          "metadata": {},
          "execution_count": 11
        }
      ],
      "source": [
        "#univariate analysis\n",
        "train['Loan_Status'].value_counts()"
      ]
    },
    {
      "cell_type": "code",
      "execution_count": 12,
      "metadata": {
        "colab": {
          "base_uri": "https://localhost:8080/"
        },
        "id": "d8xIrV2T0YOW",
        "outputId": "115edd6b-a0ce-440e-8cd0-7725acbbcf6b"
      },
      "outputs": [
        {
          "output_type": "execute_result",
          "data": {
            "text/plain": [
              "Y    0.687296\n",
              "N    0.312704\n",
              "Name: Loan_Status, dtype: float64"
            ]
          },
          "metadata": {},
          "execution_count": 12
        }
      ],
      "source": [
        "#normalize is set to true to show proportions.\n",
        "train['Loan_Status'].value_counts(normalize=True)"
      ]
    },
    {
      "cell_type": "code",
      "execution_count": 13,
      "metadata": {
        "colab": {
          "base_uri": "https://localhost:8080/",
          "height": 280
        },
        "id": "YbeSmvJf0YOX",
        "outputId": "3343da2a-bf55-41ba-8043-44e36a83cf83"
      },
      "outputs": [
        {
          "output_type": "execute_result",
          "data": {
            "text/plain": [
              "<matplotlib.axes._subplots.AxesSubplot at 0x7f7ed9212f90>"
            ]
          },
          "metadata": {},
          "execution_count": 13
        },
        {
          "output_type": "display_data",
          "data": {
            "text/plain": [
              "<Figure size 432x288 with 1 Axes>"
            ],
            "image/png": "[encoded data removed]"
          },
          "metadata": {
            "needs_background": "light"
          }
        }
      ],
      "source": [
        "train['Loan_Status'].value_counts().plot.bar()"
      ]
    },
    {
      "cell_type": "markdown",
      "metadata": {
        "id": "DxQIGojf0YOY"
      },
      "source": [
        "1.Categorical features: Gender,Married,Self_Employed,Credit_History,Loan_Status\n",
        "\n",
        "2.Ordinal Features: Dependents,Education,Property_Area\n",
        "\n",
        "3.Numerical Features:ApplicantIncome,CoapplicantIncome,LoanAmount,Loan_Amount_Term"
      ]
    },
    {
      "cell_type": "code",
      "execution_count": 14,
      "metadata": {
        "colab": {
          "base_uri": "https://localhost:8080/",
          "height": 613
        },
        "id": "C2yKuhAZ0YOc",
        "outputId": "166f71b1-e157-4490-8229-f05afde7a3d1"
      },
      "outputs": [
        {
          "output_type": "display_data",
          "data": {
            "text/plain": [
              "<Figure size 1440x720 with 4 Axes>"
            ],
            "image/png": "[encoded data removed]"
          },
          "metadata": {
            "needs_background": "light"
          }
        }
      ],
      "source": [
        "#independent categorical variables\n",
        "plt.figure(1)\n",
        "plt.subplot(221)\n",
        "train['Gender'].value_counts(normalize=True).plot.bar(figsize=(20,10),title='Gender')\n",
        "plt.subplot(222)\n",
        "train['Married'].value_counts(normalize=True).plot.bar(figsize=(20,10),title='Married')\n",
        "plt.subplot(223)\n",
        "train['Self_Employed'].value_counts(normalize=True).plot.bar(figsize=(20,10),title='Self_Employed')\n",
        "plt.subplot(224)\n",
        "train['Credit_History'].value_counts(normalize=True).plot.bar(figsize=(20,10),title='Credit_History')\n",
        "plt.show()"
      ]
    },
    {
      "cell_type": "markdown",
      "metadata": {
        "id": "OWt3FBws0YOd"
      },
      "source": [
        "1.80% of the applicants are males.\n",
        "\n",
        "2.65% of the applicants are married.\n",
        "\n",
        "3.15% of the applicants are self-Employed.\n",
        "\n",
        "4.85% of the applicants have repaid their loans."
      ]
    },
    {
      "cell_type": "code",
      "execution_count": 15,
      "metadata": {
        "colab": {
          "base_uri": "https://localhost:8080/",
          "height": 447
        },
        "id": "_bR8I2j90YOe",
        "outputId": "6418052a-b4bc-4a04-abd4-07e3bfda959c"
      },
      "outputs": [
        {
          "output_type": "display_data",
          "data": {
            "text/plain": [
              "<Figure size 1728x432 with 3 Axes>"
            ],
            "image/png": "[encoded data removed]"
          },
          "metadata": {
            "needs_background": "light"
          }
        }
      ],
      "source": [
        "#independent ordinal varible\n",
        "plt.figure(1)\n",
        "plt.subplot(131)\n",
        "train['Dependents'].value_counts(normalize=True).plot.bar(figsize=(24,6),title='Dependents')\n",
        "plt.subplot(132)\n",
        "train['Education'].value_counts(normalize=True).plot.bar(figsize=(24,6),title='Education')\n",
        "plt.subplot(133)\n",
        "train['Property_Area'].value_counts(normalize=True).plot.bar(figsize=(24,6),title='Property_Area')\n",
        "plt.show()"
      ]
    },
    {
      "cell_type": "markdown",
      "metadata": {
        "id": "xBYHaJdd0YOe"
      },
      "source": [
        "1.Most of the applicants donot have dependents.\n",
        "\n",
        "2.Around 80% of the applicants are graduate.\n",
        "\n",
        "3.Most of the applicants are from semiurban area."
      ]
    },
    {
      "cell_type": "code",
      "execution_count": 16,
      "metadata": {
        "colab": {
          "base_uri": "https://localhost:8080/",
          "height": 334
        },
        "id": "fdM7pFPY0YOf",
        "outputId": "f0056746-5f68-43df-d92f-653b2a2d2c9f"
      },
      "outputs": [
        {
          "output_type": "display_data",
          "data": {
            "text/plain": [
              "<Figure size 1152x360 with 2 Axes>"
            ],
            "image/png": "[encoded data removed]"
          },
          "metadata": {
            "needs_background": "light"
          }
        }
      ],
      "source": [
        "#independent numerical variables\n",
        "plt.figure(1)\n",
        "plt.subplot(121)\n",
        "sns.distplot(train['ApplicantIncome']);\n",
        "plt.subplot(122)\n",
        "train['ApplicantIncome'].plot.box(figsize=(16,5))\n",
        "plt.show()"
      ]
    },
    {
      "cell_type": "markdown",
      "metadata": {
        "id": "_CLrndi30YOg"
      },
      "source": [
        "Most of the data is towards left means data is not normally distributed.\n",
        "\n",
        "Bu the box plot indicates presence of lot of outliers/extreme values. This can be attributed to income disparity in the society. Part of this can be driven by the fact that we are looking at people with different education levels."
      ]
    },
    {
      "cell_type": "code",
      "execution_count": 17,
      "metadata": {
        "colab": {
          "base_uri": "https://localhost:8080/",
          "height": 311
        },
        "id": "eB0FvsfE0YOg",
        "outputId": "2df282fd-99f3-4053-eee2-27c45b1111d7"
      },
      "outputs": [
        {
          "output_type": "execute_result",
          "data": {
            "text/plain": [
              "Text(0.5, 0.98, '')"
            ]
          },
          "metadata": {},
          "execution_count": 17
        },
        {
          "output_type": "display_data",
          "data": {
            "text/plain": [
              "<Figure size 432x288 with 1 Axes>"
            ],
            "image/png": "[encoded data removed]"
          },
          "metadata": {
            "needs_background": "light"
          }
        }
      ],
      "source": [
        "train.boxplot(column='ApplicantIncome',by='Education')\n",
        "plt.suptitle(\"\")\n",
        "#Text(0.5,0.98,'')"
      ]
    },
    {
      "cell_type": "markdown",
      "metadata": {
        "id": "ZPgeQ5dR0YOh"
      },
      "source": [
        "We can say that there are higher number of graduates with very high incomes, which are appearing to be outliers.\n"
      ]
    },
    {
      "cell_type": "code",
      "execution_count": 18,
      "metadata": {
        "colab": {
          "base_uri": "https://localhost:8080/",
          "height": 334
        },
        "id": "-3w4gith0YOi",
        "outputId": "55bad3bc-934b-4b91-98dc-32ef0b7abc51"
      },
      "outputs": [
        {
          "output_type": "display_data",
          "data": {
            "text/plain": [
              "<Figure size 1152x360 with 2 Axes>"
            ],
            "image/png": "[encoded data removed]"
          },
          "metadata": {
            "needs_background": "light"
          }
        }
      ],
      "source": [
        "plt.figure(1)\n",
        "plt.subplot(121)\n",
        "sns.distplot(train['CoapplicantIncome']);\n",
        "plt.subplot(122)\n",
        "train['CoapplicantIncome'].plot.box(figsize=(16,5))\n",
        "plt.show()"
      ]
    },
    {
      "cell_type": "markdown",
      "metadata": {
        "id": "zSQqRvYs0YOi"
      },
      "source": [
        "Here similar distribution as that of applicantIncome is seen.\n",
        "\n",
        "Also there are lot of outliers are present in CoapplicantIncome and it is also not normally distributed."
      ]
    },
    {
      "cell_type": "code",
      "execution_count": 19,
      "metadata": {
        "colab": {
          "base_uri": "https://localhost:8080/",
          "height": 334
        },
        "id": "BxcntmYF0YOj",
        "outputId": "b9c9e299-1c5b-4adc-f2ba-7dc6ac934881"
      },
      "outputs": [
        {
          "output_type": "display_data",
          "data": {
            "text/plain": [
              "<Figure size 1152x360 with 2 Axes>"
            ],
            "image/png": "[encoded data removed]"
          },
          "metadata": {
            "needs_background": "light"
          }
        }
      ],
      "source": [
        "#loan amount variable\n",
        "plt.figure(1)\n",
        "plt.subplot(121)\n",
        "df=train.dropna()\n",
        "sns.distplot(train['LoanAmount']);\n",
        "plt.subplot(122)\n",
        "train['LoanAmount'].plot.box(figsize=(16,5))\n",
        "plt.show()"
      ]
    },
    {
      "cell_type": "markdown",
      "metadata": {
        "id": "3GKVjV5V0YOj"
      },
      "source": [
        "Here also outliers are present but it is fairly normal."
      ]
    },
    {
      "cell_type": "code",
      "execution_count": 20,
      "metadata": {
        "colab": {
          "base_uri": "https://localhost:8080/",
          "height": 431
        },
        "id": "ThQci1pa0YOk",
        "outputId": "ffed15c8-16a2-4c66-e41b-4d358c6ed05c"
      },
      "outputs": [
        {
          "output_type": "execute_result",
          "data": {
            "text/plain": [
              "<matplotlib.axes._subplots.AxesSubplot at 0x7f7ed6602410>"
            ]
          },
          "metadata": {},
          "execution_count": 20
        },
        {
          "output_type": "display_data",
          "data": {
            "text/plain": [
              "<Figure size 432x432 with 1 Axes>"
            ],
            "image/png": "[encoded data removed]"
          },
          "metadata": {
            "needs_background": "light"
          }
        }
      ],
      "source": [
        "#bivarite analysis\n",
        "#categorical Idv vs Target Variable\n",
        "Gender=pd.crosstab(train['Gender'],train['Loan_Status'])\n",
        "Gender.div(Gender.sum(1).astype(float),axis=0).plot(kind='bar',stacked=True,figsize=(6,6))"
      ]
    },
    {
      "cell_type": "markdown",
      "metadata": {
        "id": "P5oSdbaC0YOk"
      },
      "source": [
        "Here it can be seen that proportion of approval or denial of loan for male or females is more or less same."
      ]
    },
    {
      "cell_type": "code",
      "execution_count": 21,
      "metadata": {
        "colab": {
          "base_uri": "https://localhost:8080/",
          "height": 1000
        },
        "id": "_1f18YM00YOk",
        "outputId": "560f6521-41ee-478c-d4a1-99ea5ea0120a"
      },
      "outputs": [
        {
          "output_type": "execute_result",
          "data": {
            "text/plain": [
              "<matplotlib.axes._subplots.AxesSubplot at 0x7f7ed89fdf90>"
            ]
          },
          "metadata": {},
          "execution_count": 21
        },
        {
          "output_type": "display_data",
          "data": {
            "text/plain": [
              "<Figure size 288x288 with 1 Axes>"
            ],
            "image/png": "[encoded data removed]"
          },
          "metadata": {
            "needs_background": "light"
          }
        },
        {
          "output_type": "display_data",
          "data": {
            "text/plain": [
              "<Figure size 288x288 with 1 Axes>"
            ],
            "image/png": "[encoded data removed]"
          },
          "metadata": {
            "needs_background": "light"
          }
        },
        {
          "output_type": "display_data",
          "data": {
            "text/plain": [
              "<Figure size 288x288 with 1 Axes>"
            ],
            "image/png": "[encoded data removed]"
          },
          "metadata": {
            "needs_background": "light"
          }
        },
        {
          "output_type": "display_data",
          "data": {
            "text/plain": [
              "<Figure size 288x288 with 1 Axes>"
            ],
            "image/png": "[encoded data removed]"
          },
          "metadata": {
            "needs_background": "light"
          }
        }
      ],
      "source": [
        "#remaining categorical varibles vs target variable\n",
        "Married=pd.crosstab(train['Married'],train['Loan_Status'])\n",
        "Married.div(Married.sum(1).astype(float),axis=0).plot(kind='bar',stacked=True,figsize=(4,4))\n",
        "Education=pd.crosstab(train['Education'],train['Loan_Status'])\n",
        "Education.div(Education.sum(1).astype(float),axis=0).plot(kind='bar',stacked=True,figsize=(4,4))\n",
        "Self_Employed=pd.crosstab(train['Self_Employed'],train['Loan_Status'])\n",
        "Self_Employed.div(Self_Employed.sum(1).astype(float),axis=0).plot(kind='bar',stacked=True,figsize=(4,4))\n",
        "Dependents=pd.crosstab(train['Dependents'],train['Loan_Status'])\n",
        "Dependents.div(Dependents.sum(1).astype(float),axis=0).plot(kind='bar',stacked=True,figsize=(4,4))"
      ]
    },
    {
      "cell_type": "markdown",
      "metadata": {
        "id": "hFRWw3BK0YOk"
      },
      "source": [
        "1.Proportion of married applicants is higher for approved loans.\n",
        "\n",
        "2.Applicants with 1 or 3+ dependents is similar across both the categories of Loan_Status.\n",
        "\n",
        "3.There is nothing significant we can infer from self_employed."
      ]
    },
    {
      "cell_type": "code",
      "execution_count": 22,
      "metadata": {
        "colab": {
          "base_uri": "https://localhost:8080/",
          "height": 593
        },
        "id": "9O7wexTL0YOl",
        "outputId": "5adbb35a-35c7-4827-c225-13d05eb1729e"
      },
      "outputs": [
        {
          "output_type": "display_data",
          "data": {
            "text/plain": [
              "<Figure size 288x288 with 1 Axes>"
            ],
            "image/png": "[encoded data removed]"
          },
          "metadata": {
            "needs_background": "light"
          }
        },
        {
          "output_type": "display_data",
          "data": {
            "text/plain": [
              "<Figure size 288x288 with 1 Axes>"
            ],
            "image/png": "[encoded data removed]"
          },
          "metadata": {
            "needs_background": "light"
          }
        }
      ],
      "source": [
        "#for other categorical varibles vs Target Variable\n",
        "Credit_History=pd.crosstab(train['Credit_History'],train['Loan_Status'])\n",
        "Credit_History.div(Credit_History.sum(1).astype(float),axis=0).plot(kind='bar',stacked=True,figsize=(4,4))\n",
        "\n",
        "Property_Area=pd.crosstab(train['Property_Area'],train['Loan_Status'])\n",
        "Property_Area.div(Property_Area.sum(1).astype(float),axis=0).plot(kind='bar',stacked=True,figsize=(4,4))\n",
        "plt.show()"
      ]
    },
    {
      "cell_type": "markdown",
      "metadata": {
        "id": "fq-a50Au0YOl"
      },
      "source": [
        "Applicants with credit hsitory as 1 are likely to get loan.\n",
        "\n",
        "Same for applicants in semiurban areas also."
      ]
    },
    {
      "cell_type": "code",
      "execution_count": 23,
      "metadata": {
        "colab": {
          "base_uri": "https://localhost:8080/",
          "height": 295
        },
        "id": "_cYldCIN0YOl",
        "outputId": "7b17733a-a2c6-4131-a2c2-06571b106505"
      },
      "outputs": [
        {
          "output_type": "execute_result",
          "data": {
            "text/plain": [
              "<matplotlib.axes._subplots.AxesSubplot at 0x7f7ed917cd90>"
            ]
          },
          "metadata": {},
          "execution_count": 23
        },
        {
          "output_type": "display_data",
          "data": {
            "text/plain": [
              "<Figure size 432x288 with 1 Axes>"
            ],
            "image/png": "[encoded data removed]"
          },
          "metadata": {
            "needs_background": "light"
          }
        }
      ],
      "source": [
        "#now we will go for Idv vs Target Variable\n",
        "#mean income of laon approved people vs mean income of denied people\n",
        "train.groupby('Loan_Status')['ApplicantIncome'].mean().plot.bar()"
      ]
    },
    {
      "cell_type": "markdown",
      "metadata": {
        "id": "L9WBU-MF0YOl"
      },
      "source": [
        "Here we cannot say anyhting clear so lets go for bins for proper understanding."
      ]
    },
    {
      "cell_type": "code",
      "execution_count": 24,
      "metadata": {
        "colab": {
          "base_uri": "https://localhost:8080/",
          "height": 335
        },
        "id": "2kWXuvtF0YOm",
        "outputId": "b13499b3-1d27-42b2-e621-70c41f419508"
      },
      "outputs": [
        {
          "output_type": "execute_result",
          "data": {
            "text/plain": [
              "Text(0, 0.5, 'Percentage')"
            ]
          },
          "metadata": {},
          "execution_count": 24
        },
        {
          "output_type": "display_data",
          "data": {
            "text/plain": [
              "<Figure size 432x288 with 1 Axes>"
            ],
            "image/png": "[encoded data removed]"
          },
          "metadata": {
            "needs_background": "light"
          }
        }
      ],
      "source": [
        "bins=[0,2500,4000,6000,81000] \n",
        "group=['Low','Average','High','Very High']\n",
        "train['Income_bin']=pd.cut(train['ApplicantIncome'],bins,labels=group)\n",
        "\n",
        "Income_bin=pd.crosstab(train['Income_bin'],train['Loan_Status'])\n",
        "Income_bin.div(Income_bin.sum(1).astype(float),axis=0).plot(kind='bar',stacked=True)\n",
        "plt.xlabel('ApplicantIncome')\n",
        "plt.ylabel('Percentage')"
      ]
    },
    {
      "cell_type": "markdown",
      "metadata": {
        "id": "HJIzkpCz0YOm"
      },
      "source": [
        "Here can be seen that applicants income do not affect loan status so our hypothesis contradicts here."
      ]
    },
    {
      "cell_type": "code",
      "execution_count": 25,
      "metadata": {
        "colab": {
          "base_uri": "https://localhost:8080/",
          "height": 327
        },
        "id": "QZgV5lf-0YOm",
        "outputId": "0be9dfec-912d-493c-915e-a6c5c7379375"
      },
      "outputs": [
        {
          "output_type": "execute_result",
          "data": {
            "text/plain": [
              "Text(0, 0.5, 'Percentage')"
            ]
          },
          "metadata": {},
          "execution_count": 25
        },
        {
          "output_type": "display_data",
          "data": {
            "text/plain": [
              "<Figure size 432x288 with 1 Axes>"
            ],
            "image/png": "[encoded data removed]"
          },
          "metadata": {
            "needs_background": "light"
          }
        }
      ],
      "source": [
        "#we also analyze copplicant income and loan amount variable\n",
        "bins=[0,1000,3000,42000] \n",
        "group=['Low','Average','High']\n",
        "train['Coapplicant_Income_bin']=pd.cut(train['CoapplicantIncome'],bins,labels=group)\n",
        "\n",
        "Coapplicant_Income_bin=pd.crosstab(train['Coapplicant_Income_bin'],train['Loan_Status'])\n",
        "Coapplicant_Income_bin.div(Coapplicant_Income_bin.sum(1).astype(float),axis=0).plot(kind='bar',stacked=True)\n",
        "plt.xlabel('CoapplicantIncome')\n",
        "plt.ylabel('Percentage')"
      ]
    },
    {
      "cell_type": "markdown",
      "metadata": {
        "id": "LTJQtJj30YOm"
      },
      "source": [
        "It shows that if income is less chances of laon approval is very high but it is not true. Because most of the applicant dont have coapplicant which means coapplicant income is zero.So we can make anew variable to see combine effect on loan approval."
      ]
    },
    {
      "cell_type": "code",
      "execution_count": 26,
      "metadata": {
        "colab": {
          "base_uri": "https://localhost:8080/",
          "height": 336
        },
        "id": "OMQjgC1N0YOn",
        "outputId": "a4a1f087-393a-4e62-cf74-c46a4b59ea35"
      },
      "outputs": [
        {
          "output_type": "execute_result",
          "data": {
            "text/plain": [
              "Text(0, 0.5, 'Percentage')"
            ]
          },
          "metadata": {},
          "execution_count": 26
        },
        {
          "output_type": "display_data",
          "data": {
            "text/plain": [
              "<Figure size 432x288 with 1 Axes>"
            ],
            "image/png": "[encoded data removed]"
          },
          "metadata": {
            "needs_background": "light"
          }
        }
      ],
      "source": [
        "train['Total_Income']=train['ApplicantIncome']+train['CoapplicantIncome']\n",
        "bins=[0,2500,4000,6000,81000] \n",
        "group=['Low','Average','High','Very High']\n",
        "train['Total_Income_bin']=pd.cut(train['Total_Income'],bins,labels=group)\n",
        "\n",
        "Total_Income_bin=pd.crosstab(train['Total_Income_bin'],train['Loan_Status'])\n",
        "Total_Income_bin.div(Total_Income_bin.sum(1).astype(float),axis=0).plot(kind='bar',stacked=True)\n",
        "plt.xlabel('Total_Income')\n",
        "plt.ylabel('Percentage')"
      ]
    },
    {
      "cell_type": "markdown",
      "metadata": {
        "id": "8uSohQpt0YOn"
      },
      "source": [
        "Now it is clear that people with less income have less chances of loan approval as compared to other income categories."
      ]
    },
    {
      "cell_type": "code",
      "execution_count": 27,
      "metadata": {
        "colab": {
          "base_uri": "https://localhost:8080/",
          "height": 327
        },
        "id": "vnv_foSG0YOn",
        "outputId": "d16d2465-ca36-4ff8-8fb8-7a147138419a"
      },
      "outputs": [
        {
          "output_type": "execute_result",
          "data": {
            "text/plain": [
              "Text(0, 0.5, 'Percentage')"
            ]
          },
          "metadata": {},
          "execution_count": 27
        },
        {
          "output_type": "display_data",
          "data": {
            "text/plain": [
              "<Figure size 432x288 with 1 Axes>"
            ],
            "image/png": "[encoded data removed]"
          },
          "metadata": {
            "needs_background": "light"
          }
        }
      ],
      "source": [
        "#lets predict loan amount variable\n",
        "bins=[0,100,200,700] \n",
        "group=['Low','Average','High']\n",
        "train['LoanAmount_bin']=pd.cut(train['LoanAmount'],bins,labels=group)\n",
        "\n",
        "LoanAmount_bin=pd.crosstab(train['LoanAmount_bin'],train['Loan_Status'])\n",
        "LoanAmount_bin.div(LoanAmount_bin.sum(1).astype(float),axis=0).plot(kind='bar',stacked=True)\n",
        "plt.xlabel('LoanAmount')\n",
        "plt.ylabel('Percentage')"
      ]
    },
    {
      "cell_type": "markdown",
      "metadata": {
        "id": "JJRl5sch0YOn"
      },
      "source": [
        "Here proportion of approved loans is higher for low and average loan amount as compared to high loan amount. Which supports our hypo."
      ]
    },
    {
      "cell_type": "code",
      "execution_count": 28,
      "metadata": {
        "id": "-jO9IL8R0YOo"
      },
      "outputs": [],
      "source": [
        "train=train.drop(['Income_bin','Coapplicant_Income_bin','LoanAmount_bin','Total_Income_bin','Total_Income'],axis=1)\n",
        "\n",
        "train['Dependents'].replace('3+',3,inplace=True)\n",
        "test['Dependents'].replace('3+',3,inplace=True)\n",
        "\n",
        "train['Loan_Status'].replace('N',0,inplace=True)\n",
        "train['Loan_Status'].replace('Y',1,inplace=True)"
      ]
    },
    {
      "cell_type": "code",
      "execution_count": 29,
      "metadata": {
        "colab": {
          "base_uri": "https://localhost:8080/",
          "height": 465
        },
        "id": "L9sTj8G10YOo",
        "outputId": "9aafba3b-1e40-4b63-d67c-637514f7ff80"
      },
      "outputs": [
        {
          "output_type": "display_data",
          "data": {
            "text/plain": [
              "<Figure size 648x432 with 2 Axes>"
            ],
            "image/png": "[encoded data removed]"
          },
          "metadata": {
            "needs_background": "light"
          }
        }
      ],
      "source": [
        "matrix=train.corr()\n",
        "\n",
        "f,ax=plt.subplots(figsize=(9,6))\n",
        "sns.heatmap(matrix,vmax=.8,square=True,cmap=\"BuPu\");"
      ]
    },
    {
      "cell_type": "markdown",
      "metadata": {
        "id": "tQXrpJz_0YOo"
      },
      "source": [
        "Most correlated variables are ApplicantsIncome and LoanAmount"
      ]
    },
    {
      "cell_type": "code",
      "execution_count": 30,
      "metadata": {
        "colab": {
          "base_uri": "https://localhost:8080/"
        },
        "id": "E4vypCjR0YOo",
        "outputId": "ae71e01e-e930-4800-ca5c-9db310b2ca7d"
      },
      "outputs": [
        {
          "output_type": "execute_result",
          "data": {
            "text/plain": [
              "Loan_ID               0\n",
              "Gender               13\n",
              "Married               3\n",
              "Dependents           15\n",
              "Education             0\n",
              "Self_Employed        32\n",
              "ApplicantIncome       0\n",
              "CoapplicantIncome     0\n",
              "LoanAmount           22\n",
              "Loan_Amount_Term     14\n",
              "Credit_History       50\n",
              "Property_Area         0\n",
              "Loan_Status           0\n",
              "dtype: int64"
            ]
          },
          "metadata": {},
          "execution_count": 30
        }
      ],
      "source": [
        "#missing value imputation\n",
        "train.isnull().sum()"
      ]
    },
    {
      "cell_type": "markdown",
      "metadata": {
        "id": "grsTqar40YOp"
      },
      "source": [
        "Treat numerical variables using mean or median\n",
        "\n",
        "Treat categorical variable using mode"
      ]
    },
    {
      "cell_type": "code",
      "execution_count": 31,
      "metadata": {
        "id": "Co1ACAs30YOp"
      },
      "outputs": [],
      "source": [
        "train['Gender'].fillna(train['Gender'].mode()[0],inplace=True)\n",
        "train['Married'].fillna(train['Married'].mode()[0],inplace=True)\n",
        "train['Dependents'].fillna(train['Dependents'].mode()[0],inplace=True)\n",
        "train['Self_Employed'].fillna(train['Self_Employed'].mode()[0],inplace=True)\n",
        "train['Credit_History'].fillna(train['Credit_History'].mode()[0],inplace=True)"
      ]
    },
    {
      "cell_type": "code",
      "execution_count": 32,
      "metadata": {
        "colab": {
          "base_uri": "https://localhost:8080/"
        },
        "id": "XxWIogaO0YOp",
        "outputId": "ac78f4f5-95b5-48fd-caf9-a79e409c34ab"
      },
      "outputs": [
        {
          "output_type": "execute_result",
          "data": {
            "text/plain": [
              "360.0    512\n",
              "180.0     44\n",
              "480.0     15\n",
              "300.0     13\n",
              "240.0      4\n",
              "84.0       4\n",
              "120.0      3\n",
              "60.0       2\n",
              "36.0       2\n",
              "12.0       1\n",
              "Name: Loan_Amount_Term, dtype: int64"
            ]
          },
          "metadata": {},
          "execution_count": 32
        }
      ],
      "source": [
        "train['Loan_Amount_Term'].value_counts()"
      ]
    },
    {
      "cell_type": "markdown",
      "metadata": {
        "id": "9taGBKol0YOp"
      },
      "source": [
        "It can seen that in loan amount term variable, the value 360 is repeating the most.So we will replace the msiing value in this variable using mode of this variable"
      ]
    },
    {
      "cell_type": "code",
      "execution_count": 33,
      "metadata": {
        "id": "2LXLt0Qn0YOq"
      },
      "outputs": [],
      "source": [
        "train['Loan_Amount_Term'].fillna(train['Loan_Amount_Term'].mode()[0],inplace=True)"
      ]
    },
    {
      "cell_type": "markdown",
      "metadata": {
        "id": "d6dpFFxK0YOq"
      },
      "source": [
        "Now see the loanamount varible.As it is numerical , we can use mean or median to impute the missing values. We well use median to fill the null values as earlier we saw that the laonamount have outliers so the mean will not be proper approach as it is highly affected by the presence of outliers."
      ]
    },
    {
      "cell_type": "code",
      "execution_count": 34,
      "metadata": {
        "id": "YtzXDCe00YOq"
      },
      "outputs": [],
      "source": [
        "train['LoanAmount'].fillna(train['LoanAmount'].median(),inplace=True)"
      ]
    },
    {
      "cell_type": "code",
      "execution_count": 35,
      "metadata": {
        "colab": {
          "base_uri": "https://localhost:8080/"
        },
        "id": "QBEOQ5du0YOq",
        "outputId": "c01c229a-d752-45ef-8c0a-e5284e990655"
      },
      "outputs": [
        {
          "output_type": "execute_result",
          "data": {
            "text/plain": [
              "Loan_ID              0\n",
              "Gender               0\n",
              "Married              0\n",
              "Dependents           0\n",
              "Education            0\n",
              "Self_Employed        0\n",
              "ApplicantIncome      0\n",
              "CoapplicantIncome    0\n",
              "LoanAmount           0\n",
              "Loan_Amount_Term     0\n",
              "Credit_History       0\n",
              "Property_Area        0\n",
              "Loan_Status          0\n",
              "dtype: int64"
            ]
          },
          "metadata": {},
          "execution_count": 35
        }
      ],
      "source": [
        "train.isnull().sum()"
      ]
    },
    {
      "cell_type": "code",
      "execution_count": 36,
      "metadata": {
        "id": "I2XLCjQu0YOq"
      },
      "outputs": [],
      "source": [
        "#train['LoanAmount_bin'].drop['LoanAmount_bin']"
      ]
    },
    {
      "cell_type": "code",
      "execution_count": 37,
      "metadata": {
        "id": "bB4nIPx30YOr"
      },
      "outputs": [],
      "source": [
        "#train.drop(['LoanAmount_bin','Total_Income','Total_Income_bin'],axis=1)"
      ]
    },
    {
      "cell_type": "code",
      "execution_count": 38,
      "metadata": {
        "id": "XrTRaHNl0YOr"
      },
      "outputs": [],
      "source": [
        "test['Gender'].fillna(train['Gender'].mode()[0],inplace=True)\n",
        "test['Married'].fillna(train['Married'].mode()[0],inplace=True)\n",
        "test['Dependents'].fillna(train['Dependents'].mode()[0],inplace=True)\n",
        "test['Self_Employed'].fillna(train['Self_Employed'].mode()[0],inplace=True)\n",
        "test['Credit_History'].fillna(train['Credit_History'].mode()[0],inplace=True)\n",
        "test['Loan_Amount_Term'].fillna(train['Loan_Amount_Term'].mode()[0],inplace=True)\n",
        "test['LoanAmount'].fillna(train['LoanAmount'].median(),inplace=True)"
      ]
    },
    {
      "cell_type": "markdown",
      "metadata": {
        "id": "Dc7PZEkx0YOr"
      },
      "source": [
        "Outlier Treatment\n",
        "\n",
        "Due to outliers bulk of data in the loan amount is at athe left and the right tail is longer. So there is right skewness. One way to remove the skewness is by doing the log transformation.It reduces larger values.So, we get a distribution similar to normal distribution."
      ]
    },
    {
      "cell_type": "code",
      "execution_count": 39,
      "metadata": {
        "colab": {
          "base_uri": "https://localhost:8080/",
          "height": 265
        },
        "id": "3vZBh55C0YOr",
        "outputId": "32db2e21-25d8-4af5-ca5c-1651536ed6bc"
      },
      "outputs": [
        {
          "output_type": "display_data",
          "data": {
            "text/plain": [
              "<Figure size 432x288 with 1 Axes>"
            ],
            "image/png": "[encoded data removed]"
          },
          "metadata": {
            "needs_background": "light"
          }
        }
      ],
      "source": [
        "train['LoanAmount_log']=np.log(train['LoanAmount'])\n",
        "train['LoanAmount_log'].hist(bins=20)\n",
        "test['LoanAmount_log']=np.log(train['LoanAmount'])"
      ]
    },
    {
      "cell_type": "markdown",
      "metadata": {
        "id": "-JI-kCrL0YOr"
      },
      "source": [
        "Model Building"
      ]
    },
    {
      "cell_type": "code",
      "execution_count": 40,
      "metadata": {
        "id": "VWN5p7Yh0YOs"
      },
      "outputs": [],
      "source": [
        "#logistic regression"
      ]
    },
    {
      "cell_type": "code",
      "source": [
        ""
      ],
      "metadata": {
        "id": "qlOqm6_IN1H6"
      },
      "execution_count": 40,
      "outputs": []
    },
    {
      "cell_type": "code",
      "execution_count": 41,
      "metadata": {
        "id": "HMgvgJfi0YOs"
      },
      "outputs": [],
      "source": [
        "train=train.drop('Loan_ID',axis=1)\n",
        "test=test.drop('Loan_ID',axis=1)"
      ]
    },
    {
      "cell_type": "code",
      "execution_count": 42,
      "metadata": {
        "id": "qnjZSfLq0YOs"
      },
      "outputs": [],
      "source": [
        "#drop target variable from train dataset and sav eit in another dataset.\n",
        "X=train.drop('Loan_Status',1)\n",
        "y=train.Loan_Status"
      ]
    },
    {
      "cell_type": "code",
      "source": [
        ""
      ],
      "metadata": {
        "id": "yKcUhBmtNuQJ"
      },
      "execution_count": 42,
      "outputs": []
    },
    {
      "cell_type": "markdown",
      "metadata": {
        "id": "L_D2pC8q0YOs"
      },
      "source": [
        "Now make dummy variable for the categorical variables.Dummy variable turns categorical variables into series of 0 and 1,making them easier to compare and quantify, as logistic regression takes only numerical values as input."
      ]
    },
    {
      "cell_type": "code",
      "execution_count": 43,
      "metadata": {
        "id": "rJmzv0sf0YOs"
      },
      "outputs": [],
      "source": [
        "X=pd.get_dummies(X)\n",
        "train=pd.get_dummies(train)\n",
        "test=pd.get_dummies(test)"
      ]
    },
    {
      "cell_type": "markdown",
      "metadata": {
        "id": "Ow-8OFhZ0YOt"
      },
      "source": [
        "Now divide the train dataset into two parts:train and validation. We can make predictions on validation part and train the model on train part."
      ]
    },
    {
      "cell_type": "code",
      "execution_count": 44,
      "metadata": {
        "id": "21ksSri10YOt"
      },
      "outputs": [],
      "source": [
        "from sklearn.model_selection import train_test_split\n",
        "x_train,x_cv,y_train,y_cv=train_test_split(X,y,test_size=0.25)"
      ]
    },
    {
      "cell_type": "code",
      "execution_count": 45,
      "metadata": {
        "id": "yeuqsS4V0YOt"
      },
      "outputs": [],
      "source": [
        "from sklearn.linear_model import LogisticRegression\n",
        "from sklearn.metrics import accuracy_score\n",
        "from sklearn.model_selection import GridSearchCV\n",
        "\n",
        "\n",
        "grid={\"C\":np.logspace(-3,3,7), \"penalty\":[\"l1\",\"l2\"]}# l1 lasso l2 ridge\n",
        "model=LogisticRegression()\n",
        "logreg_cv=GridSearchCV(model,grid,cv=8)\n",
        "model = logreg_cv.fit(x_train,y_train)\n",
        "\n",
        "# LogisticRegression(C=1.0,class_weight=None,dual=False,fit_intercept=True,intercept_scaling=1,\n",
        "#                    max_iter=100,multi_class='ovr',n_jobs=1,penalty='12',random_state=1,\n",
        "#                    solver='liblinear',tol=0.0001,\n",
        "#                    verbose=0,warm_start=False)"
      ]
    },
    {
      "cell_type": "markdown",
      "metadata": {
        "id": "UI2cDShi0YOt"
      },
      "source": [
        "C parameter represents inverse of regularization strength. Regularization is applying a penalty to increasing the magnitude of parameter values in order to reduce overfitting.Smaller the values of C stronger the regularization."
      ]
    },
    {
      "cell_type": "code",
      "execution_count": 46,
      "metadata": {
        "id": "O2D8CBgk0YOu"
      },
      "outputs": [],
      "source": [
        "pred_cv=model.predict(x_cv)"
      ]
    },
    {
      "cell_type": "code",
      "execution_count": 47,
      "metadata": {
        "colab": {
          "base_uri": "https://localhost:8080/"
        },
        "id": "nepcgoWl0YOu",
        "outputId": "b89ffbad-8ab6-4a0e-bb9f-97a9e279619d"
      },
      "outputs": [
        {
          "output_type": "execute_result",
          "data": {
            "text/plain": [
              "0.8441558441558441"
            ]
          },
          "metadata": {},
          "execution_count": 47
        }
      ],
      "source": [
        "accuracy_score(y_cv,pred_cv)"
      ]
    },
    {
      "cell_type": "code",
      "execution_count": 48,
      "metadata": {
        "id": "q6m5v9yo0YOu"
      },
      "outputs": [],
      "source": [
        "pred_test=model.predict(test)\n",
        "\n"
      ]
    },
    {
      "cell_type": "code",
      "source": [
        "# accuracy_score(y_cv,pred_test)"
      ],
      "metadata": {
        "id": "e1uzd8lHNa_4"
      },
      "execution_count": 49,
      "outputs": []
    },
    {
      "cell_type": "markdown",
      "metadata": {
        "id": "RziSH5v10YOu"
      },
      "source": [
        "# Decision Tree "
      ]
    },
    {
      "cell_type": "code",
      "execution_count": 49,
      "metadata": {
        "colab": {
          "base_uri": "https://localhost:8080/"
        },
        "id": "AVUt46dD0YOu",
        "outputId": "c78146ad-bfaa-4c72-f44c-2bf019de99f4"
      },
      "outputs": [
        {
          "output_type": "execute_result",
          "data": {
            "text/plain": [
              "GridSearchCV(cv=8, estimator=DecisionTreeClassifier(),\n",
              "             param_grid={'ccp_alpha': [0.1, 0.01, 0.001],\n",
              "                         'criterion': ['gini', 'entropy'],\n",
              "                         'max_depth': [3, 4, 5, 6, 7],\n",
              "                         'max_features': ['auto', 'sqrt', 'log2']})"
            ]
          },
          "metadata": {},
          "execution_count": 49
        }
      ],
      "source": [
        "from sklearn.tree import DecisionTreeClassifier\n",
        "decision_classifier=DecisionTreeClassifier()\n",
        "\n",
        "param_grid = {'max_features': ['auto', 'sqrt', 'log2'],\n",
        "              'ccp_alpha': [0.1, .01, .001],\n",
        "              'max_depth' : [3, 4, 5, 6, 7],\n",
        "              'criterion' :['gini', 'entropy']\n",
        "             }\n",
        "decision_cv=GridSearchCV(decision_classifier,param_grid,cv=8)\n",
        "\n",
        "\n",
        "decision_cv.fit(x_train,y_train)"
      ]
    },
    {
      "cell_type": "code",
      "source": [
        "decision_cv.best_params_\n"
      ],
      "metadata": {
        "colab": {
          "base_uri": "https://localhost:8080/"
        },
        "id": "k7sjmkDXO3om",
        "outputId": "aae303a0-9b82-48b1-de42-4f8cc3f08b6c"
      },
      "execution_count": 50,
      "outputs": [
        {
          "output_type": "execute_result",
          "data": {
            "text/plain": [
              "{'ccp_alpha': 0.01,\n",
              " 'criterion': 'gini',\n",
              " 'max_depth': 5,\n",
              " 'max_features': 'log2'}"
            ]
          },
          "metadata": {},
          "execution_count": 50
        }
      ]
    },
    {
      "cell_type": "code",
      "source": [
        "decision_classifier2=DecisionTreeClassifier(criterion = 'gini' ,max_depth =  5 , max_features = 'log2' , ccp_alpha = 0.01)\n"
      ],
      "metadata": {
        "id": "KYwG-igoO8e7"
      },
      "execution_count": 52,
      "outputs": []
    },
    {
      "cell_type": "code",
      "source": [
        "decision_classifier2.fit(x_train,y_train)"
      ],
      "metadata": {
        "colab": {
          "base_uri": "https://localhost:8080/"
        },
        "id": "GYfvqU0NQEzg",
        "outputId": "9ab30ffe-679c-413c-e732-a40063b41771"
      },
      "execution_count": 53,
      "outputs": [
        {
          "output_type": "execute_result",
          "data": {
            "text/plain": [
              "DecisionTreeClassifier(ccp_alpha=0.01, max_depth=5, max_features='log2')"
            ]
          },
          "metadata": {},
          "execution_count": 53
        }
      ]
    },
    {
      "cell_type": "code",
      "execution_count": 54,
      "metadata": {
        "id": "QKF6Wn0A0YOv"
      },
      "outputs": [],
      "source": [
        "pred_dt1=decision_classifier2.predict(x_cv)"
      ]
    },
    {
      "cell_type": "code",
      "execution_count": 55,
      "metadata": {
        "scrolled": true,
        "colab": {
          "base_uri": "https://localhost:8080/"
        },
        "id": "x_4jct4i0YOv",
        "outputId": "ae3e2da2-02a2-4e5f-8953-b291e6846c56"
      },
      "outputs": [
        {
          "output_type": "execute_result",
          "data": {
            "text/plain": [
              "0.8636363636363636"
            ]
          },
          "metadata": {},
          "execution_count": 55
        }
      ],
      "source": [
        "accuracy_score(y_cv,pred_dt1)"
      ]
    },
    {
      "cell_type": "code",
      "source": [
        "from sklearn.neighbors import KNeighborsClassifier\n",
        "from sklearn.metrics import accuracy_score , fbeta_score\n",
        "from sklearn.model_selection import GridSearchCV\n",
        "\n",
        "clf_B = KNeighborsClassifier()\n",
        "k_range = list(range(1, 31))\n",
        "param_grid = dict(n_neighbors=k_range)\n",
        "grid = GridSearchCV(clf_B, param_grid, cv=8, scoring='accuracy', return_train_score=False)\n",
        "\n",
        "model = grid.fit(x_train, y_train)\n",
        "\n",
        "\n"
      ],
      "metadata": {
        "id": "JHqGFXz40mE2"
      },
      "execution_count": 56,
      "outputs": []
    },
    {
      "cell_type": "code",
      "source": [
        "model.best_params_\n"
      ],
      "metadata": {
        "colab": {
          "base_uri": "https://localhost:8080/"
        },
        "id": "BbkZGskqQQen",
        "outputId": "d40926c3-b20a-49b8-b5a9-1cfcf096f476"
      },
      "execution_count": 57,
      "outputs": [
        {
          "output_type": "execute_result",
          "data": {
            "text/plain": [
              "{'n_neighbors': 17}"
            ]
          },
          "metadata": {},
          "execution_count": 57
        }
      ]
    },
    {
      "cell_type": "code",
      "source": [
        "clf_B1 = KNeighborsClassifier(n_neighbors = 17)\n"
      ],
      "metadata": {
        "id": "9B89ZxlAQWGH"
      },
      "execution_count": 58,
      "outputs": []
    },
    {
      "cell_type": "code",
      "source": [
        "model = clf_B1.fit(x_train, y_train)\n"
      ],
      "metadata": {
        "id": "KBLEBeygQewP"
      },
      "execution_count": 59,
      "outputs": []
    },
    {
      "cell_type": "code",
      "source": [
        "pred_dt2=model.predict(x_cv)"
      ],
      "metadata": {
        "id": "5pxAMHJfKFcL"
      },
      "execution_count": 60,
      "outputs": []
    },
    {
      "cell_type": "code",
      "source": [
        "accuracy_score(y_cv,pred_dt2)"
      ],
      "metadata": {
        "colab": {
          "base_uri": "https://localhost:8080/"
        },
        "id": "PzSEwBhqKFej",
        "outputId": "7aad2aea-4ef1-4160-b416-0027338e8caf"
      },
      "execution_count": 61,
      "outputs": [
        {
          "output_type": "execute_result",
          "data": {
            "text/plain": [
              "0.7402597402597403"
            ]
          },
          "metadata": {},
          "execution_count": 61
        }
      ]
    },
    {
      "cell_type": "code",
      "source": [
        "# TODO: Import a supervised learning model that has 'feature_importances_'\n",
        "from sklearn.ensemble import RandomForestClassifier\n",
        "\n",
        "random_model = RandomForestClassifier(random_state=42)\n",
        "                                      \n",
        "param_grid = { \n",
        "    'n_estimators': [200, 500],\n",
        "    'max_features': ['auto', 'sqrt', 'log2'],\n",
        "    'max_depth' : [3,4,5,6,7],\n",
        "    'criterion' :['gini', 'entropy']\n",
        "}\n",
        "\n",
        "CV_rfc = GridSearchCV(estimator=random_model, param_grid=param_grid, cv= 8)\n",
        "\n",
        "random_model_cv = CV_rfc.fit(x_train, y_train)\n",
        "\n"
      ],
      "metadata": {
        "id": "sO0Jzn0HKEIP"
      },
      "execution_count": 62,
      "outputs": []
    },
    {
      "cell_type": "code",
      "source": [
        "random_model_cv.best_params_\n"
      ],
      "metadata": {
        "colab": {
          "base_uri": "https://localhost:8080/"
        },
        "id": "5uhED_ygMznc",
        "outputId": "c3ced3b9-e2a3-4499-e63c-260434496889"
      },
      "execution_count": 63,
      "outputs": [
        {
          "output_type": "execute_result",
          "data": {
            "text/plain": [
              "{'criterion': 'entropy',\n",
              " 'max_depth': 5,\n",
              " 'max_features': 'auto',\n",
              " 'n_estimators': 500}"
            ]
          },
          "metadata": {},
          "execution_count": 63
        }
      ]
    },
    {
      "cell_type": "code",
      "source": [
        "rfc1=RandomForestClassifier( max_features='auto', n_estimators= 500, max_depth=5, criterion='entropy')"
      ],
      "metadata": {
        "id": "C5o9bxHrM2jz"
      },
      "execution_count": 69,
      "outputs": []
    },
    {
      "cell_type": "code",
      "source": [
        "random_model_cv2 = rfc1.fit(x_train, y_train)\n"
      ],
      "metadata": {
        "id": "J0ulQSfTM7FT"
      },
      "execution_count": 70,
      "outputs": []
    },
    {
      "cell_type": "code",
      "source": [
        "pred_dt3=random_model_cv2.predict(x_cv)"
      ],
      "metadata": {
        "id": "HuDuB-BLLk_3"
      },
      "execution_count": 71,
      "outputs": []
    },
    {
      "cell_type": "code",
      "source": [
        "accuracy_score(y_cv,pred_dt3)"
      ],
      "metadata": {
        "colab": {
          "base_uri": "https://localhost:8080/"
        },
        "id": "lWlccFhnLlCm",
        "outputId": "a8859e67-1a25-4149-d992-739f1dd0a73d"
      },
      "execution_count": 72,
      "outputs": [
        {
          "output_type": "execute_result",
          "data": {
            "text/plain": [
              "0.8506493506493507"
            ]
          },
          "metadata": {},
          "execution_count": 72
        }
      ]
    },
    {
      "cell_type": "code",
      "source": [
        "from sklearn.svm import SVC\n",
        "model_svc = SVC()\n",
        "\n",
        "param_grid = {'C':[10,100],'gamma':[0.1,0.001], 'kernel':['linear','rbf']}\n",
        "\n",
        "grid = GridSearchCV(model_svc,param_grid,refit = True, verbose=2)\n",
        "\n",
        "grid.fit(x_train,y_train)\n"
      ],
      "metadata": {
        "colab": {
          "base_uri": "https://localhost:8080/"
        },
        "id": "DSRBDzFHu_LR",
        "outputId": "bfc1f184-f242-4583-df06-c34072a60d2d"
      },
      "execution_count": 74,
      "outputs": [
        {
          "output_type": "stream",
          "name": "stdout",
          "text": [
            "Fitting 5 folds for each of 8 candidates, totalling 40 fits\n",
            "[CV] END .....................C=10, gamma=0.1, kernel=linear; total time= 2.1min\n",
            "[CV] END .....................C=10, gamma=0.1, kernel=linear; total time= 6.7min\n",
            "[CV] END .....................C=10, gamma=0.1, kernel=linear; total time= 2.2min\n",
            "[CV] END .....................C=10, gamma=0.1, kernel=linear; total time= 3.1min\n",
            "[CV] END .....................C=10, gamma=0.1, kernel=linear; total time= 2.3min\n",
            "[CV] END ........................C=10, gamma=0.1, kernel=rbf; total time=   0.0s\n",
            "[CV] END ........................C=10, gamma=0.1, kernel=rbf; total time=   0.0s\n",
            "[CV] END ........................C=10, gamma=0.1, kernel=rbf; total time=   0.0s\n",
            "[CV] END ........................C=10, gamma=0.1, kernel=rbf; total time=   0.0s\n",
            "[CV] END ........................C=10, gamma=0.1, kernel=rbf; total time=   0.0s\n",
            "[CV] END ...................C=10, gamma=0.001, kernel=linear; total time= 2.1min\n",
            "[CV] END ...................C=10, gamma=0.001, kernel=linear; total time= 6.7min\n",
            "[CV] END ...................C=10, gamma=0.001, kernel=linear; total time= 2.2min\n",
            "[CV] END ...................C=10, gamma=0.001, kernel=linear; total time= 3.1min\n",
            "[CV] END ...................C=10, gamma=0.001, kernel=linear; total time= 2.4min\n",
            "[CV] END ......................C=10, gamma=0.001, kernel=rbf; total time=   0.0s\n",
            "[CV] END ......................C=10, gamma=0.001, kernel=rbf; total time=   0.0s\n",
            "[CV] END ......................C=10, gamma=0.001, kernel=rbf; total time=   0.0s\n",
            "[CV] END ......................C=10, gamma=0.001, kernel=rbf; total time=   0.0s\n",
            "[CV] END ......................C=10, gamma=0.001, kernel=rbf; total time=   0.0s\n",
            "[CV] END ....................C=100, gamma=0.1, kernel=linear; total time= 3.7min\n",
            "[CV] END ....................C=100, gamma=0.1, kernel=linear; total time= 3.0min\n",
            "[CV] END ....................C=100, gamma=0.1, kernel=linear; total time= 3.8min\n",
            "[CV] END ....................C=100, gamma=0.1, kernel=linear; total time= 2.8min\n",
            "[CV] END ....................C=100, gamma=0.1, kernel=linear; total time= 5.6min\n",
            "[CV] END .......................C=100, gamma=0.1, kernel=rbf; total time=   0.0s\n",
            "[CV] END .......................C=100, gamma=0.1, kernel=rbf; total time=   0.0s\n",
            "[CV] END .......................C=100, gamma=0.1, kernel=rbf; total time=   0.0s\n",
            "[CV] END .......................C=100, gamma=0.1, kernel=rbf; total time=   0.0s\n",
            "[CV] END .......................C=100, gamma=0.1, kernel=rbf; total time=   0.0s\n",
            "[CV] END ..................C=100, gamma=0.001, kernel=linear; total time= 3.7min\n",
            "[CV] END ..................C=100, gamma=0.001, kernel=linear; total time= 3.0min\n",
            "[CV] END ..................C=100, gamma=0.001, kernel=linear; total time= 3.8min\n",
            "[CV] END ..................C=100, gamma=0.001, kernel=linear; total time= 2.8min\n",
            "[CV] END ..................C=100, gamma=0.001, kernel=linear; total time= 5.6min\n",
            "[CV] END .....................C=100, gamma=0.001, kernel=rbf; total time=   0.0s\n",
            "[CV] END .....................C=100, gamma=0.001, kernel=rbf; total time=   0.0s\n",
            "[CV] END .....................C=100, gamma=0.001, kernel=rbf; total time=   0.0s\n",
            "[CV] END .....................C=100, gamma=0.001, kernel=rbf; total time=   0.0s\n",
            "[CV] END .....................C=100, gamma=0.001, kernel=rbf; total time=   0.0s\n"
          ]
        },
        {
          "output_type": "execute_result",
          "data": {
            "text/plain": [
              "GridSearchCV(estimator=SVC(),\n",
              "             param_grid={'C': [10, 100], 'gamma': [0.1, 0.001],\n",
              "                         'kernel': ['linear', 'rbf']},\n",
              "             verbose=2)"
            ]
          },
          "metadata": {},
          "execution_count": 74
        }
      ]
    },
    {
      "cell_type": "code",
      "source": [
        "grid.best_params_\n"
      ],
      "metadata": {
        "colab": {
          "base_uri": "https://localhost:8080/"
        },
        "id": "W-HJdGdtQ96j",
        "outputId": "4d62f425-c07b-4bc9-aee0-38d85990a5a2"
      },
      "execution_count": 75,
      "outputs": [
        {
          "output_type": "execute_result",
          "data": {
            "text/plain": [
              "{'C': 10, 'gamma': 0.1, 'kernel': 'linear'}"
            ]
          },
          "metadata": {},
          "execution_count": 75
        }
      ]
    },
    {
      "cell_type": "code",
      "source": [
        "SVC_model=SVC(C = 10 , gamma = 0.1 , kernel = 'linear')"
      ],
      "metadata": {
        "id": "8FhlT0XnRiEE"
      },
      "execution_count": 77,
      "outputs": []
    },
    {
      "cell_type": "code",
      "source": [
        "SVC_model.fit(x_train,y_train)\n"
      ],
      "metadata": {
        "colab": {
          "base_uri": "https://localhost:8080/"
        },
        "id": "xB0gWyl0R4Rj",
        "outputId": "8a872dad-e312-4722-fdbb-0e932d44a497"
      },
      "execution_count": 78,
      "outputs": [
        {
          "output_type": "execute_result",
          "data": {
            "text/plain": [
              "SVC(C=10, gamma=0.1, kernel='linear')"
            ]
          },
          "metadata": {},
          "execution_count": 78
        }
      ]
    },
    {
      "cell_type": "code",
      "source": [
        "pred_dt4=SVC_model.predict(x_cv)"
      ],
      "metadata": {
        "id": "WxI7Jw2SR6oL"
      },
      "execution_count": 79,
      "outputs": []
    },
    {
      "cell_type": "code",
      "source": [
        "accuracy_score(y_cv,pred_dt4)"
      ],
      "metadata": {
        "colab": {
          "base_uri": "https://localhost:8080/"
        },
        "id": "3n-deCMNR6qZ",
        "outputId": "6e272fbb-eec0-451c-898a-a39cb7ac732d"
      },
      "execution_count": 80,
      "outputs": [
        {
          "output_type": "execute_result",
          "data": {
            "text/plain": [
              "0.8246753246753247"
            ]
          },
          "metadata": {},
          "execution_count": 80
        }
      ]
    },
    {
      "cell_type": "code",
      "source": [
        "# from sklearn.ensemble import AdaBoostClassifier\n",
        "# clf_C = AdaBoostClassifier(DecisionTreeClassifier(max_depth=5),random_state=42)\n",
        "\n",
        "# clf =  GradientBoostingClassifier(n_estimators=500, random_state=44)\n",
        "\n",
        "# # TODO: Create the parameters list you wish to tune, using a dictionary if needed.\n",
        "# # HINT: parameters = {'parameter_1': [value1, value2], 'parameter_2': [value1, value2]}\n",
        "# parameters = {\n",
        "#               'max_depth' : [3, 5, 7],\n",
        "#               'n_estimators' :[25, 50, 150],\n",
        "#               'min_samples_split' : [3, 4, 5]\n",
        "#              }\n",
        "\n",
        "# # TODO: Make an fbeta_score scoring object using make_scorer()\n",
        "# scorer = make_scorer(fbeta_score, beta=0.5)\n",
        "\n",
        "\n",
        "# # TODO: Perform grid search on the classifier using 'scorer' as the scoring method using GridSearchCV()\n",
        "# grid_obj = GridSearchCV(clf, parameters, cv=2, scoring=scorer)\n",
        "\n",
        "# # TODO: Fit the grid search object to the training data and find the optimal parameters using fit()\n",
        "# grid_fit = grid_obj.fit(X_train, y_train)\n",
        "\n",
        "# # Get the estimator\n",
        "# best_clf = grid_fit.best_estimator_\n",
        "\n",
        "# # Make predictions using the unoptimized and model\n",
        "# predictions = (clf.fit(X_train, y_train)).predict(X_test)\n",
        "# best_predictions = best_clf.predict(X_test)\n"
      ],
      "metadata": {
        "id": "4RT1YMwp0mHr"
      },
      "execution_count": null,
      "outputs": []
    },
    {
      "cell_type": "markdown",
      "source": [
        "####classification report and confusion matrix for each algorithm \n"
      ],
      "metadata": {
        "id": "DeUWOUzqUQow"
      }
    },
    {
      "cell_type": "code",
      "source": [
        "from sklearn.metrics import classification_report, confusion_matrix"
      ],
      "metadata": {
        "id": "usEEYVvXUrp3"
      },
      "execution_count": 81,
      "outputs": []
    },
    {
      "cell_type": "markdown",
      "source": [
        "1. Logistic regression"
      ],
      "metadata": {
        "id": "NflrvHFYUivC"
      }
    },
    {
      "cell_type": "code",
      "source": [
        "print(classification_report(y_cv,pred_cv))\n",
        "print(confusion_matrix(y_cv, pred_cv))"
      ],
      "metadata": {
        "colab": {
          "base_uri": "https://localhost:8080/"
        },
        "id": "DG97S3YE0mJ0",
        "outputId": "7fb3ba0c-36ff-47f2-d3bc-0db4e246149d"
      },
      "execution_count": 82,
      "outputs": [
        {
          "output_type": "stream",
          "name": "stdout",
          "text": [
            "              precision    recall  f1-score   support\n",
            "\n",
            "           0       0.76      0.56      0.65        39\n",
            "           1       0.86      0.94      0.90       115\n",
            "\n",
            "    accuracy                           0.84       154\n",
            "   macro avg       0.81      0.75      0.77       154\n",
            "weighted avg       0.84      0.84      0.84       154\n",
            "\n",
            "[[ 22  17]\n",
            " [  7 108]]\n"
          ]
        }
      ]
    },
    {
      "cell_type": "markdown",
      "source": [
        "2. Decision Tree"
      ],
      "metadata": {
        "id": "Rl8bLEwqVO6g"
      }
    },
    {
      "cell_type": "code",
      "source": [
        "print(classification_report(y_cv,pred_dt1))\n",
        "print(confusion_matrix(y_cv, pred_dt1))"
      ],
      "metadata": {
        "colab": {
          "base_uri": "https://localhost:8080/"
        },
        "id": "KrKpx_tP0mPD",
        "outputId": "dd804822-3d05-402c-a84b-0871f8dc9f88"
      },
      "execution_count": 83,
      "outputs": [
        {
          "output_type": "stream",
          "name": "stdout",
          "text": [
            "              precision    recall  f1-score   support\n",
            "\n",
            "           0       0.88      0.54      0.67        39\n",
            "           1       0.86      0.97      0.91       115\n",
            "\n",
            "    accuracy                           0.86       154\n",
            "   macro avg       0.87      0.76      0.79       154\n",
            "weighted avg       0.86      0.86      0.85       154\n",
            "\n",
            "[[ 21  18]\n",
            " [  3 112]]\n"
          ]
        }
      ]
    },
    {
      "cell_type": "markdown",
      "source": [
        "3. K Nearest neighbour"
      ],
      "metadata": {
        "id": "4uzvOvB5VYsz"
      }
    },
    {
      "cell_type": "code",
      "source": [
        "print(classification_report(y_cv,pred_dt2))\n",
        "print(confusion_matrix(y_cv, pred_dt2))"
      ],
      "metadata": {
        "colab": {
          "base_uri": "https://localhost:8080/"
        },
        "id": "SxK1lbTL0mRO",
        "outputId": "6b2cd9cc-0bff-404d-9025-7fefa82e61b7"
      },
      "execution_count": 84,
      "outputs": [
        {
          "output_type": "stream",
          "name": "stdout",
          "text": [
            "              precision    recall  f1-score   support\n",
            "\n",
            "           0       0.47      0.18      0.26        39\n",
            "           1       0.77      0.93      0.84       115\n",
            "\n",
            "    accuracy                           0.74       154\n",
            "   macro avg       0.62      0.55      0.55       154\n",
            "weighted avg       0.69      0.74      0.69       154\n",
            "\n",
            "[[  7  32]\n",
            " [  8 107]]\n"
          ]
        }
      ]
    },
    {
      "cell_type": "markdown",
      "source": [
        "4. Random Forest"
      ],
      "metadata": {
        "id": "9OEQl39WVrXy"
      }
    },
    {
      "cell_type": "code",
      "source": [
        "print(classification_report(y_cv,pred_dt3))\n",
        "print(confusion_matrix(y_cv, pred_dt3))"
      ],
      "metadata": {
        "colab": {
          "base_uri": "https://localhost:8080/"
        },
        "id": "L9HLegnj0mUI",
        "outputId": "e854ac92-6f9d-4ced-a715-2e3978c50cb6"
      },
      "execution_count": 85,
      "outputs": [
        {
          "output_type": "stream",
          "name": "stdout",
          "text": [
            "              precision    recall  f1-score   support\n",
            "\n",
            "           0       0.81      0.54      0.65        39\n",
            "           1       0.86      0.96      0.91       115\n",
            "\n",
            "    accuracy                           0.85       154\n",
            "   macro avg       0.83      0.75      0.78       154\n",
            "weighted avg       0.85      0.85      0.84       154\n",
            "\n",
            "[[ 21  18]\n",
            " [  5 110]]\n"
          ]
        }
      ]
    },
    {
      "cell_type": "markdown",
      "source": [
        "5. SVM"
      ],
      "metadata": {
        "id": "yNCTp_iQV5MH"
      }
    },
    {
      "cell_type": "code",
      "source": [
        "print(classification_report(y_cv,pred_dt4))\n",
        "print(confusion_matrix(y_cv, pred_dt4))"
      ],
      "metadata": {
        "colab": {
          "base_uri": "https://localhost:8080/"
        },
        "id": "hnzc4cd60mWw",
        "outputId": "c6848288-869e-42eb-b122-eea9d6a2386e"
      },
      "execution_count": 86,
      "outputs": [
        {
          "output_type": "stream",
          "name": "stdout",
          "text": [
            "              precision    recall  f1-score   support\n",
            "\n",
            "           0       0.73      0.49      0.58        39\n",
            "           1       0.84      0.94      0.89       115\n",
            "\n",
            "    accuracy                           0.82       154\n",
            "   macro avg       0.79      0.71      0.74       154\n",
            "weighted avg       0.82      0.82      0.81       154\n",
            "\n",
            "[[ 19  20]\n",
            " [  7 108]]\n"
          ]
        }
      ]
    }
  ],
  "metadata": {
    "kernelspec": {
      "display_name": "Python 3",
      "language": "python",
      "name": "python3"
    },
    "language_info": {
      "codemirror_mode": {
        "name": "ipython",
        "version": 3
      },
      "file_extension": ".py",
      "mimetype": "text/x-python",
      "name": "python",
      "nbconvert_exporter": "python",
      "pygments_lexer": "ipython3",
      "version": "3.8.3"
    },
    "colab": {
      "name": "loan_prediction.ipynb",
      "provenance": [],
      "include_colab_link": true
    },
    "accelerator": "GPU"
  },
  "nbformat": 4,
  "nbformat_minor": 0
}