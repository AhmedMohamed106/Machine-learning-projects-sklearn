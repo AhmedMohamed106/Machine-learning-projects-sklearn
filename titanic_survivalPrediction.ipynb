{
  "metadata": {
    "kernelspec": {
      "language": "python",
      "display_name": "Python 3",
      "name": "python3"
    },
    "language_info": {
      "name": "python",
      "version": "3.7.10",
      "mimetype": "text/x-python",
      "codemirror_mode": {
        "name": "ipython",
        "version": 3
      },
      "pygments_lexer": "ipython3",
      "nbconvert_exporter": "python",
      "file_extension": ".py"
    },
    "colab": {
      "name": "titanic_survivalPrediction",
      "provenance": [],
      "collapsed_sections": [],
      "include_colab_link": true
    }
  },
  "nbformat_minor": 0,
  "nbformat": 4,
  "cells": [
    {
      "cell_type": "markdown",
      "metadata": {
        "id": "view-in-github",
        "colab_type": "text"
      },
      "source": [
        "<a href=\"https://colab.research.google.com/github/ahmedmek1/Machine-learning-projects-sklearn/blob/main/titanic_survivalPrediction.ipynb\" target=\"_parent\"><img src=\"https://colab.research.google.com/assets/colab-badge.svg\" alt=\"Open In Colab\"/></a>"
      ]
    },
    {
      "cell_type": "markdown",
      "source": [
        "# 1. Introduction 👋\n",
        "<img src=\"https://nypost.com/wp-content/uploads/sites/2/2017/01/170103-titanic-ship-feature.jpg?quality=90&strip=all&w=1488\" alt=\"Titanic Ship Picture\" width=\"800\" height=\"800\"><br>\n",
        "\n",
        "## Data Set Problems 🤔\n",
        "👉 This dataset contains information about general information (gender, age) and detail of each passengers (ticket class, fare, cabin number, and etc). Machine learning model is needed in order **to predict survivor of titanic passenger.**\n",
        "\n",
        "---\n",
        "\n",
        "## Objectives of Notebook 📌\n",
        "👉 **This notebook aims to:**\n",
        "*   Dataset exploration using various types of data visualization.\n",
        "*   Build various ML models that can predict survivor of titanic passenger.\n",
        "*   Generating prediction output in csv format.\n",
        "\n",
        "👨‍💻 **The machine learning models used in this project are:** \n",
        "1. Logistic Regression\n",
        "2. SVC\n",
        "3. K Neighbors Classifier\n",
        "4. Decision Tree\n",
        "5. Random Forest\n",
        "6. Gradient Boosting\n",
        "\n",
        "---\n",
        "\n",
        "## Data Set Description 🧾\n",
        "\n",
        "👉 There are **12 variables** in this data set:\n",
        "*   **4 categorical** variables,\n",
        "*   **4 continuous** variables,\n",
        "*   **1** variable that contains ID of passenger,\n",
        "*   **1** variable to accommodate the name of passenger,\n",
        "*   **1** variable that stores ticket number, and\n",
        "*   **1** variable with various cabin number.\n",
        "\n",
        "<br>\n",
        "\n",
        "👉 The following is the **structure of the data set**.\n",
        "\n",
        "\n",
        "<table style=\"width:100%\">\n",
        "<thead>\n",
        "<tr>\n",
        "<th style=\"text-align:center; font-weight: bold; font-size:14px\">Variable Name</th>\n",
        "<th style=\"text-align:center; font-weight: bold; font-size:14px\">Description</th>\n",
        "<th style=\"text-align:center; font-weight: bold; font-size:14px\">Sample Data</th>\n",
        "</tr>\n",
        "</thead>\n",
        "<tbody>\n",
        "<tr>\n",
        "<td><b>PassengerId</b></td>\n",
        "<td>ID of passenger <br> (unique ID)</td>\n",
        "<td>1; 2; ...</td>\n",
        "</tr>\n",
        "<tr>\n",
        "<td><b>Survived</b></td>\n",
        "<td>Survival status <br> (0 = No, 1 = Yes)</td>\n",
        "<td>0; 1; ...</td>\n",
        "</tr>\n",
        "<tr>\n",
        "<td><b>Pclass</b></td>\n",
        "<td>Ticket class <br> (1 = 1st/Upper, 2 = 2nd/Middle, 3 = 3rd/Lower)</td>\n",
        "<td>1; 3; ...</td>\n",
        "</tr>\n",
        "<tr>\n",
        "<td><b>Name</b></td>\n",
        "<td>Passenger name <br> (unique)</td>\n",
        "<td>Braund, Mr. Owen Harris; Heikkinen, Miss. Laina; ...</td>\n",
        "</tr>\n",
        "<tr>\n",
        "<td><b>Sex</b></td>\n",
        "<td>Passenger gender <br> (male or female)</td>\n",
        "<td>male; female; ...</td>\n",
        "</tr>\n",
        "<tr>\n",
        "<td><b>Age</b></td>\n",
        "<td>Passenger age <br> (in years)</td>\n",
        "<td>22; 38; ...</td>\n",
        "</tr>\n",
        "<tr>\n",
        "<td><b>SibSp</b></td>\n",
        "<td>No of siblings / spouses aboard the Titanic</td>\n",
        "<td>0; 3; ...</td>\n",
        "</tr>\n",
        "<tr>\n",
        "<td><b>Parch</b></td>\n",
        "<td># of parents / children aboard the Titanic</td>\n",
        "<td>1; 2; ...</td>\n",
        "</tr>\n",
        "<tr>\n",
        "<td><b>Ticket</b></td>\n",
        "<td>Ticket number<br> (unique)</td>\n",
        "<td>A/5 21171; PC 17599; ...</td>\n",
        "</tr>\n",
        "<tr>\n",
        "<td><b>Fare</b></td>\n",
        "<td>Passenger fare</td>\n",
        "<td>7.25; 71.2833; ...</td>\n",
        "</tr>\n",
        "<tr>\n",
        "<td><b>Cabin</b></td>\n",
        "<td>Cabin number</td>\n",
        "<td>C85; C123; ...</td>\n",
        "</tr>\n",
        "<tr>\n",
        "<td><b>Embarked</b></td>\n",
        "<td>Embarkation port<br> (C = Cherbourg, Q = Queenstown, S = Southampton)</td>\n",
        "<td>C; S; ...</td>\n",
        "</tr>\n",
        "</tbody>\n",
        "</table>\n",
        "\n",
        "---\n",
        "\n",
        "**Like this notebook? You can support me by giving upvote** 😆👍🔼 <br>\n",
        "👉 *More about myself: [linktr.ee/caesarmario_](http://linktr.ee/caesarmario_)*"
      ],
      "metadata": {
        "id": "Sq5wHQcYZaRW"
      }
    },
    {
      "cell_type": "markdown",
      "source": [
        "# 2. Importing Libraries 📚\n",
        "👉 **Importing libraries** that will be used in this notebook."
      ],
      "metadata": {
        "id": "7R3u-7_dZaRg"
      }
    },
    {
      "cell_type": "code",
      "source": [
        "#Connect to google drive \n",
        "from google.colab import drive\n",
        "drive.mount('/content/drive')"
      ],
      "metadata": {
        "colab": {
          "base_uri": "https://localhost:8080/"
        },
        "id": "JAih4_U3ZkEK",
        "outputId": "b99cac99-b269-46e7-b1de-b130e848c455"
      },
      "execution_count": null,
      "outputs": [
        {
          "output_type": "stream",
          "name": "stdout",
          "text": [
            "Mounted at /content/drive\n"
          ]
        }
      ]
    },
    {
      "cell_type": "code",
      "source": [
        "!pip install kaggle\n"
      ],
      "metadata": {
        "colab": {
          "base_uri": "https://localhost:8080/"
        },
        "id": "4V0-tfaeZmrk",
        "outputId": "6965cdf0-c65f-4589-f15d-90b562491246"
      },
      "execution_count": null,
      "outputs": [
        {
          "output_type": "stream",
          "name": "stdout",
          "text": [
            "Requirement already satisfied: kaggle in /usr/local/lib/python3.7/dist-packages (1.5.12)\n",
            "Requirement already satisfied: certifi in /usr/local/lib/python3.7/dist-packages (from kaggle) (2021.10.8)\n",
            "Requirement already satisfied: python-slugify in /usr/local/lib/python3.7/dist-packages (from kaggle) (6.1.2)\n",
            "Requirement already satisfied: six>=1.10 in /usr/local/lib/python3.7/dist-packages (from kaggle) (1.15.0)\n",
            "Requirement already satisfied: requests in /usr/local/lib/python3.7/dist-packages (from kaggle) (2.23.0)\n",
            "Requirement already satisfied: urllib3 in /usr/local/lib/python3.7/dist-packages (from kaggle) (1.24.3)\n",
            "Requirement already satisfied: tqdm in /usr/local/lib/python3.7/dist-packages (from kaggle) (4.64.0)\n",
            "Requirement already satisfied: python-dateutil in /usr/local/lib/python3.7/dist-packages (from kaggle) (2.8.2)\n",
            "Requirement already satisfied: text-unidecode>=1.3 in /usr/local/lib/python3.7/dist-packages (from python-slugify->kaggle) (1.3)\n",
            "Requirement already satisfied: idna<3,>=2.5 in /usr/local/lib/python3.7/dist-packages (from requests->kaggle) (2.10)\n",
            "Requirement already satisfied: chardet<4,>=3.0.2 in /usr/local/lib/python3.7/dist-packages (from requests->kaggle) (3.0.4)\n"
          ]
        }
      ]
    },
    {
      "cell_type": "code",
      "source": [
        "%cd /content/drive/My Drive/Colab Notebooks/\n"
      ],
      "metadata": {
        "colab": {
          "base_uri": "https://localhost:8080/"
        },
        "id": "QLVZMDgeZmuE",
        "outputId": "1e6f993d-a56c-4799-cfa6-76095f6b8aca"
      },
      "execution_count": null,
      "outputs": [
        {
          "output_type": "stream",
          "name": "stdout",
          "text": [
            "/content/drive/My Drive/Colab Notebooks\n"
          ]
        }
      ]
    },
    {
      "cell_type": "code",
      "source": [
        "import os\n",
        "os.environ['KAGGLE_CONFIG_DIR'] = \"/content/drive/My Drive/Colab Notebooks/\""
      ],
      "metadata": {
        "id": "5G3jGmrQZmwN"
      },
      "execution_count": null,
      "outputs": []
    },
    {
      "cell_type": "code",
      "source": [
        "!kaggle datasets download -d brendan45774/test-file"
      ],
      "metadata": {
        "colab": {
          "base_uri": "https://localhost:8080/"
        },
        "id": "kPfbxW5eZmyU",
        "outputId": "309224c8-3f9c-4bd1-9cb3-0b02cbe9a9f1"
      },
      "execution_count": null,
      "outputs": [
        {
          "output_type": "stream",
          "name": "stdout",
          "text": [
            "401 - Unauthorized\n"
          ]
        }
      ]
    },
    {
      "cell_type": "code",
      "source": [
        "import numpy as np\n",
        "import pandas as pd\n",
        "import matplotlib.pyplot as plt\n",
        "import missingno as mso\n",
        "import seaborn as sns\n",
        "import warnings\n",
        "import os\n",
        "\n",
        "from sklearn.linear_model import LogisticRegression\n",
        "from sklearn.model_selection import train_test_split\n",
        "from sklearn.metrics import confusion_matrix\n",
        "from sklearn.metrics import classification_report\n",
        "from sklearn.metrics import accuracy_score\n",
        "from sklearn.tree import DecisionTreeClassifier\n",
        "from sklearn.svm import SVC\n",
        "from sklearn.ensemble import RandomForestClassifier\n",
        "from sklearn.neighbors import KNeighborsClassifier\n",
        "from sklearn.ensemble import GradientBoostingClassifier\n",
        "from xgboost import XGBClassifier\n",
        "from sklearn.model_selection import GridSearchCV, RandomizedSearchCV\n",
        "\n",
        "warnings.simplefilter(action='ignore', category=FutureWarning)"
      ],
      "metadata": {
        "id": "lXqPrkaljhI6",
        "execution": {
          "iopub.status.busy": "2022-03-08T03:14:42.931232Z",
          "iopub.execute_input": "2022-03-08T03:14:42.931627Z",
          "iopub.status.idle": "2022-03-08T03:14:44.498041Z",
          "shell.execute_reply.started": "2022-03-08T03:14:42.931568Z",
          "shell.execute_reply": "2022-03-08T03:14:44.497381Z"
        },
        "trusted": true
      },
      "execution_count": null,
      "outputs": []
    },
    {
      "cell_type": "code",
      "source": [
        "train_ds = pd.read_csv(\"train.csv\")\n",
        "test_ds = pd.read_csv(\"test.csv\")"
      ],
      "metadata": {
        "id": "Rt0FIXLWk2x6",
        "execution": {
          "iopub.status.busy": "2022-03-08T03:14:44.506529Z",
          "iopub.execute_input": "2022-03-08T03:14:44.506802Z",
          "iopub.status.idle": "2022-03-08T03:14:44.535494Z",
          "shell.execute_reply.started": "2022-03-08T03:14:44.506764Z",
          "shell.execute_reply": "2022-03-08T03:14:44.534614Z"
        },
        "trusted": true
      },
      "execution_count": null,
      "outputs": []
    },
    {
      "cell_type": "code",
      "source": [
        "train_ds.head()"
      ],
      "metadata": {
        "id": "YlsS7ZdSlSUf",
        "outputId": "cffe33c3-3e64-4bc5-d56e-b78a0892e7da",
        "execution": {
          "iopub.status.busy": "2022-03-08T03:14:44.536540Z",
          "iopub.execute_input": "2022-03-08T03:14:44.537908Z",
          "iopub.status.idle": "2022-03-08T03:14:44.566465Z",
          "shell.execute_reply.started": "2022-03-08T03:14:44.537845Z",
          "shell.execute_reply": "2022-03-08T03:14:44.565396Z"
        },
        "trusted": true,
        "colab": {
          "base_uri": "https://localhost:8080/",
          "height": 206
        }
      },
      "execution_count": null,
      "outputs": [
        {
          "output_type": "execute_result",
          "data": {
            "text/plain": [
              "   PassengerId  Survived  Pclass  \\\n",
              "0            1         0       3   \n",
              "1            2         1       1   \n",
              "2            3         1       3   \n",
              "3            4         1       1   \n",
              "4            5         0       3   \n",
              "\n",
              "                                                Name     Sex   Age  SibSp  \\\n",
              "0                            Braund, Mr. Owen Harris    male  22.0      1   \n",
              "1  Cumings, Mrs. John Bradley (Florence Briggs Th...  female  38.0      1   \n",
              "2                             Heikkinen, Miss. Laina  female  26.0      0   \n",
              "3       Futrelle, Mrs. Jacques Heath (Lily May Peel)  female  35.0      1   \n",
              "4                           Allen, Mr. William Henry    male  35.0      0   \n",
              "\n",
              "   Parch            Ticket     Fare Cabin Embarked  \n",
              "0      0         A/5 21171   7.2500   NaN        S  \n",
              "1      0          PC 17599  71.2833   C85        C  \n",
              "2      0  STON/O2. 3101282   7.9250   NaN        S  \n",
              "3      0            113803  53.1000  C123        S  \n",
              "4      0            373450   8.0500   NaN        S  "
            ],
            "text/html": [
              "\n",
              "  <div id=\"df-825e26cf-e61d-4d5f-8182-c54ea11f1e9b\">\n",
              "    <div class=\"colab-df-container\">\n",
              "      <div>\n",
              "<style scoped>\n",
              "    .dataframe tbody tr th:only-of-type {\n",
              "        vertical-align: middle;\n",
              "    }\n",
              "\n",
              "    .dataframe tbody tr th {\n",
              "        vertical-align: top;\n",
              "    }\n",
              "\n",
              "    .dataframe thead th {\n",
              "        text-align: right;\n",
              "    }\n",
              "</style>\n",
              "<table border=\"1\" class=\"dataframe\">\n",
              "  <thead>\n",
              "    <tr style=\"text-align: right;\">\n",
              "      <th></th>\n",
              "      <th>PassengerId</th>\n",
              "      <th>Survived</th>\n",
              "      <th>Pclass</th>\n",
              "      <th>Name</th>\n",
              "      <th>Sex</th>\n",
              "      <th>Age</th>\n",
              "      <th>SibSp</th>\n",
              "      <th>Parch</th>\n",
              "      <th>Ticket</th>\n",
              "      <th>Fare</th>\n",
              "      <th>Cabin</th>\n",
              "      <th>Embarked</th>\n",
              "    </tr>\n",
              "  </thead>\n",
              "  <tbody>\n",
              "    <tr>\n",
              "      <th>0</th>\n",
              "      <td>1</td>\n",
              "      <td>0</td>\n",
              "      <td>3</td>\n",
              "      <td>Braund, Mr. Owen Harris</td>\n",
              "      <td>male</td>\n",
              "      <td>22.0</td>\n",
              "      <td>1</td>\n",
              "      <td>0</td>\n",
              "      <td>A/5 21171</td>\n",
              "      <td>7.2500</td>\n",
              "      <td>NaN</td>\n",
              "      <td>S</td>\n",
              "    </tr>\n",
              "    <tr>\n",
              "      <th>1</th>\n",
              "      <td>2</td>\n",
              "      <td>1</td>\n",
              "      <td>1</td>\n",
              "      <td>Cumings, Mrs. John Bradley (Florence Briggs Th...</td>\n",
              "      <td>female</td>\n",
              "      <td>38.0</td>\n",
              "      <td>1</td>\n",
              "      <td>0</td>\n",
              "      <td>PC 17599</td>\n",
              "      <td>71.2833</td>\n",
              "      <td>C85</td>\n",
              "      <td>C</td>\n",
              "    </tr>\n",
              "    <tr>\n",
              "      <th>2</th>\n",
              "      <td>3</td>\n",
              "      <td>1</td>\n",
              "      <td>3</td>\n",
              "      <td>Heikkinen, Miss. Laina</td>\n",
              "      <td>female</td>\n",
              "      <td>26.0</td>\n",
              "      <td>0</td>\n",
              "      <td>0</td>\n",
              "      <td>STON/O2. 3101282</td>\n",
              "      <td>7.9250</td>\n",
              "      <td>NaN</td>\n",
              "      <td>S</td>\n",
              "    </tr>\n",
              "    <tr>\n",
              "      <th>3</th>\n",
              "      <td>4</td>\n",
              "      <td>1</td>\n",
              "      <td>1</td>\n",
              "      <td>Futrelle, Mrs. Jacques Heath (Lily May Peel)</td>\n",
              "      <td>female</td>\n",
              "      <td>35.0</td>\n",
              "      <td>1</td>\n",
              "      <td>0</td>\n",
              "      <td>113803</td>\n",
              "      <td>53.1000</td>\n",
              "      <td>C123</td>\n",
              "      <td>S</td>\n",
              "    </tr>\n",
              "    <tr>\n",
              "      <th>4</th>\n",
              "      <td>5</td>\n",
              "      <td>0</td>\n",
              "      <td>3</td>\n",
              "      <td>Allen, Mr. William Henry</td>\n",
              "      <td>male</td>\n",
              "      <td>35.0</td>\n",
              "      <td>0</td>\n",
              "      <td>0</td>\n",
              "      <td>373450</td>\n",
              "      <td>8.0500</td>\n",
              "      <td>NaN</td>\n",
              "      <td>S</td>\n",
              "    </tr>\n",
              "  </tbody>\n",
              "</table>\n",
              "</div>\n",
              "      <button class=\"colab-df-convert\" onclick=\"convertToInteractive('df-825e26cf-e61d-4d5f-8182-c54ea11f1e9b')\"\n",
              "              title=\"Convert this dataframe to an interactive table.\"\n",
              "              style=\"display:none;\">\n",
              "        \n",
              "  <svg xmlns=\"http://www.w3.org/2000/svg\" height=\"24px\"viewBox=\"0 0 24 24\"\n",
              "       width=\"24px\">\n",
              "    <path d=\"M0 0h24v24H0V0z\" fill=\"none\"/>\n",
              "    <path d=\"M18.56 5.44l.94 2.06.94-2.06 2.06-.94-2.06-.94-.94-2.06-.94 2.06-2.06.94zm-11 1L8.5 8.5l.94-2.06 2.06-.94-2.06-.94L8.5 2.5l-.94 2.06-2.06.94zm10 10l.94 2.06.94-2.06 2.06-.94-2.06-.94-.94-2.06-.94 2.06-2.06.94z\"/><path d=\"M17.41 7.96l-1.37-1.37c-.4-.4-.92-.59-1.43-.59-.52 0-1.04.2-1.43.59L10.3 9.45l-7.72 7.72c-.78.78-.78 2.05 0 2.83L4 21.41c.39.39.9.59 1.41.59.51 0 1.02-.2 1.41-.59l7.78-7.78 2.81-2.81c.8-.78.8-2.07 0-2.86zM5.41 20L4 18.59l7.72-7.72 1.47 1.35L5.41 20z\"/>\n",
              "  </svg>\n",
              "      </button>\n",
              "      \n",
              "  <style>\n",
              "    .colab-df-container {\n",
              "      display:flex;\n",
              "      flex-wrap:wrap;\n",
              "      gap: 12px;\n",
              "    }\n",
              "\n",
              "    .colab-df-convert {\n",
              "      background-color: #E8F0FE;\n",
              "      border: none;\n",
              "      border-radius: 50%;\n",
              "      cursor: pointer;\n",
              "      display: none;\n",
              "      fill: #1967D2;\n",
              "      height: 32px;\n",
              "      padding: 0 0 0 0;\n",
              "      width: 32px;\n",
              "    }\n",
              "\n",
              "    .colab-df-convert:hover {\n",
              "      background-color: #E2EBFA;\n",
              "      box-shadow: 0px 1px 2px rgba(60, 64, 67, 0.3), 0px 1px 3px 1px rgba(60, 64, 67, 0.15);\n",
              "      fill: #174EA6;\n",
              "    }\n",
              "\n",
              "    [theme=dark] .colab-df-convert {\n",
              "      background-color: #3B4455;\n",
              "      fill: #D2E3FC;\n",
              "    }\n",
              "\n",
              "    [theme=dark] .colab-df-convert:hover {\n",
              "      background-color: #434B5C;\n",
              "      box-shadow: 0px 1px 3px 1px rgba(0, 0, 0, 0.15);\n",
              "      filter: drop-shadow(0px 1px 2px rgba(0, 0, 0, 0.3));\n",
              "      fill: #FFFFFF;\n",
              "    }\n",
              "  </style>\n",
              "\n",
              "      <script>\n",
              "        const buttonEl =\n",
              "          document.querySelector('#df-825e26cf-e61d-4d5f-8182-c54ea11f1e9b button.colab-df-convert');\n",
              "        buttonEl.style.display =\n",
              "          google.colab.kernel.accessAllowed ? 'block' : 'none';\n",
              "\n",
              "        async function convertToInteractive(key) {\n",
              "          const element = document.querySelector('#df-825e26cf-e61d-4d5f-8182-c54ea11f1e9b');\n",
              "          const dataTable =\n",
              "            await google.colab.kernel.invokeFunction('convertToInteractive',\n",
              "                                                     [key], {});\n",
              "          if (!dataTable) return;\n",
              "\n",
              "          const docLinkHtml = 'Like what you see? Visit the ' +\n",
              "            '<a target=\"_blank\" href=https://colab.research.google.com/notebooks/data_table.ipynb>data table notebook</a>'\n",
              "            + ' to learn more about interactive tables.';\n",
              "          element.innerHTML = '';\n",
              "          dataTable['output_type'] = 'display_data';\n",
              "          await google.colab.output.renderOutput(dataTable, element);\n",
              "          const docLink = document.createElement('div');\n",
              "          docLink.innerHTML = docLinkHtml;\n",
              "          element.appendChild(docLink);\n",
              "        }\n",
              "      </script>\n",
              "    </div>\n",
              "  </div>\n",
              "  "
            ]
          },
          "metadata": {},
          "execution_count": 9
        }
      ]
    },
    {
      "cell_type": "code",
      "source": [
        "print(train_ds.info())"
      ],
      "metadata": {
        "id": "NoQFdQ8c9wJC",
        "outputId": "426b8c4d-ef3a-4fec-c5a5-96504350100e",
        "execution": {
          "iopub.status.busy": "2022-03-08T03:14:44.568634Z",
          "iopub.execute_input": "2022-03-08T03:14:44.569477Z",
          "iopub.status.idle": "2022-03-08T03:14:44.595933Z",
          "shell.execute_reply.started": "2022-03-08T03:14:44.569442Z",
          "shell.execute_reply": "2022-03-08T03:14:44.595062Z"
        },
        "trusted": true,
        "colab": {
          "base_uri": "https://localhost:8080/"
        }
      },
      "execution_count": null,
      "outputs": [
        {
          "output_type": "stream",
          "name": "stdout",
          "text": [
            "<class 'pandas.core.frame.DataFrame'>\n",
            "RangeIndex: 891 entries, 0 to 890\n",
            "Data columns (total 12 columns):\n",
            " #   Column       Non-Null Count  Dtype  \n",
            "---  ------       --------------  -----  \n",
            " 0   PassengerId  891 non-null    int64  \n",
            " 1   Survived     891 non-null    int64  \n",
            " 2   Pclass       891 non-null    int64  \n",
            " 3   Name         891 non-null    object \n",
            " 4   Sex          891 non-null    object \n",
            " 5   Age          714 non-null    float64\n",
            " 6   SibSp        891 non-null    int64  \n",
            " 7   Parch        891 non-null    int64  \n",
            " 8   Ticket       891 non-null    object \n",
            " 9   Fare         891 non-null    float64\n",
            " 10  Cabin        204 non-null    object \n",
            " 11  Embarked     889 non-null    object \n",
            "dtypes: float64(2), int64(5), object(5)\n",
            "memory usage: 83.7+ KB\n",
            "None\n"
          ]
        }
      ]
    },
    {
      "cell_type": "markdown",
      "source": [
        "👉 In train data set, **it can be seen the data type for each column**. Also, **there are some null values** in specific columns."
      ],
      "metadata": {
        "id": "i-1amDZfZaRo"
      }
    },
    {
      "cell_type": "code",
      "source": [
        "test_ds.head()"
      ],
      "metadata": {
        "id": "Hl6gEF_RCQfP",
        "outputId": "b3ed762f-8b60-4056-80c1-fcb4709b4c8b",
        "execution": {
          "iopub.status.busy": "2022-03-08T03:14:44.597610Z",
          "iopub.execute_input": "2022-03-08T03:14:44.597868Z",
          "iopub.status.idle": "2022-03-08T03:14:44.619005Z",
          "shell.execute_reply.started": "2022-03-08T03:14:44.597833Z",
          "shell.execute_reply": "2022-03-08T03:14:44.618301Z"
        },
        "trusted": true,
        "colab": {
          "base_uri": "https://localhost:8080/",
          "height": 206
        }
      },
      "execution_count": null,
      "outputs": [
        {
          "output_type": "execute_result",
          "data": {
            "text/plain": [
              "   PassengerId  Pclass                                          Name     Sex  \\\n",
              "0          892       3                              Kelly, Mr. James    male   \n",
              "1          893       3              Wilkes, Mrs. James (Ellen Needs)  female   \n",
              "2          894       2                     Myles, Mr. Thomas Francis    male   \n",
              "3          895       3                              Wirz, Mr. Albert    male   \n",
              "4          896       3  Hirvonen, Mrs. Alexander (Helga E Lindqvist)  female   \n",
              "\n",
              "    Age  SibSp  Parch   Ticket     Fare Cabin Embarked  \n",
              "0  34.5      0      0   330911   7.8292   NaN        Q  \n",
              "1  47.0      1      0   363272   7.0000   NaN        S  \n",
              "2  62.0      0      0   240276   9.6875   NaN        Q  \n",
              "3  27.0      0      0   315154   8.6625   NaN        S  \n",
              "4  22.0      1      1  3101298  12.2875   NaN        S  "
            ],
            "text/html": [
              "\n",
              "  <div id=\"df-e3381a39-7d97-4972-b900-bc247e58d6f2\">\n",
              "    <div class=\"colab-df-container\">\n",
              "      <div>\n",
              "<style scoped>\n",
              "    .dataframe tbody tr th:only-of-type {\n",
              "        vertical-align: middle;\n",
              "    }\n",
              "\n",
              "    .dataframe tbody tr th {\n",
              "        vertical-align: top;\n",
              "    }\n",
              "\n",
              "    .dataframe thead th {\n",
              "        text-align: right;\n",
              "    }\n",
              "</style>\n",
              "<table border=\"1\" class=\"dataframe\">\n",
              "  <thead>\n",
              "    <tr style=\"text-align: right;\">\n",
              "      <th></th>\n",
              "      <th>PassengerId</th>\n",
              "      <th>Pclass</th>\n",
              "      <th>Name</th>\n",
              "      <th>Sex</th>\n",
              "      <th>Age</th>\n",
              "      <th>SibSp</th>\n",
              "      <th>Parch</th>\n",
              "      <th>Ticket</th>\n",
              "      <th>Fare</th>\n",
              "      <th>Cabin</th>\n",
              "      <th>Embarked</th>\n",
              "    </tr>\n",
              "  </thead>\n",
              "  <tbody>\n",
              "    <tr>\n",
              "      <th>0</th>\n",
              "      <td>892</td>\n",
              "      <td>3</td>\n",
              "      <td>Kelly, Mr. James</td>\n",
              "      <td>male</td>\n",
              "      <td>34.5</td>\n",
              "      <td>0</td>\n",
              "      <td>0</td>\n",
              "      <td>330911</td>\n",
              "      <td>7.8292</td>\n",
              "      <td>NaN</td>\n",
              "      <td>Q</td>\n",
              "    </tr>\n",
              "    <tr>\n",
              "      <th>1</th>\n",
              "      <td>893</td>\n",
              "      <td>3</td>\n",
              "      <td>Wilkes, Mrs. James (Ellen Needs)</td>\n",
              "      <td>female</td>\n",
              "      <td>47.0</td>\n",
              "      <td>1</td>\n",
              "      <td>0</td>\n",
              "      <td>363272</td>\n",
              "      <td>7.0000</td>\n",
              "      <td>NaN</td>\n",
              "      <td>S</td>\n",
              "    </tr>\n",
              "    <tr>\n",
              "      <th>2</th>\n",
              "      <td>894</td>\n",
              "      <td>2</td>\n",
              "      <td>Myles, Mr. Thomas Francis</td>\n",
              "      <td>male</td>\n",
              "      <td>62.0</td>\n",
              "      <td>0</td>\n",
              "      <td>0</td>\n",
              "      <td>240276</td>\n",
              "      <td>9.6875</td>\n",
              "      <td>NaN</td>\n",
              "      <td>Q</td>\n",
              "    </tr>\n",
              "    <tr>\n",
              "      <th>3</th>\n",
              "      <td>895</td>\n",
              "      <td>3</td>\n",
              "      <td>Wirz, Mr. Albert</td>\n",
              "      <td>male</td>\n",
              "      <td>27.0</td>\n",
              "      <td>0</td>\n",
              "      <td>0</td>\n",
              "      <td>315154</td>\n",
              "      <td>8.6625</td>\n",
              "      <td>NaN</td>\n",
              "      <td>S</td>\n",
              "    </tr>\n",
              "    <tr>\n",
              "      <th>4</th>\n",
              "      <td>896</td>\n",
              "      <td>3</td>\n",
              "      <td>Hirvonen, Mrs. Alexander (Helga E Lindqvist)</td>\n",
              "      <td>female</td>\n",
              "      <td>22.0</td>\n",
              "      <td>1</td>\n",
              "      <td>1</td>\n",
              "      <td>3101298</td>\n",
              "      <td>12.2875</td>\n",
              "      <td>NaN</td>\n",
              "      <td>S</td>\n",
              "    </tr>\n",
              "  </tbody>\n",
              "</table>\n",
              "</div>\n",
              "      <button class=\"colab-df-convert\" onclick=\"convertToInteractive('df-e3381a39-7d97-4972-b900-bc247e58d6f2')\"\n",
              "              title=\"Convert this dataframe to an interactive table.\"\n",
              "              style=\"display:none;\">\n",
              "        \n",
              "  <svg xmlns=\"http://www.w3.org/2000/svg\" height=\"24px\"viewBox=\"0 0 24 24\"\n",
              "       width=\"24px\">\n",
              "    <path d=\"M0 0h24v24H0V0z\" fill=\"none\"/>\n",
              "    <path d=\"M18.56 5.44l.94 2.06.94-2.06 2.06-.94-2.06-.94-.94-2.06-.94 2.06-2.06.94zm-11 1L8.5 8.5l.94-2.06 2.06-.94-2.06-.94L8.5 2.5l-.94 2.06-2.06.94zm10 10l.94 2.06.94-2.06 2.06-.94-2.06-.94-.94-2.06-.94 2.06-2.06.94z\"/><path d=\"M17.41 7.96l-1.37-1.37c-.4-.4-.92-.59-1.43-.59-.52 0-1.04.2-1.43.59L10.3 9.45l-7.72 7.72c-.78.78-.78 2.05 0 2.83L4 21.41c.39.39.9.59 1.41.59.51 0 1.02-.2 1.41-.59l7.78-7.78 2.81-2.81c.8-.78.8-2.07 0-2.86zM5.41 20L4 18.59l7.72-7.72 1.47 1.35L5.41 20z\"/>\n",
              "  </svg>\n",
              "      </button>\n",
              "      \n",
              "  <style>\n",
              "    .colab-df-container {\n",
              "      display:flex;\n",
              "      flex-wrap:wrap;\n",
              "      gap: 12px;\n",
              "    }\n",
              "\n",
              "    .colab-df-convert {\n",
              "      background-color: #E8F0FE;\n",
              "      border: none;\n",
              "      border-radius: 50%;\n",
              "      cursor: pointer;\n",
              "      display: none;\n",
              "      fill: #1967D2;\n",
              "      height: 32px;\n",
              "      padding: 0 0 0 0;\n",
              "      width: 32px;\n",
              "    }\n",
              "\n",
              "    .colab-df-convert:hover {\n",
              "      background-color: #E2EBFA;\n",
              "      box-shadow: 0px 1px 2px rgba(60, 64, 67, 0.3), 0px 1px 3px 1px rgba(60, 64, 67, 0.15);\n",
              "      fill: #174EA6;\n",
              "    }\n",
              "\n",
              "    [theme=dark] .colab-df-convert {\n",
              "      background-color: #3B4455;\n",
              "      fill: #D2E3FC;\n",
              "    }\n",
              "\n",
              "    [theme=dark] .colab-df-convert:hover {\n",
              "      background-color: #434B5C;\n",
              "      box-shadow: 0px 1px 3px 1px rgba(0, 0, 0, 0.15);\n",
              "      filter: drop-shadow(0px 1px 2px rgba(0, 0, 0, 0.3));\n",
              "      fill: #FFFFFF;\n",
              "    }\n",
              "  </style>\n",
              "\n",
              "      <script>\n",
              "        const buttonEl =\n",
              "          document.querySelector('#df-e3381a39-7d97-4972-b900-bc247e58d6f2 button.colab-df-convert');\n",
              "        buttonEl.style.display =\n",
              "          google.colab.kernel.accessAllowed ? 'block' : 'none';\n",
              "\n",
              "        async function convertToInteractive(key) {\n",
              "          const element = document.querySelector('#df-e3381a39-7d97-4972-b900-bc247e58d6f2');\n",
              "          const dataTable =\n",
              "            await google.colab.kernel.invokeFunction('convertToInteractive',\n",
              "                                                     [key], {});\n",
              "          if (!dataTable) return;\n",
              "\n",
              "          const docLinkHtml = 'Like what you see? Visit the ' +\n",
              "            '<a target=\"_blank\" href=https://colab.research.google.com/notebooks/data_table.ipynb>data table notebook</a>'\n",
              "            + ' to learn more about interactive tables.';\n",
              "          element.innerHTML = '';\n",
              "          dataTable['output_type'] = 'display_data';\n",
              "          await google.colab.output.renderOutput(dataTable, element);\n",
              "          const docLink = document.createElement('div');\n",
              "          docLink.innerHTML = docLinkHtml;\n",
              "          element.appendChild(docLink);\n",
              "        }\n",
              "      </script>\n",
              "    </div>\n",
              "  </div>\n",
              "  "
            ]
          },
          "metadata": {},
          "execution_count": 11
        }
      ]
    },
    {
      "cell_type": "code",
      "source": [
        "print(test_ds.info())"
      ],
      "metadata": {
        "id": "h3gRFs8WCSoZ",
        "outputId": "885c3bab-28db-4c4f-92ac-bb5de08ce208",
        "execution": {
          "iopub.status.busy": "2022-03-08T03:14:44.620002Z",
          "iopub.execute_input": "2022-03-08T03:14:44.621545Z",
          "iopub.status.idle": "2022-03-08T03:14:44.633467Z",
          "shell.execute_reply.started": "2022-03-08T03:14:44.621432Z",
          "shell.execute_reply": "2022-03-08T03:14:44.632782Z"
        },
        "trusted": true,
        "colab": {
          "base_uri": "https://localhost:8080/"
        }
      },
      "execution_count": null,
      "outputs": [
        {
          "output_type": "stream",
          "name": "stdout",
          "text": [
            "<class 'pandas.core.frame.DataFrame'>\n",
            "RangeIndex: 418 entries, 0 to 417\n",
            "Data columns (total 11 columns):\n",
            " #   Column       Non-Null Count  Dtype  \n",
            "---  ------       --------------  -----  \n",
            " 0   PassengerId  418 non-null    int64  \n",
            " 1   Pclass       418 non-null    int64  \n",
            " 2   Name         418 non-null    object \n",
            " 3   Sex          418 non-null    object \n",
            " 4   Age          332 non-null    float64\n",
            " 5   SibSp        418 non-null    int64  \n",
            " 6   Parch        418 non-null    int64  \n",
            " 7   Ticket       418 non-null    object \n",
            " 8   Fare         417 non-null    float64\n",
            " 9   Cabin        91 non-null     object \n",
            " 10  Embarked     418 non-null    object \n",
            "dtypes: float64(2), int64(4), object(5)\n",
            "memory usage: 36.0+ KB\n",
            "None\n"
          ]
        }
      ]
    },
    {
      "cell_type": "markdown",
      "source": [
        "👉 Same like train data set, in test data set **there are some null values in specific columns**."
      ],
      "metadata": {
        "id": "CLp_7ysdZaRs"
      }
    },
    {
      "cell_type": "markdown",
      "source": [
        "# 4. Data Exploration 🔍\n",
        "👉 This section will perform data exploration of data set that has been imported."
      ],
      "metadata": {
        "id": "bnWelAo3lryV"
      }
    },
    {
      "cell_type": "markdown",
      "source": [
        "## 4.1 Survived Distribution 😇"
      ],
      "metadata": {
        "id": "PYilkRZNZaRv"
      }
    },
    {
      "cell_type": "code",
      "source": [
        "train_ds.Survived.value_counts()"
      ],
      "metadata": {
        "id": "AsavpV1Jlk1T",
        "outputId": "2962f3a7-519d-4679-8fba-871e31dfa536",
        "execution": {
          "iopub.status.busy": "2022-03-08T03:14:44.634526Z",
          "iopub.execute_input": "2022-03-08T03:14:44.635876Z",
          "iopub.status.idle": "2022-03-08T03:14:44.643085Z",
          "shell.execute_reply.started": "2022-03-08T03:14:44.635816Z",
          "shell.execute_reply": "2022-03-08T03:14:44.642574Z"
        },
        "trusted": true,
        "colab": {
          "base_uri": "https://localhost:8080/"
        }
      },
      "execution_count": null,
      "outputs": [
        {
          "output_type": "execute_result",
          "data": {
            "text/plain": [
              "0    549\n",
              "1    342\n",
              "Name: Survived, dtype: int64"
            ]
          },
          "metadata": {},
          "execution_count": 13
        }
      ]
    },
    {
      "cell_type": "code",
      "source": [
        "sns.countplot(x=\"Survived\", data=train_ds, palette=\"mako_r\")\n",
        "plt.xlabel('Survived (0=No, 1=Yes)')\n",
        "plt.show()"
      ],
      "metadata": {
        "id": "z35XGQZzl2EO",
        "outputId": "02b1215f-a9bc-414d-e1a8-c4ed40dc7446",
        "execution": {
          "iopub.status.busy": "2022-03-08T03:14:44.644206Z",
          "iopub.execute_input": "2022-03-08T03:14:44.645269Z",
          "iopub.status.idle": "2022-03-08T03:14:44.817457Z",
          "shell.execute_reply.started": "2022-03-08T03:14:44.645234Z",
          "shell.execute_reply": "2022-03-08T03:14:44.816219Z"
        },
        "trusted": true,
        "colab": {
          "base_uri": "https://localhost:8080/",
          "height": 279
        }
      },
      "execution_count": null,
      "outputs": [
        {
          "output_type": "display_data",
          "data": {
            "text/plain": [
              "<Figure size 432x288 with 1 Axes>"
            ],
            "image/png": "[encoded data removed]"
          },
          "metadata": {
            "needs_background": "light"
          }
        }
      ]
    },
    {
      "cell_type": "code",
      "source": [
        "countNotSurvive = len(train_ds[train_ds.Survived == 0])\n",
        "countSurvive = len(train_ds[train_ds.Survived == 1])\n",
        "print(\"Not Survive Percentage: {:.2f}%\".format((countNotSurvive / (len(train_ds.Survived))*100)))\n",
        "print(\"Survive Percentage: {:.2f}%\".format((countSurvive / (len(train_ds.Survived))*100)))"
      ],
      "metadata": {
        "id": "WndpQgZVmFUC",
        "outputId": "c84265ec-d351-4753-db88-1d3dc67d4ef5",
        "execution": {
          "iopub.status.busy": "2022-03-08T03:14:44.818845Z",
          "iopub.execute_input": "2022-03-08T03:14:44.819478Z",
          "iopub.status.idle": "2022-03-08T03:14:44.828997Z",
          "shell.execute_reply.started": "2022-03-08T03:14:44.819441Z",
          "shell.execute_reply": "2022-03-08T03:14:44.828085Z"
        },
        "trusted": true,
        "colab": {
          "base_uri": "https://localhost:8080/"
        }
      },
      "execution_count": null,
      "outputs": [
        {
          "output_type": "stream",
          "name": "stdout",
          "text": [
            "Not Survive Percentage: 61.62%\n",
            "Survive Percentage: 38.38%\n"
          ]
        }
      ]
    },
    {
      "cell_type": "markdown",
      "source": [
        "👉 It can be seen that **most passengers are not survived** 😢."
      ],
      "metadata": {
        "id": "Z5XiTeb9ZaRx"
      }
    },
    {
      "cell_type": "markdown",
      "source": [
        "## 4.2 Gender Distribution 👫"
      ],
      "metadata": {
        "id": "30TfyzWtZaRx"
      }
    },
    {
      "cell_type": "code",
      "source": [
        "sns.countplot(x='Sex', data=train_ds, palette=\"bwr\")\n",
        "plt.xlabel(\"Sex\")\n",
        "plt.show()"
      ],
      "metadata": {
        "id": "uYAdHR0Jm4yE",
        "outputId": "96715e83-b314-4dca-e398-2a28660e95e1",
        "execution": {
          "iopub.status.busy": "2022-03-08T03:14:44.831349Z",
          "iopub.execute_input": "2022-03-08T03:14:44.831635Z",
          "iopub.status.idle": "2022-03-08T03:14:44.996313Z",
          "shell.execute_reply.started": "2022-03-08T03:14:44.831598Z",
          "shell.execute_reply": "2022-03-08T03:14:44.995555Z"
        },
        "trusted": true,
        "colab": {
          "base_uri": "https://localhost:8080/",
          "height": 281
        }
      },
      "execution_count": null,
      "outputs": [
        {
          "output_type": "display_data",
          "data": {
            "text/plain": [
              "<Figure size 432x288 with 1 Axes>"
            ],
            "image/png": "[encoded data removed]"
          },
          "metadata": {
            "needs_background": "light"
          }
        }
      ]
    },
    {
      "cell_type": "code",
      "source": [
        "countFemale = len(train_ds[train_ds.Sex == \"female\"])\n",
        "countMale = len(train_ds[train_ds.Sex == \"male\"])\n",
        "print(\"Female Percentage: {:.2f}%\".format((countFemale / (len(train_ds.Sex))*100)))\n",
        "print(\"Male Percentage: {:.2f}%\".format((countMale / (len(train_ds.Sex))*100)))"
      ],
      "metadata": {
        "id": "0NourFgLmjKC",
        "outputId": "88118ea9-4fb6-4d10-94cb-8129315f4614",
        "execution": {
          "iopub.status.busy": "2022-03-08T03:14:45.000025Z",
          "iopub.execute_input": "2022-03-08T03:14:45.000378Z",
          "iopub.status.idle": "2022-03-08T03:14:45.016134Z",
          "shell.execute_reply.started": "2022-03-08T03:14:45.000347Z",
          "shell.execute_reply": "2022-03-08T03:14:45.014375Z"
        },
        "trusted": true
      },
      "execution_count": null,
      "outputs": [
        {
          "name": "stdout",
          "text": "Female Percentage: 35.24%\nMale Percentage: 64.76%\n",
          "output_type": "stream"
        }
      ]
    },
    {
      "cell_type": "markdown",
      "source": [
        "👉 **The percentage of male passengers is higher** than female passengers."
      ],
      "metadata": {
        "id": "8vmQJ_N4ZaRz"
      }
    },
    {
      "cell_type": "markdown",
      "source": [
        "## 4.3 Survived Distribution based on Gender 😇👫"
      ],
      "metadata": {
        "id": "oItxm_c_ZaRz"
      }
    },
    {
      "cell_type": "code",
      "source": [
        "pd.crosstab(train_ds.Sex,train_ds.Survived).plot(kind=\"bar\",figsize=(10,6))\n",
        "plt.title('Survived status based on Gender')\n",
        "plt.xlabel('Gender')\n",
        "plt.xticks(rotation=0)\n",
        "plt.legend([\"Not Survived\", \"Survived\"])\n",
        "plt.ylabel('Frequency')\n",
        "plt.show()"
      ],
      "metadata": {
        "id": "yHBHSPcEnQ_j",
        "outputId": "78ddf9ac-400e-4a0c-8d30-24675226b270",
        "execution": {
          "iopub.status.busy": "2022-03-08T03:14:45.017673Z",
          "iopub.execute_input": "2022-03-08T03:14:45.018641Z",
          "iopub.status.idle": "2022-03-08T03:14:45.346090Z",
          "shell.execute_reply.started": "2022-03-08T03:14:45.018601Z",
          "shell.execute_reply": "2022-03-08T03:14:45.344798Z"
        },
        "trusted": true,
        "colab": {
          "base_uri": "https://localhost:8080/",
          "height": 404
        }
      },
      "execution_count": null,
      "outputs": [
        {
          "output_type": "display_data",
          "data": {
            "text/plain": [
              "<Figure size 720x432 with 1 Axes>"
            ],
            "image/png": "[encoded data removed]"
          },
          "metadata": {
            "needs_background": "light"
          }
        }
      ]
    },
    {
      "cell_type": "markdown",
      "source": [
        "👉 The number of **male passengers that are not survived is higher** than survied 😢. <br>\n",
        "👉 The number of **female passengers that are survived is higher** than not survived."
      ],
      "metadata": {
        "id": "5Y_W0wAXZaR0"
      }
    },
    {
      "cell_type": "markdown",
      "source": [
        "## 4.4 Survived Distribution based on Age 😇👴"
      ],
      "metadata": {
        "id": "RmX3WsR1ZaR0"
      }
    },
    {
      "cell_type": "code",
      "source": [
        "pd.crosstab(train_ds.Age,train_ds.Survived).plot(kind=\"bar\",figsize=(25,8), color=['#C30281','#13BADF'])\n",
        "plt.title('Survived Status based on Age')\n",
        "plt.xlabel('Age')\n",
        "plt.ylabel('Frequency')\n",
        "plt.show()"
      ],
      "metadata": {
        "id": "Y96-myE4oZwU",
        "outputId": "870c3a22-553c-4663-a2be-bff4e9d4404a",
        "execution": {
          "iopub.status.busy": "2022-03-08T03:14:45.352068Z",
          "iopub.execute_input": "2022-03-08T03:14:45.352396Z",
          "iopub.status.idle": "2022-03-08T03:14:46.452680Z",
          "shell.execute_reply.started": "2022-03-08T03:14:45.352365Z",
          "shell.execute_reply": "2022-03-08T03:14:46.451578Z"
        },
        "trusted": true,
        "colab": {
          "base_uri": "https://localhost:8080/",
          "height": 525
        }
      },
      "execution_count": null,
      "outputs": [
        {
          "output_type": "display_data",
          "data": {
            "text/plain": [
              "<Figure size 1800x576 with 1 Axes>"
            ],
            "image/png": "[encoded data removed]"
          },
          "metadata": {
            "needs_background": "light"
          }
        }
      ]
    },
    {
      "cell_type": "markdown",
      "source": [
        "👉 It can be seen that **the majority of not survived passengers are between 16-30 y.o**, quite similar to survived passengers in the same age range."
      ],
      "metadata": {
        "id": "NTMiSfoUZaR1"
      }
    },
    {
      "cell_type": "markdown",
      "source": [
        "## 4.5 Passenger Class based on Age 🌟👴"
      ],
      "metadata": {
        "id": "rzGDU3sqZaR2"
      }
    },
    {
      "cell_type": "code",
      "source": [
        "pd.crosstab(train_ds.Pclass,train_ds.Sex).plot(kind=\"bar\",figsize=(10,6), color=['#86BD49','#F1DDDF'])\n",
        "plt.title('Passenger class based on Gender')\n",
        "plt.xlabel('Gender')\n",
        "plt.ylabel('Frequency')\n",
        "plt.xticks(rotation=0)\n",
        "plt.show()"
      ],
      "metadata": {
        "id": "li6rbe3-pNde",
        "outputId": "b605401b-1310-484d-8a39-b71dcfd493df",
        "execution": {
          "iopub.status.busy": "2022-03-08T03:14:46.456200Z",
          "iopub.execute_input": "2022-03-08T03:14:46.456769Z",
          "iopub.status.idle": "2022-03-08T03:14:46.643405Z",
          "shell.execute_reply.started": "2022-03-08T03:14:46.456706Z",
          "shell.execute_reply": "2022-03-08T03:14:46.642684Z"
        },
        "trusted": true,
        "colab": {
          "base_uri": "https://localhost:8080/",
          "height": 404
        }
      },
      "execution_count": null,
      "outputs": [
        {
          "output_type": "display_data",
          "data": {
            "text/plain": [
              "<Figure size 720x432 with 1 Axes>"
            ],
            "image/png": "[encoded data removed]"
          },
          "metadata": {
            "needs_background": "light"
          }
        }
      ]
    },
    {
      "cell_type": "markdown",
      "source": [
        "👉 Most of passengers from **both genders prefer to choose 3rd class** rather than other classes."
      ],
      "metadata": {
        "id": "OVHmT9bXZaR2"
      }
    },
    {
      "cell_type": "markdown",
      "source": [
        "# 5. Dataset Preprocessing 🧹\n",
        "👉 This section will preprocess/clean both data sets."
      ],
      "metadata": {
        "id": "TExEzqNMpy1t"
      }
    },
    {
      "cell_type": "markdown",
      "source": [
        "## 5.1 Detecting Missing Values 🚫"
      ],
      "metadata": {
        "id": "Jv6E7_n08wFb"
      }
    },
    {
      "cell_type": "code",
      "source": [
        "train_ds.isnull().sum()"
      ],
      "metadata": {
        "id": "ChMy9VpEq37Y",
        "outputId": "1a69394a-e6cf-47a7-f34a-a720e10e636c",
        "execution": {
          "iopub.status.busy": "2022-03-08T03:14:46.644370Z",
          "iopub.execute_input": "2022-03-08T03:14:46.644562Z",
          "iopub.status.idle": "2022-03-08T03:14:46.652941Z",
          "shell.execute_reply.started": "2022-03-08T03:14:46.644540Z",
          "shell.execute_reply": "2022-03-08T03:14:46.651907Z"
        },
        "trusted": true,
        "colab": {
          "base_uri": "https://localhost:8080/"
        }
      },
      "execution_count": null,
      "outputs": [
        {
          "output_type": "execute_result",
          "data": {
            "text/plain": [
              "PassengerId      0\n",
              "Survived         0\n",
              "Pclass           0\n",
              "Name             0\n",
              "Sex              0\n",
              "Age            177\n",
              "SibSp            0\n",
              "Parch            0\n",
              "Ticket           0\n",
              "Fare             0\n",
              "Cabin          687\n",
              "Embarked         2\n",
              "dtype: int64"
            ]
          },
          "metadata": {},
          "execution_count": 20
        }
      ]
    },
    {
      "cell_type": "code",
      "source": [
        "plt.figure(figsize = (16, 5))\n",
        "ax_train = plt.subplot(1,2,2)\n",
        "mso.bar(train_ds, ax = ax_train, fontsize = 12)"
      ],
      "metadata": {
        "id": "vDfmpP40rE5X",
        "outputId": "e687a658-33e3-4568-ee4a-cb9ae2bb0824",
        "execution": {
          "iopub.status.busy": "2022-03-08T03:14:46.654010Z",
          "iopub.execute_input": "2022-03-08T03:14:46.654546Z",
          "iopub.status.idle": "2022-03-08T03:14:47.372631Z",
          "shell.execute_reply.started": "2022-03-08T03:14:46.654510Z",
          "shell.execute_reply": "2022-03-08T03:14:47.372120Z"
        },
        "trusted": true,
        "colab": {
          "base_uri": "https://localhost:8080/",
          "height": 421
        }
      },
      "execution_count": null,
      "outputs": [
        {
          "output_type": "execute_result",
          "data": {
            "text/plain": [
              "<matplotlib.axes._subplots.AxesSubplot at 0x7f242d11ea90>"
            ]
          },
          "metadata": {},
          "execution_count": 21
        },
        {
          "output_type": "display_data",
          "data": {
            "text/plain": [
              "<Figure size 1152x360 with 3 Axes>"
            ],
            "image/png": "[encoded data removed]"
          },
          "metadata": {
            "needs_background": "light"
          }
        }
      ]
    },
    {
      "cell_type": "markdown",
      "source": [
        "👉 Missing Values detected in **\"Age\", \"Cabin\", and \"Embarked\"** column in **train dataset**."
      ],
      "metadata": {
        "id": "D05rifzCvK4j"
      }
    },
    {
      "cell_type": "code",
      "source": [
        "test_ds.isnull().sum()"
      ],
      "metadata": {
        "id": "TuIqSA0y54fN",
        "outputId": "34610e89-4b1b-46fa-b40d-ac5c8bd2baee",
        "execution": {
          "iopub.status.busy": "2022-03-08T03:14:47.373622Z",
          "iopub.execute_input": "2022-03-08T03:14:47.374017Z",
          "iopub.status.idle": "2022-03-08T03:14:47.382457Z",
          "shell.execute_reply.started": "2022-03-08T03:14:47.373987Z",
          "shell.execute_reply": "2022-03-08T03:14:47.381854Z"
        },
        "trusted": true,
        "colab": {
          "base_uri": "https://localhost:8080/"
        }
      },
      "execution_count": null,
      "outputs": [
        {
          "output_type": "execute_result",
          "data": {
            "text/plain": [
              "PassengerId      0\n",
              "Pclass           0\n",
              "Name             0\n",
              "Sex              0\n",
              "Age             86\n",
              "SibSp            0\n",
              "Parch            0\n",
              "Ticket           0\n",
              "Fare             1\n",
              "Cabin          327\n",
              "Embarked         0\n",
              "dtype: int64"
            ]
          },
          "metadata": {},
          "execution_count": 22
        }
      ]
    },
    {
      "cell_type": "code",
      "source": [
        "plt.figure(figsize = (16, 5))\n",
        "ax_train = plt.subplot(1,2,2)\n",
        "mso.bar(test_ds, ax = ax_train, fontsize = 12)"
      ],
      "metadata": {
        "id": "3u2PAagK56qj",
        "outputId": "56437bde-7a07-4d16-f2dd-30a4bc98e863",
        "execution": {
          "iopub.status.busy": "2022-03-08T03:14:47.383882Z",
          "iopub.execute_input": "2022-03-08T03:14:47.384231Z",
          "iopub.status.idle": "2022-03-08T03:14:48.084755Z",
          "shell.execute_reply.started": "2022-03-08T03:14:47.384203Z",
          "shell.execute_reply": "2022-03-08T03:14:48.084244Z"
        },
        "trusted": true,
        "colab": {
          "base_uri": "https://localhost:8080/",
          "height": 421
        }
      },
      "execution_count": null,
      "outputs": [
        {
          "output_type": "execute_result",
          "data": {
            "text/plain": [
              "<matplotlib.axes._subplots.AxesSubplot at 0x7f242a74aed0>"
            ]
          },
          "metadata": {},
          "execution_count": 23
        },
        {
          "output_type": "display_data",
          "data": {
            "text/plain": [
              "<Figure size 1152x360 with 3 Axes>"
            ],
            "image/png": "[encoded data removed]"
          },
          "metadata": {
            "needs_background": "light"
          }
        }
      ]
    },
    {
      "cell_type": "markdown",
      "source": [
        "👉 Missing Values detected in **\"Age\", \"Cabin\", and \"Fare\"** column in **test dataset**."
      ],
      "metadata": {
        "id": "rVLH9nPO6Bi3"
      }
    },
    {
      "cell_type": "markdown",
      "source": [
        "## 5.2 Replacing Missing Values 📝\n",
        "👉 Imputation is a technique for substituting an estimated value for missing values in a dataset. In this section, the imputation will be performed for variables that have missing values."
      ],
      "metadata": {
        "id": "xMNZMxrmt4kt"
      }
    },
    {
      "cell_type": "code",
      "source": [
        "# Age (with mean)\n",
        "train_ds['Age'] = train_ds['Age'].fillna(train_ds['Age'].mean())\n",
        "test_ds['Age'] = test_ds['Age'].fillna(test_ds['Age'].mean())"
      ],
      "metadata": {
        "id": "tqiddHp6tknO",
        "execution": {
          "iopub.status.busy": "2022-03-08T03:14:48.085838Z",
          "iopub.execute_input": "2022-03-08T03:14:48.086161Z",
          "iopub.status.idle": "2022-03-08T03:14:48.091935Z",
          "shell.execute_reply.started": "2022-03-08T03:14:48.086117Z",
          "shell.execute_reply": "2022-03-08T03:14:48.091381Z"
        },
        "trusted": true
      },
      "execution_count": null,
      "outputs": []
    },
    {
      "cell_type": "code",
      "source": [
        "# Fare (with mean)\n",
        "test_ds['Fare'] = test_ds['Fare'].fillna(test_ds['Fare'].mean())"
      ],
      "metadata": {
        "id": "jc0oiqf4uNv1",
        "execution": {
          "iopub.status.busy": "2022-03-08T03:14:48.093243Z",
          "iopub.execute_input": "2022-03-08T03:14:48.093575Z",
          "iopub.status.idle": "2022-03-08T03:14:48.109752Z",
          "shell.execute_reply.started": "2022-03-08T03:14:48.093547Z",
          "shell.execute_reply": "2022-03-08T03:14:48.109081Z"
        },
        "trusted": true
      },
      "execution_count": null,
      "outputs": []
    },
    {
      "cell_type": "markdown",
      "source": [
        "## 5.3 Distribution of Numerical Value 📈\n",
        "👉 In this section will show the distribution of numerical variables and the skewness for each numerical variables."
      ],
      "metadata": {
        "id": "vb_BuK0K5Jc8"
      }
    },
    {
      "cell_type": "code",
      "source": [
        "train_ds.hist(grid=False, figsize=(18, 12), bins=5)"
      ],
      "metadata": {
        "id": "CbcVt8Ir6Yew",
        "outputId": "0f37c67a-339e-4ebd-f28b-390c6e5c5639",
        "execution": {
          "iopub.status.busy": "2022-03-08T03:14:48.111733Z",
          "iopub.execute_input": "2022-03-08T03:14:48.112074Z",
          "iopub.status.idle": "2022-03-08T03:14:49.495998Z",
          "shell.execute_reply.started": "2022-03-08T03:14:48.112044Z",
          "shell.execute_reply": "2022-03-08T03:14:49.494308Z"
        },
        "trusted": true,
        "colab": {
          "base_uri": "https://localhost:8080/",
          "height": 901
        }
      },
      "execution_count": null,
      "outputs": [
        {
          "output_type": "execute_result",
          "data": {
            "text/plain": [
              "array([[<matplotlib.axes._subplots.AxesSubplot object at 0x7f242d4e2e90>,\n",
              "        <matplotlib.axes._subplots.AxesSubplot object at 0x7f242d552e90>,\n",
              "        <matplotlib.axes._subplots.AxesSubplot object at 0x7f242d5c0cd0>],\n",
              "       [<matplotlib.axes._subplots.AxesSubplot object at 0x7f242dafd350>,\n",
              "        <matplotlib.axes._subplots.AxesSubplot object at 0x7f242dcf5250>,\n",
              "        <matplotlib.axes._subplots.AxesSubplot object at 0x7f242d61b6d0>],\n",
              "       [<matplotlib.axes._subplots.AxesSubplot object at 0x7f242d0fcd50>,\n",
              "        <matplotlib.axes._subplots.AxesSubplot object at 0x7f242d4ed2d0>,\n",
              "        <matplotlib.axes._subplots.AxesSubplot object at 0x7f242d4ed310>]],\n",
              "      dtype=object)"
            ]
          },
          "metadata": {},
          "execution_count": 26
        },
        {
          "output_type": "display_data",
          "data": {
            "text/plain": [
              "<Figure size 1296x864 with 9 Axes>"
            ],
            "image/png": "[encoded data removed]"
          },
          "metadata": {
            "needs_background": "light"
          }
        }
      ]
    },
    {
      "cell_type": "code",
      "source": [
        "train_ds.skew(axis = 0, skipna = True)"
      ],
      "metadata": {
        "id": "yxJiGS2X5I0g",
        "outputId": "0eb934dd-8d67-49ab-ed0e-95b8241f153d",
        "execution": {
          "iopub.status.busy": "2022-03-08T03:14:49.497638Z",
          "iopub.execute_input": "2022-03-08T03:14:49.497932Z",
          "iopub.status.idle": "2022-03-08T03:14:49.507709Z",
          "shell.execute_reply.started": "2022-03-08T03:14:49.497907Z",
          "shell.execute_reply": "2022-03-08T03:14:49.507210Z"
        },
        "trusted": true,
        "colab": {
          "base_uri": "https://localhost:8080/"
        }
      },
      "execution_count": null,
      "outputs": [
        {
          "output_type": "execute_result",
          "data": {
            "text/plain": [
              "PassengerId    0.000000\n",
              "Survived       0.478523\n",
              "Pclass        -0.630548\n",
              "Age            0.434488\n",
              "SibSp          3.695352\n",
              "Parch          2.749117\n",
              "Fare           4.787317\n",
              "dtype: float64"
            ]
          },
          "metadata": {},
          "execution_count": 27
        }
      ]
    },
    {
      "cell_type": "code",
      "source": [
        "test_ds.hist(grid=False, figsize=(18, 12), bins=5)"
      ],
      "metadata": {
        "execution": {
          "iopub.status.busy": "2022-03-08T03:14:49.508691Z",
          "iopub.execute_input": "2022-03-08T03:14:49.509524Z",
          "iopub.status.idle": "2022-03-08T03:14:50.656178Z",
          "shell.execute_reply.started": "2022-03-08T03:14:49.509493Z",
          "shell.execute_reply": "2022-03-08T03:14:50.655200Z"
        },
        "trusted": true,
        "colab": {
          "base_uri": "https://localhost:8080/",
          "height": 845
        },
        "id": "ATgyM6xuZaR6",
        "outputId": "1c63ac70-fab7-46b2-a4a5-97448a38fcb9"
      },
      "execution_count": null,
      "outputs": [
        {
          "output_type": "execute_result",
          "data": {
            "text/plain": [
              "array([[<matplotlib.axes._subplots.AxesSubplot object at 0x7f242d25a8d0>,\n",
              "        <matplotlib.axes._subplots.AxesSubplot object at 0x7f242d25bb90>],\n",
              "       [<matplotlib.axes._subplots.AxesSubplot object at 0x7f242a71f1d0>,\n",
              "        <matplotlib.axes._subplots.AxesSubplot object at 0x7f242a6d27d0>],\n",
              "       [<matplotlib.axes._subplots.AxesSubplot object at 0x7f242a68bdd0>,\n",
              "        <matplotlib.axes._subplots.AxesSubplot object at 0x7f242a649810>]],\n",
              "      dtype=object)"
            ]
          },
          "metadata": {},
          "execution_count": 28
        },
        {
          "output_type": "display_data",
          "data": {
            "text/plain": [
              "<Figure size 1296x864 with 6 Axes>"
            ],
            "image/png": "[encoded data removed]"
          },
          "metadata": {
            "needs_background": "light"
          }
        }
      ]
    },
    {
      "cell_type": "code",
      "source": [
        "test_ds.skew(axis = 0, skipna = True)"
      ],
      "metadata": {
        "id": "gpzCGtmk5_t0",
        "outputId": "13d0ac58-a7b7-4316-8cd0-9fe49399991e",
        "execution": {
          "iopub.status.busy": "2022-03-08T03:14:50.657820Z",
          "iopub.execute_input": "2022-03-08T03:14:50.658124Z",
          "iopub.status.idle": "2022-03-08T03:14:50.671517Z",
          "shell.execute_reply.started": "2022-03-08T03:14:50.658093Z",
          "shell.execute_reply": "2022-03-08T03:14:50.670269Z"
        },
        "trusted": true,
        "colab": {
          "base_uri": "https://localhost:8080/"
        }
      },
      "execution_count": null,
      "outputs": [
        {
          "output_type": "execute_result",
          "data": {
            "text/plain": [
              "PassengerId    0.000000\n",
              "Pclass        -0.534170\n",
              "Age            0.512711\n",
              "SibSp          4.168337\n",
              "Parch          4.654462\n",
              "Fare           3.691600\n",
              "dtype: float64"
            ]
          },
          "metadata": {},
          "execution_count": 29
        }
      ]
    },
    {
      "cell_type": "markdown",
      "source": [
        "👉 **Skewness of Fare, SibSp, and Parch** is **high**, **square root transformation will be performed** for test and training"
      ],
      "metadata": {
        "id": "kxhOmfiJ7aNG"
      }
    },
    {
      "cell_type": "markdown",
      "source": [
        "## 5.4 Square root transformation 🔨"
      ],
      "metadata": {
        "id": "AlKJ5KD8ZaR7"
      }
    },
    {
      "cell_type": "code",
      "source": [
        "train_ds.Fare = np.sqrt(train_ds.Fare)\n",
        "test_ds.Fare = np.sqrt(test_ds.Fare)\n",
        "\n",
        "train_ds.SibSp = np.sqrt(train_ds.SibSp)\n",
        "test_ds.SibSp = np.sqrt(test_ds.SibSp)\n",
        "\n",
        "train_ds.Parch = np.sqrt(train_ds.Parch)\n",
        "test_ds.Parch = np.sqrt(test_ds.Parch)"
      ],
      "metadata": {
        "id": "uQYVS79_7REl",
        "execution": {
          "iopub.status.busy": "2022-03-08T03:14:50.672601Z",
          "iopub.execute_input": "2022-03-08T03:14:50.672792Z",
          "iopub.status.idle": "2022-03-08T03:14:50.690988Z",
          "shell.execute_reply.started": "2022-03-08T03:14:50.672767Z",
          "shell.execute_reply": "2022-03-08T03:14:50.689371Z"
        },
        "trusted": true
      },
      "execution_count": null,
      "outputs": []
    },
    {
      "cell_type": "markdown",
      "source": [
        "## 5.5 Feature Engineering 🔧\n",
        "👉 The FE method that used is **one-hot encoding**, which is **transforming categorical variables into a form that could be provided to ML algorithms to do a better prediction**."
      ],
      "metadata": {
        "id": "grzJzFJY5K4O"
      }
    },
    {
      "cell_type": "code",
      "source": [
        "train_ds = pd.get_dummies(train_ds, columns=['Sex', 'Embarked', 'Pclass'])\n",
        "test_ds = pd.get_dummies(test_ds, columns=['Sex', 'Embarked', 'Pclass'])"
      ],
      "metadata": {
        "id": "-I8D7d4c5Pwb",
        "execution": {
          "iopub.status.busy": "2022-03-08T03:14:50.692677Z",
          "iopub.execute_input": "2022-03-08T03:14:50.693335Z",
          "iopub.status.idle": "2022-03-08T03:14:50.720904Z",
          "shell.execute_reply.started": "2022-03-08T03:14:50.693297Z",
          "shell.execute_reply": "2022-03-08T03:14:50.719671Z"
        },
        "trusted": true
      },
      "execution_count": null,
      "outputs": []
    },
    {
      "cell_type": "code",
      "source": [
        "train_ds.head()"
      ],
      "metadata": {
        "id": "hCrYUdcP5TiQ",
        "outputId": "b4110f16-3bd9-489c-856d-343793a00b49",
        "execution": {
          "iopub.status.busy": "2022-03-08T03:14:50.722222Z",
          "iopub.execute_input": "2022-03-08T03:14:50.722944Z",
          "iopub.status.idle": "2022-03-08T03:14:50.743219Z",
          "shell.execute_reply.started": "2022-03-08T03:14:50.722869Z",
          "shell.execute_reply": "2022-03-08T03:14:50.742456Z"
        },
        "trusted": true,
        "colab": {
          "base_uri": "https://localhost:8080/",
          "height": 206
        }
      },
      "execution_count": null,
      "outputs": [
        {
          "output_type": "execute_result",
          "data": {
            "text/plain": [
              "   PassengerId  Survived                                               Name  \\\n",
              "0            1         0                            Braund, Mr. Owen Harris   \n",
              "1            2         1  Cumings, Mrs. John Bradley (Florence Briggs Th...   \n",
              "2            3         1                             Heikkinen, Miss. Laina   \n",
              "3            4         1       Futrelle, Mrs. Jacques Heath (Lily May Peel)   \n",
              "4            5         0                           Allen, Mr. William Henry   \n",
              "\n",
              "    Age  SibSp  Parch            Ticket      Fare Cabin  Sex_female  Sex_male  \\\n",
              "0  22.0    1.0    0.0         A/5 21171  2.692582   NaN           0         1   \n",
              "1  38.0    1.0    0.0          PC 17599  8.442944   C85           1         0   \n",
              "2  26.0    0.0    0.0  STON/O2. 3101282  2.815138   NaN           1         0   \n",
              "3  35.0    1.0    0.0            113803  7.286975  C123           1         0   \n",
              "4  35.0    0.0    0.0            373450  2.837252   NaN           0         1   \n",
              "\n",
              "   Embarked_C  Embarked_Q  Embarked_S  Pclass_1  Pclass_2  Pclass_3  \n",
              "0           0           0           1         0         0         1  \n",
              "1           1           0           0         1         0         0  \n",
              "2           0           0           1         0         0         1  \n",
              "3           0           0           1         1         0         0  \n",
              "4           0           0           1         0         0         1  "
            ],
            "text/html": [
              "\n",
              "  <div id=\"df-457b1aa3-14ee-4e03-8508-6d97af294653\">\n",
              "    <div class=\"colab-df-container\">\n",
              "      <div>\n",
              "<style scoped>\n",
              "    .dataframe tbody tr th:only-of-type {\n",
              "        vertical-align: middle;\n",
              "    }\n",
              "\n",
              "    .dataframe tbody tr th {\n",
              "        vertical-align: top;\n",
              "    }\n",
              "\n",
              "    .dataframe thead th {\n",
              "        text-align: right;\n",
              "    }\n",
              "</style>\n",
              "<table border=\"1\" class=\"dataframe\">\n",
              "  <thead>\n",
              "    <tr style=\"text-align: right;\">\n",
              "      <th></th>\n",
              "      <th>PassengerId</th>\n",
              "      <th>Survived</th>\n",
              "      <th>Name</th>\n",
              "      <th>Age</th>\n",
              "      <th>SibSp</th>\n",
              "      <th>Parch</th>\n",
              "      <th>Ticket</th>\n",
              "      <th>Fare</th>\n",
              "      <th>Cabin</th>\n",
              "      <th>Sex_female</th>\n",
              "      <th>Sex_male</th>\n",
              "      <th>Embarked_C</th>\n",
              "      <th>Embarked_Q</th>\n",
              "      <th>Embarked_S</th>\n",
              "      <th>Pclass_1</th>\n",
              "      <th>Pclass_2</th>\n",
              "      <th>Pclass_3</th>\n",
              "    </tr>\n",
              "  </thead>\n",
              "  <tbody>\n",
              "    <tr>\n",
              "      <th>0</th>\n",
              "      <td>1</td>\n",
              "      <td>0</td>\n",
              "      <td>Braund, Mr. Owen Harris</td>\n",
              "      <td>22.0</td>\n",
              "      <td>1.0</td>\n",
              "      <td>0.0</td>\n",
              "      <td>A/5 21171</td>\n",
              "      <td>2.692582</td>\n",
              "      <td>NaN</td>\n",
              "      <td>0</td>\n",
              "      <td>1</td>\n",
              "      <td>0</td>\n",
              "      <td>0</td>\n",
              "      <td>1</td>\n",
              "      <td>0</td>\n",
              "      <td>0</td>\n",
              "      <td>1</td>\n",
              "    </tr>\n",
              "    <tr>\n",
              "      <th>1</th>\n",
              "      <td>2</td>\n",
              "      <td>1</td>\n",
              "      <td>Cumings, Mrs. John Bradley (Florence Briggs Th...</td>\n",
              "      <td>38.0</td>\n",
              "      <td>1.0</td>\n",
              "      <td>0.0</td>\n",
              "      <td>PC 17599</td>\n",
              "      <td>8.442944</td>\n",
              "      <td>C85</td>\n",
              "      <td>1</td>\n",
              "      <td>0</td>\n",
              "      <td>1</td>\n",
              "      <td>0</td>\n",
              "      <td>0</td>\n",
              "      <td>1</td>\n",
              "      <td>0</td>\n",
              "      <td>0</td>\n",
              "    </tr>\n",
              "    <tr>\n",
              "      <th>2</th>\n",
              "      <td>3</td>\n",
              "      <td>1</td>\n",
              "      <td>Heikkinen, Miss. Laina</td>\n",
              "      <td>26.0</td>\n",
              "      <td>0.0</td>\n",
              "      <td>0.0</td>\n",
              "      <td>STON/O2. 3101282</td>\n",
              "      <td>2.815138</td>\n",
              "      <td>NaN</td>\n",
              "      <td>1</td>\n",
              "      <td>0</td>\n",
              "      <td>0</td>\n",
              "      <td>0</td>\n",
              "      <td>1</td>\n",
              "      <td>0</td>\n",
              "      <td>0</td>\n",
              "      <td>1</td>\n",
              "    </tr>\n",
              "    <tr>\n",
              "      <th>3</th>\n",
              "      <td>4</td>\n",
              "      <td>1</td>\n",
              "      <td>Futrelle, Mrs. Jacques Heath (Lily May Peel)</td>\n",
              "      <td>35.0</td>\n",
              "      <td>1.0</td>\n",
              "      <td>0.0</td>\n",
              "      <td>113803</td>\n",
              "      <td>7.286975</td>\n",
              "      <td>C123</td>\n",
              "      <td>1</td>\n",
              "      <td>0</td>\n",
              "      <td>0</td>\n",
              "      <td>0</td>\n",
              "      <td>1</td>\n",
              "      <td>1</td>\n",
              "      <td>0</td>\n",
              "      <td>0</td>\n",
              "    </tr>\n",
              "    <tr>\n",
              "      <th>4</th>\n",
              "      <td>5</td>\n",
              "      <td>0</td>\n",
              "      <td>Allen, Mr. William Henry</td>\n",
              "      <td>35.0</td>\n",
              "      <td>0.0</td>\n",
              "      <td>0.0</td>\n",
              "      <td>373450</td>\n",
              "      <td>2.837252</td>\n",
              "      <td>NaN</td>\n",
              "      <td>0</td>\n",
              "      <td>1</td>\n",
              "      <td>0</td>\n",
              "      <td>0</td>\n",
              "      <td>1</td>\n",
              "      <td>0</td>\n",
              "      <td>0</td>\n",
              "      <td>1</td>\n",
              "    </tr>\n",
              "  </tbody>\n",
              "</table>\n",
              "</div>\n",
              "      <button class=\"colab-df-convert\" onclick=\"convertToInteractive('df-457b1aa3-14ee-4e03-8508-6d97af294653')\"\n",
              "              title=\"Convert this dataframe to an interactive table.\"\n",
              "              style=\"display:none;\">\n",
              "        \n",
              "  <svg xmlns=\"http://www.w3.org/2000/svg\" height=\"24px\"viewBox=\"0 0 24 24\"\n",
              "       width=\"24px\">\n",
              "    <path d=\"M0 0h24v24H0V0z\" fill=\"none\"/>\n",
              "    <path d=\"M18.56 5.44l.94 2.06.94-2.06 2.06-.94-2.06-.94-.94-2.06-.94 2.06-2.06.94zm-11 1L8.5 8.5l.94-2.06 2.06-.94-2.06-.94L8.5 2.5l-.94 2.06-2.06.94zm10 10l.94 2.06.94-2.06 2.06-.94-2.06-.94-.94-2.06-.94 2.06-2.06.94z\"/><path d=\"M17.41 7.96l-1.37-1.37c-.4-.4-.92-.59-1.43-.59-.52 0-1.04.2-1.43.59L10.3 9.45l-7.72 7.72c-.78.78-.78 2.05 0 2.83L4 21.41c.39.39.9.59 1.41.59.51 0 1.02-.2 1.41-.59l7.78-7.78 2.81-2.81c.8-.78.8-2.07 0-2.86zM5.41 20L4 18.59l7.72-7.72 1.47 1.35L5.41 20z\"/>\n",
              "  </svg>\n",
              "      </button>\n",
              "      \n",
              "  <style>\n",
              "    .colab-df-container {\n",
              "      display:flex;\n",
              "      flex-wrap:wrap;\n",
              "      gap: 12px;\n",
              "    }\n",
              "\n",
              "    .colab-df-convert {\n",
              "      background-color: #E8F0FE;\n",
              "      border: none;\n",
              "      border-radius: 50%;\n",
              "      cursor: pointer;\n",
              "      display: none;\n",
              "      fill: #1967D2;\n",
              "      height: 32px;\n",
              "      padding: 0 0 0 0;\n",
              "      width: 32px;\n",
              "    }\n",
              "\n",
              "    .colab-df-convert:hover {\n",
              "      background-color: #E2EBFA;\n",
              "      box-shadow: 0px 1px 2px rgba(60, 64, 67, 0.3), 0px 1px 3px 1px rgba(60, 64, 67, 0.15);\n",
              "      fill: #174EA6;\n",
              "    }\n",
              "\n",
              "    [theme=dark] .colab-df-convert {\n",
              "      background-color: #3B4455;\n",
              "      fill: #D2E3FC;\n",
              "    }\n",
              "\n",
              "    [theme=dark] .colab-df-convert:hover {\n",
              "      background-color: #434B5C;\n",
              "      box-shadow: 0px 1px 3px 1px rgba(0, 0, 0, 0.15);\n",
              "      filter: drop-shadow(0px 1px 2px rgba(0, 0, 0, 0.3));\n",
              "      fill: #FFFFFF;\n",
              "    }\n",
              "  </style>\n",
              "\n",
              "      <script>\n",
              "        const buttonEl =\n",
              "          document.querySelector('#df-457b1aa3-14ee-4e03-8508-6d97af294653 button.colab-df-convert');\n",
              "        buttonEl.style.display =\n",
              "          google.colab.kernel.accessAllowed ? 'block' : 'none';\n",
              "\n",
              "        async function convertToInteractive(key) {\n",
              "          const element = document.querySelector('#df-457b1aa3-14ee-4e03-8508-6d97af294653');\n",
              "          const dataTable =\n",
              "            await google.colab.kernel.invokeFunction('convertToInteractive',\n",
              "                                                     [key], {});\n",
              "          if (!dataTable) return;\n",
              "\n",
              "          const docLinkHtml = 'Like what you see? Visit the ' +\n",
              "            '<a target=\"_blank\" href=https://colab.research.google.com/notebooks/data_table.ipynb>data table notebook</a>'\n",
              "            + ' to learn more about interactive tables.';\n",
              "          element.innerHTML = '';\n",
              "          dataTable['output_type'] = 'display_data';\n",
              "          await google.colab.output.renderOutput(dataTable, element);\n",
              "          const docLink = document.createElement('div');\n",
              "          docLink.innerHTML = docLinkHtml;\n",
              "          element.appendChild(docLink);\n",
              "        }\n",
              "      </script>\n",
              "    </div>\n",
              "  </div>\n",
              "  "
            ]
          },
          "metadata": {},
          "execution_count": 32
        }
      ]
    },
    {
      "cell_type": "code",
      "source": [
        "test_ds.head()"
      ],
      "metadata": {
        "id": "B-HBT9zt5T5z",
        "outputId": "3ffdf7be-710b-42de-eb71-9ae84cee2f17",
        "execution": {
          "iopub.status.busy": "2022-03-08T03:14:50.744329Z",
          "iopub.execute_input": "2022-03-08T03:14:50.745051Z",
          "iopub.status.idle": "2022-03-08T03:14:50.761592Z",
          "shell.execute_reply.started": "2022-03-08T03:14:50.745026Z",
          "shell.execute_reply": "2022-03-08T03:14:50.760196Z"
        },
        "trusted": true,
        "colab": {
          "base_uri": "https://localhost:8080/",
          "height": 206
        }
      },
      "execution_count": null,
      "outputs": [
        {
          "output_type": "execute_result",
          "data": {
            "text/plain": [
              "   PassengerId                                          Name   Age  SibSp  \\\n",
              "0          892                              Kelly, Mr. James  34.5    0.0   \n",
              "1          893              Wilkes, Mrs. James (Ellen Needs)  47.0    1.0   \n",
              "2          894                     Myles, Mr. Thomas Francis  62.0    0.0   \n",
              "3          895                              Wirz, Mr. Albert  27.0    0.0   \n",
              "4          896  Hirvonen, Mrs. Alexander (Helga E Lindqvist)  22.0    1.0   \n",
              "\n",
              "   Parch   Ticket      Fare Cabin  Sex_female  Sex_male  Embarked_C  \\\n",
              "0    0.0   330911  2.798071   NaN           0         1           0   \n",
              "1    0.0   363272  2.645751   NaN           1         0           0   \n",
              "2    0.0   240276  3.112475   NaN           0         1           0   \n",
              "3    0.0   315154  2.943213   NaN           0         1           0   \n",
              "4    1.0  3101298  3.505353   NaN           1         0           0   \n",
              "\n",
              "   Embarked_Q  Embarked_S  Pclass_1  Pclass_2  Pclass_3  \n",
              "0           1           0         0         0         1  \n",
              "1           0           1         0         0         1  \n",
              "2           1           0         0         1         0  \n",
              "3           0           1         0         0         1  \n",
              "4           0           1         0         0         1  "
            ],
            "text/html": [
              "\n",
              "  <div id=\"df-7e0ac79a-a9ef-413b-a4ab-b02bd9eea2ee\">\n",
              "    <div class=\"colab-df-container\">\n",
              "      <div>\n",
              "<style scoped>\n",
              "    .dataframe tbody tr th:only-of-type {\n",
              "        vertical-align: middle;\n",
              "    }\n",
              "\n",
              "    .dataframe tbody tr th {\n",
              "        vertical-align: top;\n",
              "    }\n",
              "\n",
              "    .dataframe thead th {\n",
              "        text-align: right;\n",
              "    }\n",
              "</style>\n",
              "<table border=\"1\" class=\"dataframe\">\n",
              "  <thead>\n",
              "    <tr style=\"text-align: right;\">\n",
              "      <th></th>\n",
              "      <th>PassengerId</th>\n",
              "      <th>Name</th>\n",
              "      <th>Age</th>\n",
              "      <th>SibSp</th>\n",
              "      <th>Parch</th>\n",
              "      <th>Ticket</th>\n",
              "      <th>Fare</th>\n",
              "      <th>Cabin</th>\n",
              "      <th>Sex_female</th>\n",
              "      <th>Sex_male</th>\n",
              "      <th>Embarked_C</th>\n",
              "      <th>Embarked_Q</th>\n",
              "      <th>Embarked_S</th>\n",
              "      <th>Pclass_1</th>\n",
              "      <th>Pclass_2</th>\n",
              "      <th>Pclass_3</th>\n",
              "    </tr>\n",
              "  </thead>\n",
              "  <tbody>\n",
              "    <tr>\n",
              "      <th>0</th>\n",
              "      <td>892</td>\n",
              "      <td>Kelly, Mr. James</td>\n",
              "      <td>34.5</td>\n",
              "      <td>0.0</td>\n",
              "      <td>0.0</td>\n",
              "      <td>330911</td>\n",
              "      <td>2.798071</td>\n",
              "      <td>NaN</td>\n",
              "      <td>0</td>\n",
              "      <td>1</td>\n",
              "      <td>0</td>\n",
              "      <td>1</td>\n",
              "      <td>0</td>\n",
              "      <td>0</td>\n",
              "      <td>0</td>\n",
              "      <td>1</td>\n",
              "    </tr>\n",
              "    <tr>\n",
              "      <th>1</th>\n",
              "      <td>893</td>\n",
              "      <td>Wilkes, Mrs. James (Ellen Needs)</td>\n",
              "      <td>47.0</td>\n",
              "      <td>1.0</td>\n",
              "      <td>0.0</td>\n",
              "      <td>363272</td>\n",
              "      <td>2.645751</td>\n",
              "      <td>NaN</td>\n",
              "      <td>1</td>\n",
              "      <td>0</td>\n",
              "      <td>0</td>\n",
              "      <td>0</td>\n",
              "      <td>1</td>\n",
              "      <td>0</td>\n",
              "      <td>0</td>\n",
              "      <td>1</td>\n",
              "    </tr>\n",
              "    <tr>\n",
              "      <th>2</th>\n",
              "      <td>894</td>\n",
              "      <td>Myles, Mr. Thomas Francis</td>\n",
              "      <td>62.0</td>\n",
              "      <td>0.0</td>\n",
              "      <td>0.0</td>\n",
              "      <td>240276</td>\n",
              "      <td>3.112475</td>\n",
              "      <td>NaN</td>\n",
              "      <td>0</td>\n",
              "      <td>1</td>\n",
              "      <td>0</td>\n",
              "      <td>1</td>\n",
              "      <td>0</td>\n",
              "      <td>0</td>\n",
              "      <td>1</td>\n",
              "      <td>0</td>\n",
              "    </tr>\n",
              "    <tr>\n",
              "      <th>3</th>\n",
              "      <td>895</td>\n",
              "      <td>Wirz, Mr. Albert</td>\n",
              "      <td>27.0</td>\n",
              "      <td>0.0</td>\n",
              "      <td>0.0</td>\n",
              "      <td>315154</td>\n",
              "      <td>2.943213</td>\n",
              "      <td>NaN</td>\n",
              "      <td>0</td>\n",
              "      <td>1</td>\n",
              "      <td>0</td>\n",
              "      <td>0</td>\n",
              "      <td>1</td>\n",
              "      <td>0</td>\n",
              "      <td>0</td>\n",
              "      <td>1</td>\n",
              "    </tr>\n",
              "    <tr>\n",
              "      <th>4</th>\n",
              "      <td>896</td>\n",
              "      <td>Hirvonen, Mrs. Alexander (Helga E Lindqvist)</td>\n",
              "      <td>22.0</td>\n",
              "      <td>1.0</td>\n",
              "      <td>1.0</td>\n",
              "      <td>3101298</td>\n",
              "      <td>3.505353</td>\n",
              "      <td>NaN</td>\n",
              "      <td>1</td>\n",
              "      <td>0</td>\n",
              "      <td>0</td>\n",
              "      <td>0</td>\n",
              "      <td>1</td>\n",
              "      <td>0</td>\n",
              "      <td>0</td>\n",
              "      <td>1</td>\n",
              "    </tr>\n",
              "  </tbody>\n",
              "</table>\n",
              "</div>\n",
              "      <button class=\"colab-df-convert\" onclick=\"convertToInteractive('df-7e0ac79a-a9ef-413b-a4ab-b02bd9eea2ee')\"\n",
              "              title=\"Convert this dataframe to an interactive table.\"\n",
              "              style=\"display:none;\">\n",
              "        \n",
              "  <svg xmlns=\"http://www.w3.org/2000/svg\" height=\"24px\"viewBox=\"0 0 24 24\"\n",
              "       width=\"24px\">\n",
              "    <path d=\"M0 0h24v24H0V0z\" fill=\"none\"/>\n",
              "    <path d=\"M18.56 5.44l.94 2.06.94-2.06 2.06-.94-2.06-.94-.94-2.06-.94 2.06-2.06.94zm-11 1L8.5 8.5l.94-2.06 2.06-.94-2.06-.94L8.5 2.5l-.94 2.06-2.06.94zm10 10l.94 2.06.94-2.06 2.06-.94-2.06-.94-.94-2.06-.94 2.06-2.06.94z\"/><path d=\"M17.41 7.96l-1.37-1.37c-.4-.4-.92-.59-1.43-.59-.52 0-1.04.2-1.43.59L10.3 9.45l-7.72 7.72c-.78.78-.78 2.05 0 2.83L4 21.41c.39.39.9.59 1.41.59.51 0 1.02-.2 1.41-.59l7.78-7.78 2.81-2.81c.8-.78.8-2.07 0-2.86zM5.41 20L4 18.59l7.72-7.72 1.47 1.35L5.41 20z\"/>\n",
              "  </svg>\n",
              "      </button>\n",
              "      \n",
              "  <style>\n",
              "    .colab-df-container {\n",
              "      display:flex;\n",
              "      flex-wrap:wrap;\n",
              "      gap: 12px;\n",
              "    }\n",
              "\n",
              "    .colab-df-convert {\n",
              "      background-color: #E8F0FE;\n",
              "      border: none;\n",
              "      border-radius: 50%;\n",
              "      cursor: pointer;\n",
              "      display: none;\n",
              "      fill: #1967D2;\n",
              "      height: 32px;\n",
              "      padding: 0 0 0 0;\n",
              "      width: 32px;\n",
              "    }\n",
              "\n",
              "    .colab-df-convert:hover {\n",
              "      background-color: #E2EBFA;\n",
              "      box-shadow: 0px 1px 2px rgba(60, 64, 67, 0.3), 0px 1px 3px 1px rgba(60, 64, 67, 0.15);\n",
              "      fill: #174EA6;\n",
              "    }\n",
              "\n",
              "    [theme=dark] .colab-df-convert {\n",
              "      background-color: #3B4455;\n",
              "      fill: #D2E3FC;\n",
              "    }\n",
              "\n",
              "    [theme=dark] .colab-df-convert:hover {\n",
              "      background-color: #434B5C;\n",
              "      box-shadow: 0px 1px 3px 1px rgba(0, 0, 0, 0.15);\n",
              "      filter: drop-shadow(0px 1px 2px rgba(0, 0, 0, 0.3));\n",
              "      fill: #FFFFFF;\n",
              "    }\n",
              "  </style>\n",
              "\n",
              "      <script>\n",
              "        const buttonEl =\n",
              "          document.querySelector('#df-7e0ac79a-a9ef-413b-a4ab-b02bd9eea2ee button.colab-df-convert');\n",
              "        buttonEl.style.display =\n",
              "          google.colab.kernel.accessAllowed ? 'block' : 'none';\n",
              "\n",
              "        async function convertToInteractive(key) {\n",
              "          const element = document.querySelector('#df-7e0ac79a-a9ef-413b-a4ab-b02bd9eea2ee');\n",
              "          const dataTable =\n",
              "            await google.colab.kernel.invokeFunction('convertToInteractive',\n",
              "                                                     [key], {});\n",
              "          if (!dataTable) return;\n",
              "\n",
              "          const docLinkHtml = 'Like what you see? Visit the ' +\n",
              "            '<a target=\"_blank\" href=https://colab.research.google.com/notebooks/data_table.ipynb>data table notebook</a>'\n",
              "            + ' to learn more about interactive tables.';\n",
              "          element.innerHTML = '';\n",
              "          dataTable['output_type'] = 'display_data';\n",
              "          await google.colab.output.renderOutput(dataTable, element);\n",
              "          const docLink = document.createElement('div');\n",
              "          docLink.innerHTML = docLinkHtml;\n",
              "          element.appendChild(docLink);\n",
              "        }\n",
              "      </script>\n",
              "    </div>\n",
              "  </div>\n",
              "  "
            ]
          },
          "metadata": {},
          "execution_count": 33
        }
      ]
    },
    {
      "cell_type": "markdown",
      "source": [
        "## 5.6 Dropping Columns 🔻\n",
        "👉 Since **Cabin, Name, Ticket, and PassengerId** contains unique data, these columns will be **removed**."
      ],
      "metadata": {
        "id": "QXVlsYJWyBNY"
      }
    },
    {
      "cell_type": "code",
      "source": [
        "train_ds = train_ds.drop(['Cabin','Name','Ticket'], axis = 1)\n",
        "test_ds = test_ds.drop(['Cabin','Name','Ticket'], axis = 1)"
      ],
      "metadata": {
        "id": "FbdhAJkvyIka",
        "execution": {
          "iopub.status.busy": "2022-03-08T03:14:50.763325Z",
          "iopub.execute_input": "2022-03-08T03:14:50.764040Z",
          "iopub.status.idle": "2022-03-08T03:14:50.773662Z",
          "shell.execute_reply.started": "2022-03-08T03:14:50.763999Z",
          "shell.execute_reply": "2022-03-08T03:14:50.771886Z"
        },
        "trusted": true
      },
      "execution_count": null,
      "outputs": []
    },
    {
      "cell_type": "code",
      "source": [
        "train_ds1 = train_ds.drop(['PassengerId'], axis = 1)\n",
        "test_ds1 = test_ds.drop(['PassengerId'], axis = 1)"
      ],
      "metadata": {
        "id": "256GYE0t_bWP",
        "execution": {
          "iopub.status.busy": "2022-03-08T03:14:50.775472Z",
          "iopub.execute_input": "2022-03-08T03:14:50.775936Z",
          "iopub.status.idle": "2022-03-08T03:14:50.791364Z",
          "shell.execute_reply.started": "2022-03-08T03:14:50.775897Z",
          "shell.execute_reply": "2022-03-08T03:14:50.790219Z"
        },
        "trusted": true
      },
      "execution_count": null,
      "outputs": []
    },
    {
      "cell_type": "code",
      "source": [
        ""
      ],
      "metadata": {
        "colab": {
          "base_uri": "https://localhost:8080/",
          "height": 227
        },
        "id": "Rm_q-IRScqv9",
        "outputId": "bdc083af-16e3-46e8-a737-1af8c8328a9d"
      },
      "execution_count": null,
      "outputs": [
        {
          "output_type": "error",
          "ename": "NameError",
          "evalue": "ignored",
          "traceback": [
            "\u001b[0;31m---------------------------------------------------------------------------\u001b[0m",
            "\u001b[0;31mNameError\u001b[0m                                 Traceback (most recent call last)",
            "\u001b[0;32m<ipython-input-37-23c75beb3725>\u001b[0m in \u001b[0;36m<module>\u001b[0;34m()\u001b[0m\n\u001b[1;32m      1\u001b[0m \u001b[0;32mfrom\u001b[0m \u001b[0mimblearn\u001b[0m\u001b[0;34m.\u001b[0m\u001b[0mover_sampling\u001b[0m \u001b[0;32mimport\u001b[0m \u001b[0mSMOTE\u001b[0m\u001b[0;34m\u001b[0m\u001b[0;34m\u001b[0m\u001b[0m\n\u001b[1;32m      2\u001b[0m \u001b[0msm\u001b[0m \u001b[0;34m=\u001b[0m \u001b[0mSMOTE\u001b[0m\u001b[0;34m(\u001b[0m\u001b[0mrandom_state\u001b[0m \u001b[0;34m=\u001b[0m \u001b[0;36m2\u001b[0m\u001b[0;34m)\u001b[0m\u001b[0;34m\u001b[0m\u001b[0;34m\u001b[0m\u001b[0m\n\u001b[0;32m----> 3\u001b[0;31m \u001b[0mX_train\u001b[0m\u001b[0;34m,\u001b[0m \u001b[0my_train\u001b[0m \u001b[0;34m=\u001b[0m \u001b[0msm\u001b[0m\u001b[0;34m.\u001b[0m\u001b[0mfit_resample\u001b[0m\u001b[0;34m(\u001b[0m\u001b[0mpredictors\u001b[0m\u001b[0;34m,\u001b[0m \u001b[0mtarget\u001b[0m\u001b[0;34m.\u001b[0m\u001b[0mravel\u001b[0m\u001b[0;34m(\u001b[0m\u001b[0;34m)\u001b[0m\u001b[0;34m)\u001b[0m\u001b[0;34m\u001b[0m\u001b[0;34m\u001b[0m\u001b[0m\n\u001b[0m\u001b[1;32m      4\u001b[0m \u001b[0;34m\u001b[0m\u001b[0m\n",
            "\u001b[0;31mNameError\u001b[0m: name 'predictors' is not defined"
          ]
        }
      ]
    },
    {
      "cell_type": "markdown",
      "source": [
        "# 6. Dataset Preparation ⚙\n",
        "👉 This section will prepare the dataset before building the machine learning models"
      ],
      "metadata": {
        "id": "_de79gM448-k"
      }
    },
    {
      "cell_type": "markdown",
      "source": [
        "## 6.1 Splitting the dataset into 80% training, 20% test 🪓"
      ],
      "metadata": {
        "id": "pNHTvbvWZaR-"
      }
    },
    {
      "cell_type": "code",
      "source": [
        "predictors = train_ds1.drop([\"Survived\"], axis=1)\n",
        "target = train_ds1[\"Survived\"]\n",
        "\n",
        "x_train, x_test, y_train, y_test = train_test_split(predictors, target, test_size = 0.2, random_state = 0)"
      ],
      "metadata": {
        "id": "gJI8BBhM5Gs6",
        "execution": {
          "iopub.status.busy": "2022-03-08T03:14:50.793480Z",
          "iopub.execute_input": "2022-03-08T03:14:50.794054Z",
          "iopub.status.idle": "2022-03-08T03:14:50.823720Z",
          "shell.execute_reply.started": "2022-03-08T03:14:50.794006Z",
          "shell.execute_reply": "2022-03-08T03:14:50.822072Z"
        },
        "trusted": true
      },
      "execution_count": null,
      "outputs": []
    },
    {
      "cell_type": "markdown",
      "source": [
        "## 6.2 SMOTE Technique ⚒¶\n",
        "👉 Since the number of not survived passengers is more than survived passengers, **oversampling is carried out** to avoid overfitting."
      ],
      "metadata": {
        "id": "9m3EDfdWZaR_"
      }
    },
    {
      "cell_type": "code",
      "source": [
        "from imblearn.over_sampling import SMOTE\n",
        "x_train, y_train = SMOTE().fit_resample(x_train, y_train)"
      ],
      "metadata": {
        "execution": {
          "iopub.status.busy": "2022-03-08T03:14:50.825111Z",
          "iopub.execute_input": "2022-03-08T03:14:50.825731Z",
          "iopub.status.idle": "2022-03-08T03:14:51.009116Z",
          "shell.execute_reply.started": "2022-03-08T03:14:50.825693Z",
          "shell.execute_reply": "2022-03-08T03:14:51.008051Z"
        },
        "trusted": true,
        "id": "Nv5DcaLLZaR_"
      },
      "execution_count": null,
      "outputs": []
    },
    {
      "cell_type": "code",
      "source": [
        "sns.set_theme(style=\"darkgrid\")\n",
        "sns.countplot(y=y_train, data=test_ds, palette=\"mako_r\")\n",
        "plt.ylabel('Survived Status')\n",
        "plt.xlabel('Total')\n",
        "plt.show()"
      ],
      "metadata": {
        "execution": {
          "iopub.status.busy": "2022-03-08T03:14:51.010739Z",
          "iopub.execute_input": "2022-03-08T03:14:51.010935Z",
          "iopub.status.idle": "2022-03-08T03:14:51.203967Z",
          "shell.execute_reply.started": "2022-03-08T03:14:51.010913Z",
          "shell.execute_reply": "2022-03-08T03:14:51.202694Z"
        },
        "trusted": true,
        "colab": {
          "base_uri": "https://localhost:8080/",
          "height": 285
        },
        "id": "RfAowPtCZaR_",
        "outputId": "2a4247af-f731-4e79-8cd6-621f72b2889d"
      },
      "execution_count": null,
      "outputs": [
        {
          "output_type": "display_data",
          "data": {
            "text/plain": [
              "<Figure size 432x288 with 1 Axes>"
            ],
            "image/png": "[encoded data removed]"
          },
          "metadata": {}
        }
      ]
    },
    {
      "cell_type": "markdown",
      "source": [
        "# 7. Model Building 🛠"
      ],
      "metadata": {
        "id": "wcPIPfpa0kXf"
      }
    },
    {
      "cell_type": "markdown",
      "source": [
        "## 7.1 Logistic Regression"
      ],
      "metadata": {
        "id": "zWJ_7M6__NOZ"
      }
    },
    {
      "cell_type": "code",
      "source": [
        "LRclassifier = LogisticRegression(solver='liblinear', max_iter=5000)\n",
        "LRclassifier.fit(x_train, y_train)\n",
        "\n",
        "y_pred = LRclassifier.predict(x_test)\n",
        "\n",
        "print(classification_report(y_test, y_pred))\n",
        "print(confusion_matrix(y_test, y_pred))\n",
        "LRAcc = accuracy_score(y_pred,y_test)\n",
        "\n",
        "print('Logistic regression accuracy: {:.2f}%'.format(LRAcc*100))"
      ],
      "metadata": {
        "id": "HrTylbTL0j-3",
        "outputId": "ec59b3cb-9bed-47c4-ad74-00a1341dbc74",
        "execution": {
          "iopub.status.busy": "2022-03-08T03:14:51.205209Z",
          "iopub.execute_input": "2022-03-08T03:14:51.205427Z",
          "iopub.status.idle": "2022-03-08T03:14:51.229249Z",
          "shell.execute_reply.started": "2022-03-08T03:14:51.205399Z",
          "shell.execute_reply": "2022-03-08T03:14:51.228385Z"
        },
        "trusted": true,
        "colab": {
          "base_uri": "https://localhost:8080/"
        }
      },
      "execution_count": null,
      "outputs": [
        {
          "output_type": "stream",
          "name": "stdout",
          "text": [
            "              precision    recall  f1-score   support\n",
            "\n",
            "           0       0.85      0.81      0.83       110\n",
            "           1       0.72      0.77      0.74        69\n",
            "\n",
            "    accuracy                           0.79       179\n",
            "   macro avg       0.78      0.79      0.78       179\n",
            "weighted avg       0.80      0.79      0.79       179\n",
            "\n",
            "[[89 21]\n",
            " [16 53]]\n",
            "Logistic regression accuracy: 79.33%\n"
          ]
        }
      ]
    },
    {
      "cell_type": "code",
      "source": [
        "y_pred = LRclassifier.predict(x_test)\n",
        "y_pred"
      ],
      "metadata": {
        "colab": {
          "base_uri": "https://localhost:8080/"
        },
        "id": "ufWyjTOfdKVT",
        "outputId": "f19edc45-eeeb-4a2d-fe21-10388e290252"
      },
      "execution_count": null,
      "outputs": [
        {
          "output_type": "execute_result",
          "data": {
            "text/plain": [
              "array([0, 0, 0, 1, 1, 0, 1, 1, 1, 1, 0, 1, 0, 1, 1, 1, 0, 0, 0, 0, 0, 1,\n",
              "       0, 0, 1, 1, 0, 1, 1, 1, 0, 1, 0, 1, 0, 1, 0, 0, 0, 0, 0, 0, 0, 0,\n",
              "       1, 0, 0, 1, 0, 0, 0, 1, 1, 0, 1, 0, 0, 1, 0, 0, 0, 1, 1, 1, 1, 0,\n",
              "       1, 0, 1, 1, 1, 0, 1, 0, 0, 1, 1, 0, 0, 0, 0, 0, 1, 0, 0, 1, 1, 0,\n",
              "       1, 1, 0, 0, 0, 1, 1, 0, 1, 0, 0, 1, 0, 0, 0, 0, 1, 1, 1, 1, 0, 1,\n",
              "       0, 1, 0, 1, 0, 1, 1, 1, 0, 1, 0, 0, 0, 0, 0, 0, 0, 0, 0, 0, 1, 0,\n",
              "       0, 1, 0, 0, 0, 0, 0, 0, 0, 1, 0, 1, 1, 1, 0, 1, 1, 0, 0, 1, 1, 0,\n",
              "       1, 0, 1, 0, 1, 1, 0, 0, 1, 0, 0, 0, 0, 0, 0, 0, 0, 1, 0, 0, 1, 0,\n",
              "       1, 0, 0])"
            ]
          },
          "metadata": {},
          "execution_count": 43
        }
      ]
    },
    {
      "cell_type": "markdown",
      "source": [
        "## 7.2 Decision Tree"
      ],
      "metadata": {
        "id": "ntW52Jrq_JnS"
      }
    },
    {
      "cell_type": "code",
      "source": [
        "DTclassifier = DecisionTreeClassifier(max_leaf_nodes=10)\n",
        "DTclassifier.fit(x_train, y_train)\n",
        "\n",
        "y_pred = DTclassifier.predict(x_test)\n",
        "\n",
        "print(classification_report(y_test, y_pred))\n",
        "print(confusion_matrix(y_test, y_pred))\n",
        "DTAcc = accuracy_score(y_pred,y_test)\n",
        "\n",
        "print('Decision tree accuracy: {:.2f}%'.format(DTAcc*100))"
      ],
      "metadata": {
        "execution": {
          "iopub.status.busy": "2022-03-08T03:14:51.230339Z",
          "iopub.execute_input": "2022-03-08T03:14:51.230881Z",
          "iopub.status.idle": "2022-03-08T03:14:51.250071Z",
          "shell.execute_reply.started": "2022-03-08T03:14:51.230851Z",
          "shell.execute_reply": "2022-03-08T03:14:51.249070Z"
        },
        "trusted": true,
        "colab": {
          "base_uri": "https://localhost:8080/"
        },
        "id": "oqA7uxIQZaSB",
        "outputId": "8cfafc3a-3220-474e-9361-944a55b5f65b"
      },
      "execution_count": null,
      "outputs": [
        {
          "output_type": "stream",
          "name": "stdout",
          "text": [
            "              precision    recall  f1-score   support\n",
            "\n",
            "           0       0.82      0.90      0.86       110\n",
            "           1       0.81      0.68      0.74        69\n",
            "\n",
            "    accuracy                           0.82       179\n",
            "   macro avg       0.81      0.79      0.80       179\n",
            "weighted avg       0.82      0.82      0.81       179\n",
            "\n",
            "[[99 11]\n",
            " [22 47]]\n",
            "Decision tree accuracy: 81.56%\n"
          ]
        }
      ]
    },
    {
      "cell_type": "code",
      "source": [
        "scoreListDT = []\n",
        "for i in range(2,50):\n",
        "    DTclassifier = DecisionTreeClassifier(max_leaf_nodes=i)\n",
        "    DTclassifier.fit(x_train, y_train)\n",
        "    scoreListDT.append(DTclassifier.score(x_test, y_test))\n",
        "    \n",
        "plt.plot(range(2,50), scoreListDT)\n",
        "plt.xticks(np.arange(2,50,2))\n",
        "plt.xlabel(\"Leaf\")\n",
        "plt.ylabel(\"Score\")\n",
        "plt.show()\n",
        "DTAccMax = max(scoreListDT)\n",
        "print(\"DT Acc Max: {:.2f}%\".format(DTAccMax*100))"
      ],
      "metadata": {
        "execution": {
          "iopub.status.busy": "2022-03-08T03:14:51.252669Z",
          "iopub.execute_input": "2022-03-08T03:14:51.253057Z",
          "iopub.status.idle": "2022-03-08T03:14:51.871977Z",
          "shell.execute_reply.started": "2022-03-08T03:14:51.253016Z",
          "shell.execute_reply": "2022-03-08T03:14:51.870896Z"
        },
        "trusted": true,
        "colab": {
          "base_uri": "https://localhost:8080/",
          "height": 303
        },
        "id": "bKMZDgqqZaSB",
        "outputId": "afbd989a-d299-424d-e64e-0335da29ca45"
      },
      "execution_count": null,
      "outputs": [
        {
          "output_type": "display_data",
          "data": {
            "text/plain": [
              "<Figure size 432x288 with 1 Axes>"
            ],
            "image/png": "[encoded data removed]"
          },
          "metadata": {}
        },
        {
          "output_type": "stream",
          "name": "stdout",
          "text": [
            "DT Acc Max: 85.47%\n"
          ]
        }
      ]
    },
    {
      "cell_type": "markdown",
      "source": [
        "## 7.3 SVC"
      ],
      "metadata": {
        "id": "xOkrbV3m_lqC"
      }
    },
    {
      "cell_type": "code",
      "source": [
        "SVCclassifier = SVC(kernel='linear')\n",
        "SVCclassifier.fit(x_train, y_train)\n",
        "\n",
        "y_pred = SVCclassifier.predict(x_test)\n",
        "\n",
        "print(classification_report(y_test, y_pred))\n",
        "print(confusion_matrix(y_test, y_pred))\n",
        "SVCAcc = accuracy_score(y_pred,y_test)\n",
        "\n",
        "print('SVC accuracy: {:.2f}%'.format(SVCAcc*100))"
      ],
      "metadata": {
        "id": "GnfCIHWC_nUE",
        "outputId": "39d05932-0b4f-42f4-fa6f-b0bcb579c2eb",
        "execution": {
          "iopub.status.busy": "2022-03-08T03:14:51.873416Z",
          "iopub.execute_input": "2022-03-08T03:14:51.873706Z",
          "iopub.status.idle": "2022-03-08T03:14:58.292707Z",
          "shell.execute_reply.started": "2022-03-08T03:14:51.873678Z",
          "shell.execute_reply": "2022-03-08T03:14:58.290833Z"
        },
        "trusted": true,
        "colab": {
          "base_uri": "https://localhost:8080/"
        }
      },
      "execution_count": null,
      "outputs": [
        {
          "output_type": "stream",
          "name": "stdout",
          "text": [
            "              precision    recall  f1-score   support\n",
            "\n",
            "           0       0.82      0.84      0.83       110\n",
            "           1       0.73      0.71      0.72        69\n",
            "\n",
            "    accuracy                           0.79       179\n",
            "   macro avg       0.78      0.77      0.77       179\n",
            "weighted avg       0.79      0.79      0.79       179\n",
            "\n",
            "[[92 18]\n",
            " [20 49]]\n",
            "SVC accuracy: 78.77%\n"
          ]
        }
      ]
    },
    {
      "cell_type": "markdown",
      "source": [
        "## 7.4 K Neighbors Classifier"
      ],
      "metadata": {
        "id": "zUKU-1E2AMcb"
      }
    },
    {
      "cell_type": "code",
      "source": [
        "KNclassifier = KNeighborsClassifier(n_neighbors=50)\n",
        "KNclassifier.fit(x_train, y_train)\n",
        "\n",
        "y_pred = KNclassifier.predict(x_test)\n",
        "\n",
        "print(classification_report(y_test, y_pred))\n",
        "print(confusion_matrix(y_test, y_pred))\n",
        "KNAcc = accuracy_score(y_pred,y_test)\n",
        "\n",
        "print('K Neighbors Classifier accuracy: {:.2f}%'.format(KNAcc*100))"
      ],
      "metadata": {
        "id": "PcOABLDZ_7o3",
        "outputId": "0550285c-5935-4b22-9e83-f2671da739d4",
        "execution": {
          "iopub.status.busy": "2022-03-08T03:14:58.294368Z",
          "iopub.execute_input": "2022-03-08T03:14:58.295076Z",
          "iopub.status.idle": "2022-03-08T03:14:58.323191Z",
          "shell.execute_reply.started": "2022-03-08T03:14:58.295045Z",
          "shell.execute_reply": "2022-03-08T03:14:58.322310Z"
        },
        "trusted": true,
        "colab": {
          "base_uri": "https://localhost:8080/"
        }
      },
      "execution_count": null,
      "outputs": [
        {
          "output_type": "stream",
          "name": "stdout",
          "text": [
            "              precision    recall  f1-score   support\n",
            "\n",
            "           0       0.76      0.79      0.78       110\n",
            "           1       0.65      0.61      0.63        69\n",
            "\n",
            "    accuracy                           0.72       179\n",
            "   macro avg       0.70      0.70      0.70       179\n",
            "weighted avg       0.72      0.72      0.72       179\n",
            "\n",
            "[[87 23]\n",
            " [27 42]]\n",
            "K Neighbors Classifier accuracy: 72.07%\n"
          ]
        }
      ]
    },
    {
      "cell_type": "code",
      "source": [
        "scoreListknn = []\n",
        "for i in range(1,30):\n",
        "    KNclassifier = KNeighborsClassifier(n_neighbors = i)\n",
        "    KNclassifier.fit(x_train, y_train)\n",
        "    scoreListknn.append(KNclassifier.score(x_test, y_test))\n",
        "    \n",
        "plt.plot(range(1,30), scoreListknn)\n",
        "plt.xticks(np.arange(1,30,1))\n",
        "plt.xlabel(\"K value\")\n",
        "plt.ylabel(\"Score\")\n",
        "plt.show()\n",
        "KNAccMax = max(scoreListknn)\n",
        "print(\"KNN Acc Max: {:.2f}%\".format(KNAccMax*100))"
      ],
      "metadata": {
        "execution": {
          "iopub.status.busy": "2022-03-08T03:14:58.325390Z",
          "iopub.execute_input": "2022-03-08T03:14:58.325656Z",
          "iopub.status.idle": "2022-03-08T03:14:59.143125Z",
          "shell.execute_reply.started": "2022-03-08T03:14:58.325620Z",
          "shell.execute_reply": "2022-03-08T03:14:59.141696Z"
        },
        "trusted": true,
        "colab": {
          "base_uri": "https://localhost:8080/",
          "height": 303
        },
        "id": "VApcD48OZaSD",
        "outputId": "4381842d-e143-4e7f-e80b-3d280e0fa314"
      },
      "execution_count": null,
      "outputs": [
        {
          "output_type": "display_data",
          "data": {
            "text/plain": [
              "<Figure size 432x288 with 1 Axes>"
            ],
            "image/png": "[encoded data removed]"
          },
          "metadata": {}
        },
        {
          "output_type": "stream",
          "name": "stdout",
          "text": [
            "KNN Acc Max: 79.89%\n"
          ]
        }
      ]
    },
    {
      "cell_type": "markdown",
      "source": [
        "## 7.5 Random Forest"
      ],
      "metadata": {
        "id": "ndHDl5iIZaSE"
      }
    },
    {
      "cell_type": "code",
      "source": [
        "RFclassifier = RandomForestClassifier(max_leaf_nodes=10)\n",
        "RFclassifier.fit(x_train, y_train)\n",
        "\n",
        "y_pred = RFclassifier.predict(x_test)\n",
        "\n",
        "print(classification_report(y_test, y_pred))\n",
        "print(confusion_matrix(y_test, y_pred))\n",
        "\n",
        "from sklearn.metrics import accuracy_score\n",
        "RFAcc = accuracy_score(y_pred,y_test)\n",
        "print('Random Forest accuracy is: {:.2f}%'.format(RFAcc*100))"
      ],
      "metadata": {
        "execution": {
          "iopub.status.busy": "2022-03-08T03:14:59.149508Z",
          "iopub.execute_input": "2022-03-08T03:14:59.149813Z",
          "iopub.status.idle": "2022-03-08T03:14:59.402170Z",
          "shell.execute_reply.started": "2022-03-08T03:14:59.149784Z",
          "shell.execute_reply": "2022-03-08T03:14:59.400785Z"
        },
        "trusted": true,
        "colab": {
          "base_uri": "https://localhost:8080/"
        },
        "id": "jqfYGnzGZaSF",
        "outputId": "e2d6ec6d-c4b8-42f7-e296-8750a659f1fd"
      },
      "execution_count": null,
      "outputs": [
        {
          "output_type": "stream",
          "name": "stdout",
          "text": [
            "              precision    recall  f1-score   support\n",
            "\n",
            "           0       0.83      0.87      0.85       110\n",
            "           1       0.78      0.71      0.74        69\n",
            "\n",
            "    accuracy                           0.81       179\n",
            "   macro avg       0.80      0.79      0.80       179\n",
            "weighted avg       0.81      0.81      0.81       179\n",
            "\n",
            "[[96 14]\n",
            " [20 49]]\n",
            "Random Forest accuracy is: 81.01%\n"
          ]
        }
      ]
    },
    {
      "cell_type": "code",
      "source": [
        "scoreListRF = []\n",
        "for i in range(2,55):\n",
        "    RFclassifier = RandomForestClassifier(n_estimators = 1000, random_state = 1, max_leaf_nodes=i)\n",
        "    RFclassifier.fit(x_train, y_train)\n",
        "    scoreListRF.append(RFclassifier.score(x_test, y_test))\n",
        "    \n",
        "plt.plot(range(2,55), scoreListRF)\n",
        "plt.xticks(np.arange(2,55,5))\n",
        "plt.xlabel(\"RF Value\")\n",
        "plt.ylabel(\"Score\")\n",
        "plt.show()\n",
        "RFAccMax = max(scoreListRF)\n",
        "print(\"RF Acc Max: {:.2f}%\".format(RFAccMax*100))"
      ],
      "metadata": {
        "execution": {
          "iopub.status.busy": "2022-03-08T03:14:59.404492Z",
          "iopub.execute_input": "2022-03-08T03:14:59.404833Z",
          "iopub.status.idle": "2022-03-08T03:16:35.427838Z",
          "shell.execute_reply.started": "2022-03-08T03:14:59.404796Z",
          "shell.execute_reply": "2022-03-08T03:16:35.426690Z"
        },
        "trusted": true,
        "colab": {
          "base_uri": "https://localhost:8080/",
          "height": 305
        },
        "id": "C403MC34ZaSF",
        "outputId": "4e4d8b8d-a8e1-412b-eb3c-201a7f63e4cb"
      },
      "execution_count": null,
      "outputs": [
        {
          "output_type": "display_data",
          "data": {
            "text/plain": [
              "<Figure size 432x288 with 1 Axes>"
            ],
            "image/png": "[encoded data removed]"
          },
          "metadata": {}
        },
        {
          "output_type": "stream",
          "name": "stdout",
          "text": [
            "RF Acc Max: 83.80%\n"
          ]
        }
      ]
    },
    {
      "cell_type": "markdown",
      "source": [
        "## 7.6 Gradient Boosting"
      ],
      "metadata": {
        "id": "RatlexRDZaSF"
      }
    },
    {
      "cell_type": "code",
      "source": [
        "paramsGB={'n_estimators':[100,200,300,400,500],\n",
        "      'max_depth':[1,2,3,4,5],\n",
        "      'max_leaf_nodes':[2,5,10,20,30,40,50]}"
      ],
      "metadata": {
        "execution": {
          "iopub.status.busy": "2022-03-08T03:16:35.429327Z",
          "iopub.execute_input": "2022-03-08T03:16:35.429628Z",
          "iopub.status.idle": "2022-03-08T03:16:35.435967Z",
          "shell.execute_reply.started": "2022-03-08T03:16:35.429599Z",
          "shell.execute_reply": "2022-03-08T03:16:35.434748Z"
        },
        "trusted": true,
        "id": "bGgDiv_rZaSF"
      },
      "execution_count": null,
      "outputs": []
    },
    {
      "cell_type": "code",
      "source": [
        "GB = RandomizedSearchCV(GradientBoostingClassifier(), paramsGB, cv=10)\n",
        "GB.fit(x_train,y_train)"
      ],
      "metadata": {
        "execution": {
          "iopub.status.busy": "2022-03-08T03:16:35.437701Z",
          "iopub.execute_input": "2022-03-08T03:16:35.437921Z",
          "iopub.status.idle": "2022-03-08T03:17:12.619142Z",
          "shell.execute_reply.started": "2022-03-08T03:16:35.437895Z",
          "shell.execute_reply": "2022-03-08T03:17:12.618363Z"
        },
        "trusted": true,
        "colab": {
          "base_uri": "https://localhost:8080/"
        },
        "id": "oyiAJlOuZaSG",
        "outputId": "36695d3d-e084-4c73-aaf2-7fb9f34c7578"
      },
      "execution_count": null,
      "outputs": [
        {
          "output_type": "execute_result",
          "data": {
            "text/plain": [
              "RandomizedSearchCV(cv=10, estimator=GradientBoostingClassifier(),\n",
              "                   param_distributions={'max_depth': [1, 2, 3, 4, 5],\n",
              "                                        'max_leaf_nodes': [2, 5, 10, 20, 30, 40,\n",
              "                                                           50],\n",
              "                                        'n_estimators': [100, 200, 300, 400,\n",
              "                                                         500]})"
            ]
          },
          "metadata": {},
          "execution_count": 52
        }
      ]
    },
    {
      "cell_type": "code",
      "source": [
        "print(GB.best_estimator_)\n",
        "print(GB.best_score_)\n",
        "print(GB.best_params_)\n",
        "print(GB.best_index_)"
      ],
      "metadata": {
        "execution": {
          "iopub.status.busy": "2022-03-08T03:17:12.620004Z",
          "iopub.execute_input": "2022-03-08T03:17:12.620185Z",
          "iopub.status.idle": "2022-03-08T03:17:12.627113Z",
          "shell.execute_reply.started": "2022-03-08T03:17:12.620163Z",
          "shell.execute_reply": "2022-03-08T03:17:12.626373Z"
        },
        "trusted": true,
        "colab": {
          "base_uri": "https://localhost:8080/"
        },
        "id": "PK5ozHu9ZaSG",
        "outputId": "467c83ce-a79a-4902-8a37-00634e606ce7"
      },
      "execution_count": null,
      "outputs": [
        {
          "output_type": "stream",
          "name": "stdout",
          "text": [
            "GradientBoostingClassifier(max_leaf_nodes=30, n_estimators=300)\n",
            "0.8418364681295717\n",
            "{'n_estimators': 300, 'max_leaf_nodes': 30, 'max_depth': 3}\n",
            "5\n"
          ]
        }
      ]
    },
    {
      "cell_type": "code",
      "source": [
        "GBclassifier = GradientBoostingClassifier(n_estimators=400, max_depth=3, max_leaf_nodes=10)\n",
        "GBclassifier.fit(x_train, y_train)\n",
        "\n",
        "y_pred = GBclassifier.predict(x_test)\n",
        "\n",
        "print(classification_report(y_test, y_pred))\n",
        "print(confusion_matrix(y_test, y_pred))\n",
        "\n",
        "from sklearn.metrics import accuracy_score\n",
        "GBAcc = accuracy_score(y_pred,y_test)\n",
        "print('Gradient Boosting accuracy is: {:.2f}%'.format(GBAcc*100))"
      ],
      "metadata": {
        "execution": {
          "iopub.status.busy": "2022-03-08T03:17:12.628666Z",
          "iopub.execute_input": "2022-03-08T03:17:12.629134Z",
          "iopub.status.idle": "2022-03-08T03:17:13.216276Z",
          "shell.execute_reply.started": "2022-03-08T03:17:12.629096Z",
          "shell.execute_reply": "2022-03-08T03:17:13.214531Z"
        },
        "trusted": true,
        "colab": {
          "base_uri": "https://localhost:8080/"
        },
        "id": "xGQpyEkfZaSG",
        "outputId": "6ebf56c3-64d0-401a-fb3d-f93ae2f41674"
      },
      "execution_count": null,
      "outputs": [
        {
          "output_type": "stream",
          "name": "stdout",
          "text": [
            "              precision    recall  f1-score   support\n",
            "\n",
            "           0       0.86      0.92      0.89       110\n",
            "           1       0.85      0.77      0.81        69\n",
            "\n",
            "    accuracy                           0.86       179\n",
            "   macro avg       0.86      0.84      0.85       179\n",
            "weighted avg       0.86      0.86      0.86       179\n",
            "\n",
            "[[101   9]\n",
            " [ 16  53]]\n",
            "Gradient Boosting accuracy is: 86.03%\n"
          ]
        }
      ]
    },
    {
      "cell_type": "markdown",
      "source": [
        "# 8. Model Comparison 👀"
      ],
      "metadata": {
        "id": "m90fGTYhZaSH"
      }
    },
    {
      "cell_type": "code",
      "source": [
        "compare = pd.DataFrame({'Model': ['Logistic Regression', 'Decision Tree', 'SVC', 'K Neighbors Classifier', 'Random Forest Classifier'\n",
        "                                 ,'Random Forest Max', 'K Neighbors Max', 'Decision Tree Max', 'Gradient Boosting'], \n",
        "                        'Accuracy': [LRAcc*100, DTAcc*100, SVCAcc*100 , KNAcc*100, RFAcc*100, RFAccMax*100, \n",
        "                                     KNAccMax*100, DTAccMax*100, GBAcc*100]})\n",
        "compare.sort_values(by='Accuracy', ascending=False)"
      ],
      "metadata": {
        "id": "K2PSfB_YAyPK",
        "outputId": "f322e8b9-f177-4c47-8e93-1e718e3d05e5",
        "execution": {
          "iopub.status.busy": "2022-03-08T03:17:13.217970Z",
          "iopub.execute_input": "2022-03-08T03:17:13.218285Z",
          "iopub.status.idle": "2022-03-08T03:17:13.236860Z",
          "shell.execute_reply.started": "2022-03-08T03:17:13.218246Z",
          "shell.execute_reply": "2022-03-08T03:17:13.236029Z"
        },
        "trusted": true,
        "colab": {
          "base_uri": "https://localhost:8080/",
          "height": 331
        }
      },
      "execution_count": null,
      "outputs": [
        {
          "output_type": "execute_result",
          "data": {
            "text/plain": [
              "                      Model   Accuracy\n",
              "8         Gradient Boosting  86.033520\n",
              "7         Decision Tree Max  85.474860\n",
              "5         Random Forest Max  83.798883\n",
              "1             Decision Tree  81.564246\n",
              "4  Random Forest Classifier  81.005587\n",
              "6           K Neighbors Max  79.888268\n",
              "0       Logistic Regression  79.329609\n",
              "2                       SVC  78.770950\n",
              "3    K Neighbors Classifier  72.067039"
            ],
            "text/html": [
              "\n",
              "  <div id=\"df-5f351d42-2baf-449c-b8dd-1a1441e6fd69\">\n",
              "    <div class=\"colab-df-container\">\n",
              "      <div>\n",
              "<style scoped>\n",
              "    .dataframe tbody tr th:only-of-type {\n",
              "        vertical-align: middle;\n",
              "    }\n",
              "\n",
              "    .dataframe tbody tr th {\n",
              "        vertical-align: top;\n",
              "    }\n",
              "\n",
              "    .dataframe thead th {\n",
              "        text-align: right;\n",
              "    }\n",
              "</style>\n",
              "<table border=\"1\" class=\"dataframe\">\n",
              "  <thead>\n",
              "    <tr style=\"text-align: right;\">\n",
              "      <th></th>\n",
              "      <th>Model</th>\n",
              "      <th>Accuracy</th>\n",
              "    </tr>\n",
              "  </thead>\n",
              "  <tbody>\n",
              "    <tr>\n",
              "      <th>8</th>\n",
              "      <td>Gradient Boosting</td>\n",
              "      <td>86.033520</td>\n",
              "    </tr>\n",
              "    <tr>\n",
              "      <th>7</th>\n",
              "      <td>Decision Tree Max</td>\n",
              "      <td>85.474860</td>\n",
              "    </tr>\n",
              "    <tr>\n",
              "      <th>5</th>\n",
              "      <td>Random Forest Max</td>\n",
              "      <td>83.798883</td>\n",
              "    </tr>\n",
              "    <tr>\n",
              "      <th>1</th>\n",
              "      <td>Decision Tree</td>\n",
              "      <td>81.564246</td>\n",
              "    </tr>\n",
              "    <tr>\n",
              "      <th>4</th>\n",
              "      <td>Random Forest Classifier</td>\n",
              "      <td>81.005587</td>\n",
              "    </tr>\n",
              "    <tr>\n",
              "      <th>6</th>\n",
              "      <td>K Neighbors Max</td>\n",
              "      <td>79.888268</td>\n",
              "    </tr>\n",
              "    <tr>\n",
              "      <th>0</th>\n",
              "      <td>Logistic Regression</td>\n",
              "      <td>79.329609</td>\n",
              "    </tr>\n",
              "    <tr>\n",
              "      <th>2</th>\n",
              "      <td>SVC</td>\n",
              "      <td>78.770950</td>\n",
              "    </tr>\n",
              "    <tr>\n",
              "      <th>3</th>\n",
              "      <td>K Neighbors Classifier</td>\n",
              "      <td>72.067039</td>\n",
              "    </tr>\n",
              "  </tbody>\n",
              "</table>\n",
              "</div>\n",
              "      <button class=\"colab-df-convert\" onclick=\"convertToInteractive('df-5f351d42-2baf-449c-b8dd-1a1441e6fd69')\"\n",
              "              title=\"Convert this dataframe to an interactive table.\"\n",
              "              style=\"display:none;\">\n",
              "        \n",
              "  <svg xmlns=\"http://www.w3.org/2000/svg\" height=\"24px\"viewBox=\"0 0 24 24\"\n",
              "       width=\"24px\">\n",
              "    <path d=\"M0 0h24v24H0V0z\" fill=\"none\"/>\n",
              "    <path d=\"M18.56 5.44l.94 2.06.94-2.06 2.06-.94-2.06-.94-.94-2.06-.94 2.06-2.06.94zm-11 1L8.5 8.5l.94-2.06 2.06-.94-2.06-.94L8.5 2.5l-.94 2.06-2.06.94zm10 10l.94 2.06.94-2.06 2.06-.94-2.06-.94-.94-2.06-.94 2.06-2.06.94z\"/><path d=\"M17.41 7.96l-1.37-1.37c-.4-.4-.92-.59-1.43-.59-.52 0-1.04.2-1.43.59L10.3 9.45l-7.72 7.72c-.78.78-.78 2.05 0 2.83L4 21.41c.39.39.9.59 1.41.59.51 0 1.02-.2 1.41-.59l7.78-7.78 2.81-2.81c.8-.78.8-2.07 0-2.86zM5.41 20L4 18.59l7.72-7.72 1.47 1.35L5.41 20z\"/>\n",
              "  </svg>\n",
              "      </button>\n",
              "      \n",
              "  <style>\n",
              "    .colab-df-container {\n",
              "      display:flex;\n",
              "      flex-wrap:wrap;\n",
              "      gap: 12px;\n",
              "    }\n",
              "\n",
              "    .colab-df-convert {\n",
              "      background-color: #E8F0FE;\n",
              "      border: none;\n",
              "      border-radius: 50%;\n",
              "      cursor: pointer;\n",
              "      display: none;\n",
              "      fill: #1967D2;\n",
              "      height: 32px;\n",
              "      padding: 0 0 0 0;\n",
              "      width: 32px;\n",
              "    }\n",
              "\n",
              "    .colab-df-convert:hover {\n",
              "      background-color: #E2EBFA;\n",
              "      box-shadow: 0px 1px 2px rgba(60, 64, 67, 0.3), 0px 1px 3px 1px rgba(60, 64, 67, 0.15);\n",
              "      fill: #174EA6;\n",
              "    }\n",
              "\n",
              "    [theme=dark] .colab-df-convert {\n",
              "      background-color: #3B4455;\n",
              "      fill: #D2E3FC;\n",
              "    }\n",
              "\n",
              "    [theme=dark] .colab-df-convert:hover {\n",
              "      background-color: #434B5C;\n",
              "      box-shadow: 0px 1px 3px 1px rgba(0, 0, 0, 0.15);\n",
              "      filter: drop-shadow(0px 1px 2px rgba(0, 0, 0, 0.3));\n",
              "      fill: #FFFFFF;\n",
              "    }\n",
              "  </style>\n",
              "\n",
              "      <script>\n",
              "        const buttonEl =\n",
              "          document.querySelector('#df-5f351d42-2baf-449c-b8dd-1a1441e6fd69 button.colab-df-convert');\n",
              "        buttonEl.style.display =\n",
              "          google.colab.kernel.accessAllowed ? 'block' : 'none';\n",
              "\n",
              "        async function convertToInteractive(key) {\n",
              "          const element = document.querySelector('#df-5f351d42-2baf-449c-b8dd-1a1441e6fd69');\n",
              "          const dataTable =\n",
              "            await google.colab.kernel.invokeFunction('convertToInteractive',\n",
              "                                                     [key], {});\n",
              "          if (!dataTable) return;\n",
              "\n",
              "          const docLinkHtml = 'Like what you see? Visit the ' +\n",
              "            '<a target=\"_blank\" href=https://colab.research.google.com/notebooks/data_table.ipynb>data table notebook</a>'\n",
              "            + ' to learn more about interactive tables.';\n",
              "          element.innerHTML = '';\n",
              "          dataTable['output_type'] = 'display_data';\n",
              "          await google.colab.output.renderOutput(dataTable, element);\n",
              "          const docLink = document.createElement('div');\n",
              "          docLink.innerHTML = docLinkHtml;\n",
              "          element.appendChild(docLink);\n",
              "        }\n",
              "      </script>\n",
              "    </div>\n",
              "  </div>\n",
              "  "
            ]
          },
          "metadata": {},
          "execution_count": 55
        }
      ]
    },
    {
      "cell_type": "markdown",
      "source": [
        "👉 From the results, some models can achieve **up to 80% accuracy**."
      ],
      "metadata": {
        "id": "9u81r7yyAIsk"
      }
    },
    {
      "cell_type": "markdown",
      "source": [
        "# 9. Output 📤\n",
        "👉 The next step will make output results in csv file"
      ],
      "metadata": {
        "id": "WmA-fSVTZaSH"
      }
    },
    {
      "cell_type": "markdown",
      "source": [
        "## 9.1 Making output file 📄"
      ],
      "metadata": {
        "id": "4o6dvAIJZaSH"
      }
    },
    {
      "cell_type": "code",
      "source": [
        "RFclassifier = RandomForestClassifier(n_estimators = 1000, random_state = 1, max_leaf_nodes=48)\n",
        "RFclassifier.fit(x_train, y_train)\n",
        "scoreListRF.append(RFclassifier.score(x_test, y_test))\n",
        "\n",
        "prediction = RFclassifier.predict(test_ds1)"
      ],
      "metadata": {
        "execution": {
          "iopub.status.busy": "2022-03-08T03:17:13.238064Z",
          "iopub.execute_input": "2022-03-08T03:17:13.238687Z",
          "iopub.status.idle": "2022-03-08T03:17:15.820723Z",
          "shell.execute_reply.started": "2022-03-08T03:17:13.238645Z",
          "shell.execute_reply": "2022-03-08T03:17:15.819849Z"
        },
        "trusted": true,
        "id": "9UCv62e7ZaSI"
      },
      "execution_count": null,
      "outputs": []
    },
    {
      "cell_type": "code",
      "source": [
        "output = pd.DataFrame({'PassengerId': test_ds['PassengerId'] , 'Survived': prediction})\n",
        "output.to_csv('submission.csv', index=False)"
      ],
      "metadata": {
        "id": "xt9IK2Rx_DEN",
        "execution": {
          "iopub.status.busy": "2022-03-08T03:17:15.821736Z",
          "iopub.execute_input": "2022-03-08T03:17:15.822334Z",
          "iopub.status.idle": "2022-03-08T03:17:15.830989Z",
          "shell.execute_reply.started": "2022-03-08T03:17:15.822304Z",
          "shell.execute_reply": "2022-03-08T03:17:15.830223Z"
        },
        "trusted": true
      },
      "execution_count": null,
      "outputs": []
    },
    {
      "cell_type": "markdown",
      "source": [
        "## 9.2 Output File (CSV) 📄"
      ],
      "metadata": {
        "id": "I0lMT2m7ZaSI"
      }
    },
    {
      "cell_type": "code",
      "source": [
        "predcsv = pd.read_csv('./submission.csv')\n",
        "predcsv.head()"
      ],
      "metadata": {
        "execution": {
          "iopub.status.busy": "2022-03-08T03:17:15.832294Z",
          "iopub.execute_input": "2022-03-08T03:17:15.832505Z",
          "iopub.status.idle": "2022-03-08T03:17:15.853347Z",
          "shell.execute_reply.started": "2022-03-08T03:17:15.832477Z",
          "shell.execute_reply": "2022-03-08T03:17:15.852683Z"
        },
        "trusted": true,
        "colab": {
          "base_uri": "https://localhost:8080/",
          "height": 206
        },
        "id": "wmIICyRkZaSI",
        "outputId": "615527f2-f6b7-48d4-d46e-c2b9e96899ad"
      },
      "execution_count": null,
      "outputs": [
        {
          "output_type": "execute_result",
          "data": {
            "text/plain": [
              "   PassengerId  Survived\n",
              "0          892         0\n",
              "1          893         0\n",
              "2          894         0\n",
              "3          895         0\n",
              "4          896         1"
            ],
            "text/html": [
              "\n",
              "  <div id=\"df-db9771f9-17bb-4b37-9af2-2a585d4fdc16\">\n",
              "    <div class=\"colab-df-container\">\n",
              "      <div>\n",
              "<style scoped>\n",
              "    .dataframe tbody tr th:only-of-type {\n",
              "        vertical-align: middle;\n",
              "    }\n",
              "\n",
              "    .dataframe tbody tr th {\n",
              "        vertical-align: top;\n",
              "    }\n",
              "\n",
              "    .dataframe thead th {\n",
              "        text-align: right;\n",
              "    }\n",
              "</style>\n",
              "<table border=\"1\" class=\"dataframe\">\n",
              "  <thead>\n",
              "    <tr style=\"text-align: right;\">\n",
              "      <th></th>\n",
              "      <th>PassengerId</th>\n",
              "      <th>Survived</th>\n",
              "    </tr>\n",
              "  </thead>\n",
              "  <tbody>\n",
              "    <tr>\n",
              "      <th>0</th>\n",
              "      <td>892</td>\n",
              "      <td>0</td>\n",
              "    </tr>\n",
              "    <tr>\n",
              "      <th>1</th>\n",
              "      <td>893</td>\n",
              "      <td>0</td>\n",
              "    </tr>\n",
              "    <tr>\n",
              "      <th>2</th>\n",
              "      <td>894</td>\n",
              "      <td>0</td>\n",
              "    </tr>\n",
              "    <tr>\n",
              "      <th>3</th>\n",
              "      <td>895</td>\n",
              "      <td>0</td>\n",
              "    </tr>\n",
              "    <tr>\n",
              "      <th>4</th>\n",
              "      <td>896</td>\n",
              "      <td>1</td>\n",
              "    </tr>\n",
              "  </tbody>\n",
              "</table>\n",
              "</div>\n",
              "      <button class=\"colab-df-convert\" onclick=\"convertToInteractive('df-db9771f9-17bb-4b37-9af2-2a585d4fdc16')\"\n",
              "              title=\"Convert this dataframe to an interactive table.\"\n",
              "              style=\"display:none;\">\n",
              "        \n",
              "  <svg xmlns=\"http://www.w3.org/2000/svg\" height=\"24px\"viewBox=\"0 0 24 24\"\n",
              "       width=\"24px\">\n",
              "    <path d=\"M0 0h24v24H0V0z\" fill=\"none\"/>\n",
              "    <path d=\"M18.56 5.44l.94 2.06.94-2.06 2.06-.94-2.06-.94-.94-2.06-.94 2.06-2.06.94zm-11 1L8.5 8.5l.94-2.06 2.06-.94-2.06-.94L8.5 2.5l-.94 2.06-2.06.94zm10 10l.94 2.06.94-2.06 2.06-.94-2.06-.94-.94-2.06-.94 2.06-2.06.94z\"/><path d=\"M17.41 7.96l-1.37-1.37c-.4-.4-.92-.59-1.43-.59-.52 0-1.04.2-1.43.59L10.3 9.45l-7.72 7.72c-.78.78-.78 2.05 0 2.83L4 21.41c.39.39.9.59 1.41.59.51 0 1.02-.2 1.41-.59l7.78-7.78 2.81-2.81c.8-.78.8-2.07 0-2.86zM5.41 20L4 18.59l7.72-7.72 1.47 1.35L5.41 20z\"/>\n",
              "  </svg>\n",
              "      </button>\n",
              "      \n",
              "  <style>\n",
              "    .colab-df-container {\n",
              "      display:flex;\n",
              "      flex-wrap:wrap;\n",
              "      gap: 12px;\n",
              "    }\n",
              "\n",
              "    .colab-df-convert {\n",
              "      background-color: #E8F0FE;\n",
              "      border: none;\n",
              "      border-radius: 50%;\n",
              "      cursor: pointer;\n",
              "      display: none;\n",
              "      fill: #1967D2;\n",
              "      height: 32px;\n",
              "      padding: 0 0 0 0;\n",
              "      width: 32px;\n",
              "    }\n",
              "\n",
              "    .colab-df-convert:hover {\n",
              "      background-color: #E2EBFA;\n",
              "      box-shadow: 0px 1px 2px rgba(60, 64, 67, 0.3), 0px 1px 3px 1px rgba(60, 64, 67, 0.15);\n",
              "      fill: #174EA6;\n",
              "    }\n",
              "\n",
              "    [theme=dark] .colab-df-convert {\n",
              "      background-color: #3B4455;\n",
              "      fill: #D2E3FC;\n",
              "    }\n",
              "\n",
              "    [theme=dark] .colab-df-convert:hover {\n",
              "      background-color: #434B5C;\n",
              "      box-shadow: 0px 1px 3px 1px rgba(0, 0, 0, 0.15);\n",
              "      filter: drop-shadow(0px 1px 2px rgba(0, 0, 0, 0.3));\n",
              "      fill: #FFFFFF;\n",
              "    }\n",
              "  </style>\n",
              "\n",
              "      <script>\n",
              "        const buttonEl =\n",
              "          document.querySelector('#df-db9771f9-17bb-4b37-9af2-2a585d4fdc16 button.colab-df-convert');\n",
              "        buttonEl.style.display =\n",
              "          google.colab.kernel.accessAllowed ? 'block' : 'none';\n",
              "\n",
              "        async function convertToInteractive(key) {\n",
              "          const element = document.querySelector('#df-db9771f9-17bb-4b37-9af2-2a585d4fdc16');\n",
              "          const dataTable =\n",
              "            await google.colab.kernel.invokeFunction('convertToInteractive',\n",
              "                                                     [key], {});\n",
              "          if (!dataTable) return;\n",
              "\n",
              "          const docLinkHtml = 'Like what you see? Visit the ' +\n",
              "            '<a target=\"_blank\" href=https://colab.research.google.com/notebooks/data_table.ipynb>data table notebook</a>'\n",
              "            + ' to learn more about interactive tables.';\n",
              "          element.innerHTML = '';\n",
              "          dataTable['output_type'] = 'display_data';\n",
              "          await google.colab.output.renderOutput(dataTable, element);\n",
              "          const docLink = document.createElement('div');\n",
              "          docLink.innerHTML = docLinkHtml;\n",
              "          element.appendChild(docLink);\n",
              "        }\n",
              "      </script>\n",
              "    </div>\n",
              "  </div>\n",
              "  "
            ]
          },
          "metadata": {},
          "execution_count": 59
        }
      ]
    }
  ]
}